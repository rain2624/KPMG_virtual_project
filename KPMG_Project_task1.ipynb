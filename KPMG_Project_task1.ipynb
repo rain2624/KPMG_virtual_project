{
  "nbformat": 4,
  "nbformat_minor": 0,
  "metadata": {
    "colab": {
      "provenance": [],
      "toc_visible": true,
      "authorship_tag": "ABX9TyNL03NQr3VfHGl3rjz+DzQ6",
      "include_colab_link": true
    },
    "kernelspec": {
      "name": "python3",
      "display_name": "Python 3"
    },
    "language_info": {
      "name": "python"
    }
  },
  "cells": [
    {
      "cell_type": "markdown",
      "metadata": {
        "id": "view-in-github",
        "colab_type": "text"
      },
      "source": [
        "<a href=\"https://colab.research.google.com/github/rain2624/KPMG_virtual_project/blob/main/KPMG_Project_task1.ipynb\" target=\"_parent\"><img src=\"https://colab.research.google.com/assets/colab-badge.svg\" alt=\"Open In Colab\"/></a>"
      ]
    },
    {
      "cell_type": "markdown",
      "source": [
        "# KPMG (Virtual Data Analytics Internship)\n",
        "\n",
        "---\n",
        "\n",
        "The internship involves solving a project related to its client Sprocket Central Pty Ltd. It is a medium size bikes & cycling accessories organisation, has approached Tony Smith (Partner) in KPMG’s Lighthouse & Innovation Team. \n",
        "\n",
        "Primarily, Sprocket Central Pty Ltd needs help with its customer and transactions data. The organisation has a large dataset relating to its customers, but their team is unsure how to effectively analyse it to help optimise its marketing strategy. \n",
        "\n",
        "The client provided KPMG with 3 datasets:\n",
        "\n",
        "*  Customer Demographic \n",
        "*  Customer Addresses\n",
        "*  Transactions data in the past 3 months\n",
        "\n",
        "Over the course of the client project there will be 3 task involved:\n",
        "\n",
        "1.   Data Quality Assessment \n",
        "2.   Data model building\n",
        "3.   Data visualization\n",
        "\n"
      ],
      "metadata": {
        "id": "hVjs59nU-vka"
      }
    },
    {
      "cell_type": "markdown",
      "source": [
        "## 1. Data Quality Assessments\n",
        "---\n",
        "\n",
        "\n",
        "In this stage we are going to meet the following criteria:\n",
        "1. Accuracy \n",
        "2. Completeness\n",
        "3. Consistency\n",
        "4. Relevancy\n",
        "5. Validity\n",
        "6. Unique"
      ],
      "metadata": {
        "id": "XQ0b-SPWC1iT"
      }
    },
    {
      "cell_type": "markdown",
      "source": [
        "### 1.Background of each dataset\n",
        "\n",
        "---"
      ],
      "metadata": {
        "id": "-54qajfjLufJ"
      }
    },
    {
      "cell_type": "markdown",
      "source": [
        "**Importing the libraries and the dataset**"
      ],
      "metadata": {
        "id": "B1ac4lOoD9zz"
      }
    },
    {
      "cell_type": "code",
      "execution_count": null,
      "metadata": {
        "id": "7FuH4VZL-pYc"
      },
      "outputs": [],
      "source": [
        "# Importing library\n",
        "import numpy as np\n",
        "import pandas as pd\n",
        "import matplotlib.pyplot as plt\n"
      ]
    },
    {
      "cell_type": "code",
      "source": [
        "# Importing dataset\n",
        "sprocket_central =  pd.ExcelFile('sprocket_central.xlsx')\n",
        "transactions =  pd.read_excel(sprocket_central, 'Transactions')"
      ],
      "metadata": {
        "id": "dORCUNBSFLWW"
      },
      "execution_count": null,
      "outputs": []
    },
    {
      "cell_type": "code",
      "source": [
        "# Let's import other dataset as well:\n",
        "new_customer_list =  pd.read_excel(sprocket_central, 'NewCustomerList')\n",
        "customer_demographic =  pd.read_excel(sprocket_central, 'CustomerDemographic')\n",
        "customer_address =  pd.read_excel(sprocket_central, 'CustomerAddress')"
      ],
      "metadata": {
        "id": "itNCIAPCwCp1",
        "colab": {
          "base_uri": "https://localhost:8080/"
        },
        "outputId": "5b3b1ee7-b1bd-42b3-8c7b-354997e57b17"
      },
      "execution_count": null,
      "outputs": [
        {
          "output_type": "stream",
          "name": "stderr",
          "text": [
            "/usr/local/lib/python3.7/dist-packages/ipykernel_launcher.py:2: FutureWarning: Inferring datetime64[ns] from data containing strings is deprecated and will be removed in a future version. To retain the old behavior explicitly pass Series(data, dtype={value.dtype})\n",
            "  \n",
            "/usr/local/lib/python3.7/dist-packages/ipykernel_launcher.py:3: FutureWarning: Inferring datetime64[ns] from data containing strings is deprecated and will be removed in a future version. To retain the old behavior explicitly pass Series(data, dtype={value.dtype})\n",
            "  This is separate from the ipykernel package so we can avoid doing imports until\n"
          ]
        }
      ]
    },
    {
      "cell_type": "markdown",
      "source": [
        "**Let's look at the basic background of each dataset.**"
      ],
      "metadata": {
        "id": "tHGr_SnBK1iq"
      }
    },
    {
      "cell_type": "markdown",
      "source": [
        "###1.1 Transactions \n",
        "---"
      ],
      "metadata": {
        "id": "FqvrM9foKzgk"
      }
    },
    {
      "cell_type": "code",
      "source": [
        "transactions.head()"
      ],
      "metadata": {
        "colab": {
          "base_uri": "https://localhost:8080/",
          "height": 340
        },
        "id": "fF3pbhwPMtgE",
        "outputId": "d8f22bd0-4688-4667-c0b5-d3511848da53"
      },
      "execution_count": null,
      "outputs": [
        {
          "output_type": "execute_result",
          "data": {
            "text/plain": [
              "   transaction_id  product_id  customer_id transaction_date  online_order  \\\n",
              "0               1           2         2950       2017-02-25           0.0   \n",
              "1               2           3         3120       2017-05-21           1.0   \n",
              "2               3          37          402       2017-10-16           0.0   \n",
              "3               4          88         3135       2017-08-31           0.0   \n",
              "4               5          78          787       2017-10-01           1.0   \n",
              "\n",
              "  order_status           brand product_line product_class product_size  \\\n",
              "0     Approved           Solex     Standard        medium       medium   \n",
              "1     Approved   Trek Bicycles     Standard        medium        large   \n",
              "2     Approved      OHM Cycles     Standard           low       medium   \n",
              "3     Approved  Norco Bicycles     Standard        medium       medium   \n",
              "4     Approved  Giant Bicycles     Standard        medium        large   \n",
              "\n",
              "   list_price  standard_cost  product_first_sold_date  \n",
              "0       71.49          53.62                  41245.0  \n",
              "1     2091.47         388.92                  41701.0  \n",
              "2     1793.43         248.82                  36361.0  \n",
              "3     1198.46         381.10                  36145.0  \n",
              "4     1765.30         709.48                  42226.0  "
            ],
            "text/html": [
              "\n",
              "  <div id=\"df-202ceabc-97b1-4d63-94d6-cbbe3cc5fd3d\">\n",
              "    <div class=\"colab-df-container\">\n",
              "      <div>\n",
              "<style scoped>\n",
              "    .dataframe tbody tr th:only-of-type {\n",
              "        vertical-align: middle;\n",
              "    }\n",
              "\n",
              "    .dataframe tbody tr th {\n",
              "        vertical-align: top;\n",
              "    }\n",
              "\n",
              "    .dataframe thead th {\n",
              "        text-align: right;\n",
              "    }\n",
              "</style>\n",
              "<table border=\"1\" class=\"dataframe\">\n",
              "  <thead>\n",
              "    <tr style=\"text-align: right;\">\n",
              "      <th></th>\n",
              "      <th>transaction_id</th>\n",
              "      <th>product_id</th>\n",
              "      <th>customer_id</th>\n",
              "      <th>transaction_date</th>\n",
              "      <th>online_order</th>\n",
              "      <th>order_status</th>\n",
              "      <th>brand</th>\n",
              "      <th>product_line</th>\n",
              "      <th>product_class</th>\n",
              "      <th>product_size</th>\n",
              "      <th>list_price</th>\n",
              "      <th>standard_cost</th>\n",
              "      <th>product_first_sold_date</th>\n",
              "    </tr>\n",
              "  </thead>\n",
              "  <tbody>\n",
              "    <tr>\n",
              "      <th>0</th>\n",
              "      <td>1</td>\n",
              "      <td>2</td>\n",
              "      <td>2950</td>\n",
              "      <td>2017-02-25</td>\n",
              "      <td>0.0</td>\n",
              "      <td>Approved</td>\n",
              "      <td>Solex</td>\n",
              "      <td>Standard</td>\n",
              "      <td>medium</td>\n",
              "      <td>medium</td>\n",
              "      <td>71.49</td>\n",
              "      <td>53.62</td>\n",
              "      <td>41245.0</td>\n",
              "    </tr>\n",
              "    <tr>\n",
              "      <th>1</th>\n",
              "      <td>2</td>\n",
              "      <td>3</td>\n",
              "      <td>3120</td>\n",
              "      <td>2017-05-21</td>\n",
              "      <td>1.0</td>\n",
              "      <td>Approved</td>\n",
              "      <td>Trek Bicycles</td>\n",
              "      <td>Standard</td>\n",
              "      <td>medium</td>\n",
              "      <td>large</td>\n",
              "      <td>2091.47</td>\n",
              "      <td>388.92</td>\n",
              "      <td>41701.0</td>\n",
              "    </tr>\n",
              "    <tr>\n",
              "      <th>2</th>\n",
              "      <td>3</td>\n",
              "      <td>37</td>\n",
              "      <td>402</td>\n",
              "      <td>2017-10-16</td>\n",
              "      <td>0.0</td>\n",
              "      <td>Approved</td>\n",
              "      <td>OHM Cycles</td>\n",
              "      <td>Standard</td>\n",
              "      <td>low</td>\n",
              "      <td>medium</td>\n",
              "      <td>1793.43</td>\n",
              "      <td>248.82</td>\n",
              "      <td>36361.0</td>\n",
              "    </tr>\n",
              "    <tr>\n",
              "      <th>3</th>\n",
              "      <td>4</td>\n",
              "      <td>88</td>\n",
              "      <td>3135</td>\n",
              "      <td>2017-08-31</td>\n",
              "      <td>0.0</td>\n",
              "      <td>Approved</td>\n",
              "      <td>Norco Bicycles</td>\n",
              "      <td>Standard</td>\n",
              "      <td>medium</td>\n",
              "      <td>medium</td>\n",
              "      <td>1198.46</td>\n",
              "      <td>381.10</td>\n",
              "      <td>36145.0</td>\n",
              "    </tr>\n",
              "    <tr>\n",
              "      <th>4</th>\n",
              "      <td>5</td>\n",
              "      <td>78</td>\n",
              "      <td>787</td>\n",
              "      <td>2017-10-01</td>\n",
              "      <td>1.0</td>\n",
              "      <td>Approved</td>\n",
              "      <td>Giant Bicycles</td>\n",
              "      <td>Standard</td>\n",
              "      <td>medium</td>\n",
              "      <td>large</td>\n",
              "      <td>1765.30</td>\n",
              "      <td>709.48</td>\n",
              "      <td>42226.0</td>\n",
              "    </tr>\n",
              "  </tbody>\n",
              "</table>\n",
              "</div>\n",
              "      <button class=\"colab-df-convert\" onclick=\"convertToInteractive('df-202ceabc-97b1-4d63-94d6-cbbe3cc5fd3d')\"\n",
              "              title=\"Convert this dataframe to an interactive table.\"\n",
              "              style=\"display:none;\">\n",
              "        \n",
              "  <svg xmlns=\"http://www.w3.org/2000/svg\" height=\"24px\"viewBox=\"0 0 24 24\"\n",
              "       width=\"24px\">\n",
              "    <path d=\"M0 0h24v24H0V0z\" fill=\"none\"/>\n",
              "    <path d=\"M18.56 5.44l.94 2.06.94-2.06 2.06-.94-2.06-.94-.94-2.06-.94 2.06-2.06.94zm-11 1L8.5 8.5l.94-2.06 2.06-.94-2.06-.94L8.5 2.5l-.94 2.06-2.06.94zm10 10l.94 2.06.94-2.06 2.06-.94-2.06-.94-.94-2.06-.94 2.06-2.06.94z\"/><path d=\"M17.41 7.96l-1.37-1.37c-.4-.4-.92-.59-1.43-.59-.52 0-1.04.2-1.43.59L10.3 9.45l-7.72 7.72c-.78.78-.78 2.05 0 2.83L4 21.41c.39.39.9.59 1.41.59.51 0 1.02-.2 1.41-.59l7.78-7.78 2.81-2.81c.8-.78.8-2.07 0-2.86zM5.41 20L4 18.59l7.72-7.72 1.47 1.35L5.41 20z\"/>\n",
              "  </svg>\n",
              "      </button>\n",
              "      \n",
              "  <style>\n",
              "    .colab-df-container {\n",
              "      display:flex;\n",
              "      flex-wrap:wrap;\n",
              "      gap: 12px;\n",
              "    }\n",
              "\n",
              "    .colab-df-convert {\n",
              "      background-color: #E8F0FE;\n",
              "      border: none;\n",
              "      border-radius: 50%;\n",
              "      cursor: pointer;\n",
              "      display: none;\n",
              "      fill: #1967D2;\n",
              "      height: 32px;\n",
              "      padding: 0 0 0 0;\n",
              "      width: 32px;\n",
              "    }\n",
              "\n",
              "    .colab-df-convert:hover {\n",
              "      background-color: #E2EBFA;\n",
              "      box-shadow: 0px 1px 2px rgba(60, 64, 67, 0.3), 0px 1px 3px 1px rgba(60, 64, 67, 0.15);\n",
              "      fill: #174EA6;\n",
              "    }\n",
              "\n",
              "    [theme=dark] .colab-df-convert {\n",
              "      background-color: #3B4455;\n",
              "      fill: #D2E3FC;\n",
              "    }\n",
              "\n",
              "    [theme=dark] .colab-df-convert:hover {\n",
              "      background-color: #434B5C;\n",
              "      box-shadow: 0px 1px 3px 1px rgba(0, 0, 0, 0.15);\n",
              "      filter: drop-shadow(0px 1px 2px rgba(0, 0, 0, 0.3));\n",
              "      fill: #FFFFFF;\n",
              "    }\n",
              "  </style>\n",
              "\n",
              "      <script>\n",
              "        const buttonEl =\n",
              "          document.querySelector('#df-202ceabc-97b1-4d63-94d6-cbbe3cc5fd3d button.colab-df-convert');\n",
              "        buttonEl.style.display =\n",
              "          google.colab.kernel.accessAllowed ? 'block' : 'none';\n",
              "\n",
              "        async function convertToInteractive(key) {\n",
              "          const element = document.querySelector('#df-202ceabc-97b1-4d63-94d6-cbbe3cc5fd3d');\n",
              "          const dataTable =\n",
              "            await google.colab.kernel.invokeFunction('convertToInteractive',\n",
              "                                                     [key], {});\n",
              "          if (!dataTable) return;\n",
              "\n",
              "          const docLinkHtml = 'Like what you see? Visit the ' +\n",
              "            '<a target=\"_blank\" href=https://colab.research.google.com/notebooks/data_table.ipynb>data table notebook</a>'\n",
              "            + ' to learn more about interactive tables.';\n",
              "          element.innerHTML = '';\n",
              "          dataTable['output_type'] = 'display_data';\n",
              "          await google.colab.output.renderOutput(dataTable, element);\n",
              "          const docLink = document.createElement('div');\n",
              "          docLink.innerHTML = docLinkHtml;\n",
              "          element.appendChild(docLink);\n",
              "        }\n",
              "      </script>\n",
              "    </div>\n",
              "  </div>\n",
              "  "
            ]
          },
          "metadata": {},
          "execution_count": 117
        }
      ]
    },
    {
      "cell_type": "code",
      "source": [
        "transactions.info()"
      ],
      "metadata": {
        "colab": {
          "base_uri": "https://localhost:8080/"
        },
        "id": "IfxOLOLgMv4q",
        "outputId": "df4e258c-020b-4634-afd9-b36a52673a8c"
      },
      "execution_count": null,
      "outputs": [
        {
          "output_type": "stream",
          "name": "stdout",
          "text": [
            "<class 'pandas.core.frame.DataFrame'>\n",
            "RangeIndex: 20000 entries, 0 to 19999\n",
            "Data columns (total 13 columns):\n",
            " #   Column                   Non-Null Count  Dtype         \n",
            "---  ------                   --------------  -----         \n",
            " 0   transaction_id           20000 non-null  int64         \n",
            " 1   product_id               20000 non-null  int64         \n",
            " 2   customer_id              20000 non-null  int64         \n",
            " 3   transaction_date         20000 non-null  datetime64[ns]\n",
            " 4   online_order             19640 non-null  float64       \n",
            " 5   order_status             20000 non-null  object        \n",
            " 6   brand                    19803 non-null  object        \n",
            " 7   product_line             19803 non-null  object        \n",
            " 8   product_class            19803 non-null  object        \n",
            " 9   product_size             19803 non-null  object        \n",
            " 10  list_price               20000 non-null  float64       \n",
            " 11  standard_cost            19803 non-null  float64       \n",
            " 12  product_first_sold_date  19803 non-null  float64       \n",
            "dtypes: datetime64[ns](1), float64(4), int64(3), object(5)\n",
            "memory usage: 2.0+ MB\n"
          ]
        }
      ]
    },
    {
      "cell_type": "markdown",
      "source": [
        "### 1.2 New Customer List\n",
        "---"
      ],
      "metadata": {
        "id": "DJZNZIE5LP8g"
      }
    },
    {
      "cell_type": "code",
      "source": [
        "new_customer_list.head()"
      ],
      "metadata": {
        "colab": {
          "base_uri": "https://localhost:8080/",
          "height": 421
        },
        "id": "z08vf1FrxICS",
        "outputId": "4319542c-9691-4d31-d659-2f88faaf6a95"
      },
      "execution_count": null,
      "outputs": [
        {
          "output_type": "execute_result",
          "data": {
            "text/plain": [
              "  first_name  last_name  gender  past_3_years_bike_related_purchases  \\\n",
              "0    Chickie    Brister    Male                                   86   \n",
              "1      Morly     Genery    Male                                   69   \n",
              "2    Ardelis  Forrester  Female                                   10   \n",
              "3     Lucine      Stutt  Female                                   64   \n",
              "4    Melinda     Hadlee  Female                                   34   \n",
              "\n",
              "         DOB                   job_title job_industry_category  \\\n",
              "0 1957-07-12             General Manager         Manufacturing   \n",
              "1 1970-03-22         Structural Engineer              Property   \n",
              "2 1974-08-28      Senior Cost Accountant    Financial Services   \n",
              "3 1979-01-28  Account Representative III         Manufacturing   \n",
              "4 1965-09-21           Financial Analyst    Financial Services   \n",
              "\n",
              "      wealth_segment deceased_indicator owns_car  ...  state    country  \\\n",
              "0      Mass Customer                  N      Yes  ...    QLD  Australia   \n",
              "1      Mass Customer                  N       No  ...    NSW  Australia   \n",
              "2  Affluent Customer                  N       No  ...    VIC  Australia   \n",
              "3  Affluent Customer                  N      Yes  ...    QLD  Australia   \n",
              "4  Affluent Customer                  N       No  ...    NSW  Australia   \n",
              "\n",
              "   property_valuation Unnamed: 16 Unnamed: 17  Unnamed: 18  Unnamed: 19  \\\n",
              "0                   6        0.79      0.9875     1.234375     1.049219   \n",
              "1                  11        0.40      0.4000     0.500000     0.425000   \n",
              "2                   5        1.09      1.0900     1.090000     1.090000   \n",
              "3                   1        0.42      0.5250     0.525000     0.525000   \n",
              "4                   9        0.52      0.5200     0.650000     0.650000   \n",
              "\n",
              "   Unnamed: 20  Rank     Value  \n",
              "0            1     1  1.718750  \n",
              "1            1     1  1.718750  \n",
              "2            1     1  1.718750  \n",
              "3            4     4  1.703125  \n",
              "4            4     4  1.703125  \n",
              "\n",
              "[5 rows x 23 columns]"
            ],
            "text/html": [
              "\n",
              "  <div id=\"df-f124a01e-2827-4c86-a448-dcfadfd443fa\">\n",
              "    <div class=\"colab-df-container\">\n",
              "      <div>\n",
              "<style scoped>\n",
              "    .dataframe tbody tr th:only-of-type {\n",
              "        vertical-align: middle;\n",
              "    }\n",
              "\n",
              "    .dataframe tbody tr th {\n",
              "        vertical-align: top;\n",
              "    }\n",
              "\n",
              "    .dataframe thead th {\n",
              "        text-align: right;\n",
              "    }\n",
              "</style>\n",
              "<table border=\"1\" class=\"dataframe\">\n",
              "  <thead>\n",
              "    <tr style=\"text-align: right;\">\n",
              "      <th></th>\n",
              "      <th>first_name</th>\n",
              "      <th>last_name</th>\n",
              "      <th>gender</th>\n",
              "      <th>past_3_years_bike_related_purchases</th>\n",
              "      <th>DOB</th>\n",
              "      <th>job_title</th>\n",
              "      <th>job_industry_category</th>\n",
              "      <th>wealth_segment</th>\n",
              "      <th>deceased_indicator</th>\n",
              "      <th>owns_car</th>\n",
              "      <th>...</th>\n",
              "      <th>state</th>\n",
              "      <th>country</th>\n",
              "      <th>property_valuation</th>\n",
              "      <th>Unnamed: 16</th>\n",
              "      <th>Unnamed: 17</th>\n",
              "      <th>Unnamed: 18</th>\n",
              "      <th>Unnamed: 19</th>\n",
              "      <th>Unnamed: 20</th>\n",
              "      <th>Rank</th>\n",
              "      <th>Value</th>\n",
              "    </tr>\n",
              "  </thead>\n",
              "  <tbody>\n",
              "    <tr>\n",
              "      <th>0</th>\n",
              "      <td>Chickie</td>\n",
              "      <td>Brister</td>\n",
              "      <td>Male</td>\n",
              "      <td>86</td>\n",
              "      <td>1957-07-12</td>\n",
              "      <td>General Manager</td>\n",
              "      <td>Manufacturing</td>\n",
              "      <td>Mass Customer</td>\n",
              "      <td>N</td>\n",
              "      <td>Yes</td>\n",
              "      <td>...</td>\n",
              "      <td>QLD</td>\n",
              "      <td>Australia</td>\n",
              "      <td>6</td>\n",
              "      <td>0.79</td>\n",
              "      <td>0.9875</td>\n",
              "      <td>1.234375</td>\n",
              "      <td>1.049219</td>\n",
              "      <td>1</td>\n",
              "      <td>1</td>\n",
              "      <td>1.718750</td>\n",
              "    </tr>\n",
              "    <tr>\n",
              "      <th>1</th>\n",
              "      <td>Morly</td>\n",
              "      <td>Genery</td>\n",
              "      <td>Male</td>\n",
              "      <td>69</td>\n",
              "      <td>1970-03-22</td>\n",
              "      <td>Structural Engineer</td>\n",
              "      <td>Property</td>\n",
              "      <td>Mass Customer</td>\n",
              "      <td>N</td>\n",
              "      <td>No</td>\n",
              "      <td>...</td>\n",
              "      <td>NSW</td>\n",
              "      <td>Australia</td>\n",
              "      <td>11</td>\n",
              "      <td>0.40</td>\n",
              "      <td>0.4000</td>\n",
              "      <td>0.500000</td>\n",
              "      <td>0.425000</td>\n",
              "      <td>1</td>\n",
              "      <td>1</td>\n",
              "      <td>1.718750</td>\n",
              "    </tr>\n",
              "    <tr>\n",
              "      <th>2</th>\n",
              "      <td>Ardelis</td>\n",
              "      <td>Forrester</td>\n",
              "      <td>Female</td>\n",
              "      <td>10</td>\n",
              "      <td>1974-08-28</td>\n",
              "      <td>Senior Cost Accountant</td>\n",
              "      <td>Financial Services</td>\n",
              "      <td>Affluent Customer</td>\n",
              "      <td>N</td>\n",
              "      <td>No</td>\n",
              "      <td>...</td>\n",
              "      <td>VIC</td>\n",
              "      <td>Australia</td>\n",
              "      <td>5</td>\n",
              "      <td>1.09</td>\n",
              "      <td>1.0900</td>\n",
              "      <td>1.090000</td>\n",
              "      <td>1.090000</td>\n",
              "      <td>1</td>\n",
              "      <td>1</td>\n",
              "      <td>1.718750</td>\n",
              "    </tr>\n",
              "    <tr>\n",
              "      <th>3</th>\n",
              "      <td>Lucine</td>\n",
              "      <td>Stutt</td>\n",
              "      <td>Female</td>\n",
              "      <td>64</td>\n",
              "      <td>1979-01-28</td>\n",
              "      <td>Account Representative III</td>\n",
              "      <td>Manufacturing</td>\n",
              "      <td>Affluent Customer</td>\n",
              "      <td>N</td>\n",
              "      <td>Yes</td>\n",
              "      <td>...</td>\n",
              "      <td>QLD</td>\n",
              "      <td>Australia</td>\n",
              "      <td>1</td>\n",
              "      <td>0.42</td>\n",
              "      <td>0.5250</td>\n",
              "      <td>0.525000</td>\n",
              "      <td>0.525000</td>\n",
              "      <td>4</td>\n",
              "      <td>4</td>\n",
              "      <td>1.703125</td>\n",
              "    </tr>\n",
              "    <tr>\n",
              "      <th>4</th>\n",
              "      <td>Melinda</td>\n",
              "      <td>Hadlee</td>\n",
              "      <td>Female</td>\n",
              "      <td>34</td>\n",
              "      <td>1965-09-21</td>\n",
              "      <td>Financial Analyst</td>\n",
              "      <td>Financial Services</td>\n",
              "      <td>Affluent Customer</td>\n",
              "      <td>N</td>\n",
              "      <td>No</td>\n",
              "      <td>...</td>\n",
              "      <td>NSW</td>\n",
              "      <td>Australia</td>\n",
              "      <td>9</td>\n",
              "      <td>0.52</td>\n",
              "      <td>0.5200</td>\n",
              "      <td>0.650000</td>\n",
              "      <td>0.650000</td>\n",
              "      <td>4</td>\n",
              "      <td>4</td>\n",
              "      <td>1.703125</td>\n",
              "    </tr>\n",
              "  </tbody>\n",
              "</table>\n",
              "<p>5 rows × 23 columns</p>\n",
              "</div>\n",
              "      <button class=\"colab-df-convert\" onclick=\"convertToInteractive('df-f124a01e-2827-4c86-a448-dcfadfd443fa')\"\n",
              "              title=\"Convert this dataframe to an interactive table.\"\n",
              "              style=\"display:none;\">\n",
              "        \n",
              "  <svg xmlns=\"http://www.w3.org/2000/svg\" height=\"24px\"viewBox=\"0 0 24 24\"\n",
              "       width=\"24px\">\n",
              "    <path d=\"M0 0h24v24H0V0z\" fill=\"none\"/>\n",
              "    <path d=\"M18.56 5.44l.94 2.06.94-2.06 2.06-.94-2.06-.94-.94-2.06-.94 2.06-2.06.94zm-11 1L8.5 8.5l.94-2.06 2.06-.94-2.06-.94L8.5 2.5l-.94 2.06-2.06.94zm10 10l.94 2.06.94-2.06 2.06-.94-2.06-.94-.94-2.06-.94 2.06-2.06.94z\"/><path d=\"M17.41 7.96l-1.37-1.37c-.4-.4-.92-.59-1.43-.59-.52 0-1.04.2-1.43.59L10.3 9.45l-7.72 7.72c-.78.78-.78 2.05 0 2.83L4 21.41c.39.39.9.59 1.41.59.51 0 1.02-.2 1.41-.59l7.78-7.78 2.81-2.81c.8-.78.8-2.07 0-2.86zM5.41 20L4 18.59l7.72-7.72 1.47 1.35L5.41 20z\"/>\n",
              "  </svg>\n",
              "      </button>\n",
              "      \n",
              "  <style>\n",
              "    .colab-df-container {\n",
              "      display:flex;\n",
              "      flex-wrap:wrap;\n",
              "      gap: 12px;\n",
              "    }\n",
              "\n",
              "    .colab-df-convert {\n",
              "      background-color: #E8F0FE;\n",
              "      border: none;\n",
              "      border-radius: 50%;\n",
              "      cursor: pointer;\n",
              "      display: none;\n",
              "      fill: #1967D2;\n",
              "      height: 32px;\n",
              "      padding: 0 0 0 0;\n",
              "      width: 32px;\n",
              "    }\n",
              "\n",
              "    .colab-df-convert:hover {\n",
              "      background-color: #E2EBFA;\n",
              "      box-shadow: 0px 1px 2px rgba(60, 64, 67, 0.3), 0px 1px 3px 1px rgba(60, 64, 67, 0.15);\n",
              "      fill: #174EA6;\n",
              "    }\n",
              "\n",
              "    [theme=dark] .colab-df-convert {\n",
              "      background-color: #3B4455;\n",
              "      fill: #D2E3FC;\n",
              "    }\n",
              "\n",
              "    [theme=dark] .colab-df-convert:hover {\n",
              "      background-color: #434B5C;\n",
              "      box-shadow: 0px 1px 3px 1px rgba(0, 0, 0, 0.15);\n",
              "      filter: drop-shadow(0px 1px 2px rgba(0, 0, 0, 0.3));\n",
              "      fill: #FFFFFF;\n",
              "    }\n",
              "  </style>\n",
              "\n",
              "      <script>\n",
              "        const buttonEl =\n",
              "          document.querySelector('#df-f124a01e-2827-4c86-a448-dcfadfd443fa button.colab-df-convert');\n",
              "        buttonEl.style.display =\n",
              "          google.colab.kernel.accessAllowed ? 'block' : 'none';\n",
              "\n",
              "        async function convertToInteractive(key) {\n",
              "          const element = document.querySelector('#df-f124a01e-2827-4c86-a448-dcfadfd443fa');\n",
              "          const dataTable =\n",
              "            await google.colab.kernel.invokeFunction('convertToInteractive',\n",
              "                                                     [key], {});\n",
              "          if (!dataTable) return;\n",
              "\n",
              "          const docLinkHtml = 'Like what you see? Visit the ' +\n",
              "            '<a target=\"_blank\" href=https://colab.research.google.com/notebooks/data_table.ipynb>data table notebook</a>'\n",
              "            + ' to learn more about interactive tables.';\n",
              "          element.innerHTML = '';\n",
              "          dataTable['output_type'] = 'display_data';\n",
              "          await google.colab.output.renderOutput(dataTable, element);\n",
              "          const docLink = document.createElement('div');\n",
              "          docLink.innerHTML = docLinkHtml;\n",
              "          element.appendChild(docLink);\n",
              "        }\n",
              "      </script>\n",
              "    </div>\n",
              "  </div>\n",
              "  "
            ]
          },
          "metadata": {},
          "execution_count": 119
        }
      ]
    },
    {
      "cell_type": "code",
      "source": [
        "new_customer_list.info()"
      ],
      "metadata": {
        "colab": {
          "base_uri": "https://localhost:8080/"
        },
        "id": "-vaLln8Dy3uO",
        "outputId": "61094480-c00b-4e47-88e8-8b9c5a90227c"
      },
      "execution_count": null,
      "outputs": [
        {
          "output_type": "stream",
          "name": "stdout",
          "text": [
            "<class 'pandas.core.frame.DataFrame'>\n",
            "RangeIndex: 1000 entries, 0 to 999\n",
            "Data columns (total 23 columns):\n",
            " #   Column                               Non-Null Count  Dtype         \n",
            "---  ------                               --------------  -----         \n",
            " 0   first_name                           1000 non-null   object        \n",
            " 1   last_name                            971 non-null    object        \n",
            " 2   gender                               1000 non-null   object        \n",
            " 3   past_3_years_bike_related_purchases  1000 non-null   int64         \n",
            " 4   DOB                                  983 non-null    datetime64[ns]\n",
            " 5   job_title                            894 non-null    object        \n",
            " 6   job_industry_category                835 non-null    object        \n",
            " 7   wealth_segment                       1000 non-null   object        \n",
            " 8   deceased_indicator                   1000 non-null   object        \n",
            " 9   owns_car                             1000 non-null   object        \n",
            " 10  tenure                               1000 non-null   int64         \n",
            " 11  address                              1000 non-null   object        \n",
            " 12  postcode                             1000 non-null   int64         \n",
            " 13  state                                1000 non-null   object        \n",
            " 14  country                              1000 non-null   object        \n",
            " 15  property_valuation                   1000 non-null   int64         \n",
            " 16  Unnamed: 16                          1000 non-null   float64       \n",
            " 17  Unnamed: 17                          1000 non-null   float64       \n",
            " 18  Unnamed: 18                          1000 non-null   float64       \n",
            " 19  Unnamed: 19                          1000 non-null   float64       \n",
            " 20  Unnamed: 20                          1000 non-null   int64         \n",
            " 21  Rank                                 1000 non-null   int64         \n",
            " 22  Value                                1000 non-null   float64       \n",
            "dtypes: datetime64[ns](1), float64(5), int64(6), object(11)\n",
            "memory usage: 179.8+ KB\n"
          ]
        }
      ]
    },
    {
      "cell_type": "markdown",
      "source": [
        "### 1.3 Customer Demographic"
      ],
      "metadata": {
        "id": "tS30trxrLXr1"
      }
    },
    {
      "cell_type": "code",
      "source": [
        "customer_demographic.head()"
      ],
      "metadata": {
        "colab": {
          "base_uri": "https://localhost:8080/",
          "height": 374
        },
        "id": "OHVfHfj4y3q-",
        "outputId": "b6e102ae-212f-45cf-9042-329bcbc0c4e9"
      },
      "execution_count": null,
      "outputs": [
        {
          "output_type": "execute_result",
          "data": {
            "text/plain": [
              "   customer_id      first_name  last_name  gender  \\\n",
              "0            1         Laraine  Medendorp       F   \n",
              "1            2             Eli    Bockman    Male   \n",
              "2            3           Arlin     Dearle    Male   \n",
              "3            4          Talbot        NaN    Male   \n",
              "4            5  Sheila-kathryn     Calton  Female   \n",
              "\n",
              "   past_3_years_bike_related_purchases        DOB               job_title  \\\n",
              "0                                   93 1953-10-12     Executive Secretary   \n",
              "1                                   81 1980-12-16  Administrative Officer   \n",
              "2                                   61 1954-01-20      Recruiting Manager   \n",
              "3                                   33 1961-10-03                     NaN   \n",
              "4                                   56 1977-05-13           Senior Editor   \n",
              "\n",
              "  job_industry_category     wealth_segment deceased_indicator  \\\n",
              "0                Health      Mass Customer                  N   \n",
              "1    Financial Services      Mass Customer                  N   \n",
              "2              Property      Mass Customer                  N   \n",
              "3                    IT      Mass Customer                  N   \n",
              "4                   NaN  Affluent Customer                  N   \n",
              "\n",
              "                                             default owns_car  tenure  \n",
              "0                                                 \"'      Yes    11.0  \n",
              "1                       <script>alert('hi')</script>      Yes    16.0  \n",
              "2                                2018-02-01 00:00:00      Yes    15.0  \n",
              "3  () { _; } >_[$($())] { touch /tmp/blns.shellsh...       No     7.0  \n",
              "4                                                NIL      Yes     8.0  "
            ],
            "text/html": [
              "\n",
              "  <div id=\"df-7dc58280-7658-45ce-bfe6-055b42dcc35b\">\n",
              "    <div class=\"colab-df-container\">\n",
              "      <div>\n",
              "<style scoped>\n",
              "    .dataframe tbody tr th:only-of-type {\n",
              "        vertical-align: middle;\n",
              "    }\n",
              "\n",
              "    .dataframe tbody tr th {\n",
              "        vertical-align: top;\n",
              "    }\n",
              "\n",
              "    .dataframe thead th {\n",
              "        text-align: right;\n",
              "    }\n",
              "</style>\n",
              "<table border=\"1\" class=\"dataframe\">\n",
              "  <thead>\n",
              "    <tr style=\"text-align: right;\">\n",
              "      <th></th>\n",
              "      <th>customer_id</th>\n",
              "      <th>first_name</th>\n",
              "      <th>last_name</th>\n",
              "      <th>gender</th>\n",
              "      <th>past_3_years_bike_related_purchases</th>\n",
              "      <th>DOB</th>\n",
              "      <th>job_title</th>\n",
              "      <th>job_industry_category</th>\n",
              "      <th>wealth_segment</th>\n",
              "      <th>deceased_indicator</th>\n",
              "      <th>default</th>\n",
              "      <th>owns_car</th>\n",
              "      <th>tenure</th>\n",
              "    </tr>\n",
              "  </thead>\n",
              "  <tbody>\n",
              "    <tr>\n",
              "      <th>0</th>\n",
              "      <td>1</td>\n",
              "      <td>Laraine</td>\n",
              "      <td>Medendorp</td>\n",
              "      <td>F</td>\n",
              "      <td>93</td>\n",
              "      <td>1953-10-12</td>\n",
              "      <td>Executive Secretary</td>\n",
              "      <td>Health</td>\n",
              "      <td>Mass Customer</td>\n",
              "      <td>N</td>\n",
              "      <td>\"'</td>\n",
              "      <td>Yes</td>\n",
              "      <td>11.0</td>\n",
              "    </tr>\n",
              "    <tr>\n",
              "      <th>1</th>\n",
              "      <td>2</td>\n",
              "      <td>Eli</td>\n",
              "      <td>Bockman</td>\n",
              "      <td>Male</td>\n",
              "      <td>81</td>\n",
              "      <td>1980-12-16</td>\n",
              "      <td>Administrative Officer</td>\n",
              "      <td>Financial Services</td>\n",
              "      <td>Mass Customer</td>\n",
              "      <td>N</td>\n",
              "      <td>&lt;script&gt;alert('hi')&lt;/script&gt;</td>\n",
              "      <td>Yes</td>\n",
              "      <td>16.0</td>\n",
              "    </tr>\n",
              "    <tr>\n",
              "      <th>2</th>\n",
              "      <td>3</td>\n",
              "      <td>Arlin</td>\n",
              "      <td>Dearle</td>\n",
              "      <td>Male</td>\n",
              "      <td>61</td>\n",
              "      <td>1954-01-20</td>\n",
              "      <td>Recruiting Manager</td>\n",
              "      <td>Property</td>\n",
              "      <td>Mass Customer</td>\n",
              "      <td>N</td>\n",
              "      <td>2018-02-01 00:00:00</td>\n",
              "      <td>Yes</td>\n",
              "      <td>15.0</td>\n",
              "    </tr>\n",
              "    <tr>\n",
              "      <th>3</th>\n",
              "      <td>4</td>\n",
              "      <td>Talbot</td>\n",
              "      <td>NaN</td>\n",
              "      <td>Male</td>\n",
              "      <td>33</td>\n",
              "      <td>1961-10-03</td>\n",
              "      <td>NaN</td>\n",
              "      <td>IT</td>\n",
              "      <td>Mass Customer</td>\n",
              "      <td>N</td>\n",
              "      <td>() { _; } &gt;_[$($())] { touch /tmp/blns.shellsh...</td>\n",
              "      <td>No</td>\n",
              "      <td>7.0</td>\n",
              "    </tr>\n",
              "    <tr>\n",
              "      <th>4</th>\n",
              "      <td>5</td>\n",
              "      <td>Sheila-kathryn</td>\n",
              "      <td>Calton</td>\n",
              "      <td>Female</td>\n",
              "      <td>56</td>\n",
              "      <td>1977-05-13</td>\n",
              "      <td>Senior Editor</td>\n",
              "      <td>NaN</td>\n",
              "      <td>Affluent Customer</td>\n",
              "      <td>N</td>\n",
              "      <td>NIL</td>\n",
              "      <td>Yes</td>\n",
              "      <td>8.0</td>\n",
              "    </tr>\n",
              "  </tbody>\n",
              "</table>\n",
              "</div>\n",
              "      <button class=\"colab-df-convert\" onclick=\"convertToInteractive('df-7dc58280-7658-45ce-bfe6-055b42dcc35b')\"\n",
              "              title=\"Convert this dataframe to an interactive table.\"\n",
              "              style=\"display:none;\">\n",
              "        \n",
              "  <svg xmlns=\"http://www.w3.org/2000/svg\" height=\"24px\"viewBox=\"0 0 24 24\"\n",
              "       width=\"24px\">\n",
              "    <path d=\"M0 0h24v24H0V0z\" fill=\"none\"/>\n",
              "    <path d=\"M18.56 5.44l.94 2.06.94-2.06 2.06-.94-2.06-.94-.94-2.06-.94 2.06-2.06.94zm-11 1L8.5 8.5l.94-2.06 2.06-.94-2.06-.94L8.5 2.5l-.94 2.06-2.06.94zm10 10l.94 2.06.94-2.06 2.06-.94-2.06-.94-.94-2.06-.94 2.06-2.06.94z\"/><path d=\"M17.41 7.96l-1.37-1.37c-.4-.4-.92-.59-1.43-.59-.52 0-1.04.2-1.43.59L10.3 9.45l-7.72 7.72c-.78.78-.78 2.05 0 2.83L4 21.41c.39.39.9.59 1.41.59.51 0 1.02-.2 1.41-.59l7.78-7.78 2.81-2.81c.8-.78.8-2.07 0-2.86zM5.41 20L4 18.59l7.72-7.72 1.47 1.35L5.41 20z\"/>\n",
              "  </svg>\n",
              "      </button>\n",
              "      \n",
              "  <style>\n",
              "    .colab-df-container {\n",
              "      display:flex;\n",
              "      flex-wrap:wrap;\n",
              "      gap: 12px;\n",
              "    }\n",
              "\n",
              "    .colab-df-convert {\n",
              "      background-color: #E8F0FE;\n",
              "      border: none;\n",
              "      border-radius: 50%;\n",
              "      cursor: pointer;\n",
              "      display: none;\n",
              "      fill: #1967D2;\n",
              "      height: 32px;\n",
              "      padding: 0 0 0 0;\n",
              "      width: 32px;\n",
              "    }\n",
              "\n",
              "    .colab-df-convert:hover {\n",
              "      background-color: #E2EBFA;\n",
              "      box-shadow: 0px 1px 2px rgba(60, 64, 67, 0.3), 0px 1px 3px 1px rgba(60, 64, 67, 0.15);\n",
              "      fill: #174EA6;\n",
              "    }\n",
              "\n",
              "    [theme=dark] .colab-df-convert {\n",
              "      background-color: #3B4455;\n",
              "      fill: #D2E3FC;\n",
              "    }\n",
              "\n",
              "    [theme=dark] .colab-df-convert:hover {\n",
              "      background-color: #434B5C;\n",
              "      box-shadow: 0px 1px 3px 1px rgba(0, 0, 0, 0.15);\n",
              "      filter: drop-shadow(0px 1px 2px rgba(0, 0, 0, 0.3));\n",
              "      fill: #FFFFFF;\n",
              "    }\n",
              "  </style>\n",
              "\n",
              "      <script>\n",
              "        const buttonEl =\n",
              "          document.querySelector('#df-7dc58280-7658-45ce-bfe6-055b42dcc35b button.colab-df-convert');\n",
              "        buttonEl.style.display =\n",
              "          google.colab.kernel.accessAllowed ? 'block' : 'none';\n",
              "\n",
              "        async function convertToInteractive(key) {\n",
              "          const element = document.querySelector('#df-7dc58280-7658-45ce-bfe6-055b42dcc35b');\n",
              "          const dataTable =\n",
              "            await google.colab.kernel.invokeFunction('convertToInteractive',\n",
              "                                                     [key], {});\n",
              "          if (!dataTable) return;\n",
              "\n",
              "          const docLinkHtml = 'Like what you see? Visit the ' +\n",
              "            '<a target=\"_blank\" href=https://colab.research.google.com/notebooks/data_table.ipynb>data table notebook</a>'\n",
              "            + ' to learn more about interactive tables.';\n",
              "          element.innerHTML = '';\n",
              "          dataTable['output_type'] = 'display_data';\n",
              "          await google.colab.output.renderOutput(dataTable, element);\n",
              "          const docLink = document.createElement('div');\n",
              "          docLink.innerHTML = docLinkHtml;\n",
              "          element.appendChild(docLink);\n",
              "        }\n",
              "      </script>\n",
              "    </div>\n",
              "  </div>\n",
              "  "
            ]
          },
          "metadata": {},
          "execution_count": 121
        }
      ]
    },
    {
      "cell_type": "code",
      "source": [
        "customer_demographic.info()"
      ],
      "metadata": {
        "colab": {
          "base_uri": "https://localhost:8080/"
        },
        "id": "90k2A8Xdy3nO",
        "outputId": "40aa5b93-4f6c-4c24-96c9-0500e7e3ab75"
      },
      "execution_count": null,
      "outputs": [
        {
          "output_type": "stream",
          "name": "stdout",
          "text": [
            "<class 'pandas.core.frame.DataFrame'>\n",
            "RangeIndex: 4000 entries, 0 to 3999\n",
            "Data columns (total 13 columns):\n",
            " #   Column                               Non-Null Count  Dtype         \n",
            "---  ------                               --------------  -----         \n",
            " 0   customer_id                          4000 non-null   int64         \n",
            " 1   first_name                           4000 non-null   object        \n",
            " 2   last_name                            3875 non-null   object        \n",
            " 3   gender                               4000 non-null   object        \n",
            " 4   past_3_years_bike_related_purchases  4000 non-null   int64         \n",
            " 5   DOB                                  3913 non-null   datetime64[ns]\n",
            " 6   job_title                            3494 non-null   object        \n",
            " 7   job_industry_category                3344 non-null   object        \n",
            " 8   wealth_segment                       4000 non-null   object        \n",
            " 9   deceased_indicator                   4000 non-null   object        \n",
            " 10  default                              3698 non-null   object        \n",
            " 11  owns_car                             4000 non-null   object        \n",
            " 12  tenure                               3913 non-null   float64       \n",
            "dtypes: datetime64[ns](1), float64(1), int64(2), object(9)\n",
            "memory usage: 406.4+ KB\n"
          ]
        }
      ]
    },
    {
      "cell_type": "markdown",
      "source": [
        "### 1.4 Customer Address"
      ],
      "metadata": {
        "id": "L0ypvw-yMRsJ"
      }
    },
    {
      "cell_type": "code",
      "source": [
        "customer_address.head()"
      ],
      "metadata": {
        "colab": {
          "base_uri": "https://localhost:8080/",
          "height": 206
        },
        "id": "7RHr_FlBxH7X",
        "outputId": "0fc87adb-6bba-43f7-ac2f-058830fb6b7d"
      },
      "execution_count": null,
      "outputs": [
        {
          "output_type": "execute_result",
          "data": {
            "text/plain": [
              "   customer_id              address  postcode            state    country  \\\n",
              "0            1   060 Morning Avenue      2016  New South Wales  Australia   \n",
              "1            2  6 Meadow Vale Court      2153  New South Wales  Australia   \n",
              "2            4   0 Holy Cross Court      4211              QLD  Australia   \n",
              "3            5  17979 Del Mar Point      2448  New South Wales  Australia   \n",
              "4            6     9 Oakridge Court      3216              VIC  Australia   \n",
              "\n",
              "   property_valuation  \n",
              "0                  10  \n",
              "1                  10  \n",
              "2                   9  \n",
              "3                   4  \n",
              "4                   9  "
            ],
            "text/html": [
              "\n",
              "  <div id=\"df-6c3289d0-8283-4372-a07b-c5248eab722a\">\n",
              "    <div class=\"colab-df-container\">\n",
              "      <div>\n",
              "<style scoped>\n",
              "    .dataframe tbody tr th:only-of-type {\n",
              "        vertical-align: middle;\n",
              "    }\n",
              "\n",
              "    .dataframe tbody tr th {\n",
              "        vertical-align: top;\n",
              "    }\n",
              "\n",
              "    .dataframe thead th {\n",
              "        text-align: right;\n",
              "    }\n",
              "</style>\n",
              "<table border=\"1\" class=\"dataframe\">\n",
              "  <thead>\n",
              "    <tr style=\"text-align: right;\">\n",
              "      <th></th>\n",
              "      <th>customer_id</th>\n",
              "      <th>address</th>\n",
              "      <th>postcode</th>\n",
              "      <th>state</th>\n",
              "      <th>country</th>\n",
              "      <th>property_valuation</th>\n",
              "    </tr>\n",
              "  </thead>\n",
              "  <tbody>\n",
              "    <tr>\n",
              "      <th>0</th>\n",
              "      <td>1</td>\n",
              "      <td>060 Morning Avenue</td>\n",
              "      <td>2016</td>\n",
              "      <td>New South Wales</td>\n",
              "      <td>Australia</td>\n",
              "      <td>10</td>\n",
              "    </tr>\n",
              "    <tr>\n",
              "      <th>1</th>\n",
              "      <td>2</td>\n",
              "      <td>6 Meadow Vale Court</td>\n",
              "      <td>2153</td>\n",
              "      <td>New South Wales</td>\n",
              "      <td>Australia</td>\n",
              "      <td>10</td>\n",
              "    </tr>\n",
              "    <tr>\n",
              "      <th>2</th>\n",
              "      <td>4</td>\n",
              "      <td>0 Holy Cross Court</td>\n",
              "      <td>4211</td>\n",
              "      <td>QLD</td>\n",
              "      <td>Australia</td>\n",
              "      <td>9</td>\n",
              "    </tr>\n",
              "    <tr>\n",
              "      <th>3</th>\n",
              "      <td>5</td>\n",
              "      <td>17979 Del Mar Point</td>\n",
              "      <td>2448</td>\n",
              "      <td>New South Wales</td>\n",
              "      <td>Australia</td>\n",
              "      <td>4</td>\n",
              "    </tr>\n",
              "    <tr>\n",
              "      <th>4</th>\n",
              "      <td>6</td>\n",
              "      <td>9 Oakridge Court</td>\n",
              "      <td>3216</td>\n",
              "      <td>VIC</td>\n",
              "      <td>Australia</td>\n",
              "      <td>9</td>\n",
              "    </tr>\n",
              "  </tbody>\n",
              "</table>\n",
              "</div>\n",
              "      <button class=\"colab-df-convert\" onclick=\"convertToInteractive('df-6c3289d0-8283-4372-a07b-c5248eab722a')\"\n",
              "              title=\"Convert this dataframe to an interactive table.\"\n",
              "              style=\"display:none;\">\n",
              "        \n",
              "  <svg xmlns=\"http://www.w3.org/2000/svg\" height=\"24px\"viewBox=\"0 0 24 24\"\n",
              "       width=\"24px\">\n",
              "    <path d=\"M0 0h24v24H0V0z\" fill=\"none\"/>\n",
              "    <path d=\"M18.56 5.44l.94 2.06.94-2.06 2.06-.94-2.06-.94-.94-2.06-.94 2.06-2.06.94zm-11 1L8.5 8.5l.94-2.06 2.06-.94-2.06-.94L8.5 2.5l-.94 2.06-2.06.94zm10 10l.94 2.06.94-2.06 2.06-.94-2.06-.94-.94-2.06-.94 2.06-2.06.94z\"/><path d=\"M17.41 7.96l-1.37-1.37c-.4-.4-.92-.59-1.43-.59-.52 0-1.04.2-1.43.59L10.3 9.45l-7.72 7.72c-.78.78-.78 2.05 0 2.83L4 21.41c.39.39.9.59 1.41.59.51 0 1.02-.2 1.41-.59l7.78-7.78 2.81-2.81c.8-.78.8-2.07 0-2.86zM5.41 20L4 18.59l7.72-7.72 1.47 1.35L5.41 20z\"/>\n",
              "  </svg>\n",
              "      </button>\n",
              "      \n",
              "  <style>\n",
              "    .colab-df-container {\n",
              "      display:flex;\n",
              "      flex-wrap:wrap;\n",
              "      gap: 12px;\n",
              "    }\n",
              "\n",
              "    .colab-df-convert {\n",
              "      background-color: #E8F0FE;\n",
              "      border: none;\n",
              "      border-radius: 50%;\n",
              "      cursor: pointer;\n",
              "      display: none;\n",
              "      fill: #1967D2;\n",
              "      height: 32px;\n",
              "      padding: 0 0 0 0;\n",
              "      width: 32px;\n",
              "    }\n",
              "\n",
              "    .colab-df-convert:hover {\n",
              "      background-color: #E2EBFA;\n",
              "      box-shadow: 0px 1px 2px rgba(60, 64, 67, 0.3), 0px 1px 3px 1px rgba(60, 64, 67, 0.15);\n",
              "      fill: #174EA6;\n",
              "    }\n",
              "\n",
              "    [theme=dark] .colab-df-convert {\n",
              "      background-color: #3B4455;\n",
              "      fill: #D2E3FC;\n",
              "    }\n",
              "\n",
              "    [theme=dark] .colab-df-convert:hover {\n",
              "      background-color: #434B5C;\n",
              "      box-shadow: 0px 1px 3px 1px rgba(0, 0, 0, 0.15);\n",
              "      filter: drop-shadow(0px 1px 2px rgba(0, 0, 0, 0.3));\n",
              "      fill: #FFFFFF;\n",
              "    }\n",
              "  </style>\n",
              "\n",
              "      <script>\n",
              "        const buttonEl =\n",
              "          document.querySelector('#df-6c3289d0-8283-4372-a07b-c5248eab722a button.colab-df-convert');\n",
              "        buttonEl.style.display =\n",
              "          google.colab.kernel.accessAllowed ? 'block' : 'none';\n",
              "\n",
              "        async function convertToInteractive(key) {\n",
              "          const element = document.querySelector('#df-6c3289d0-8283-4372-a07b-c5248eab722a');\n",
              "          const dataTable =\n",
              "            await google.colab.kernel.invokeFunction('convertToInteractive',\n",
              "                                                     [key], {});\n",
              "          if (!dataTable) return;\n",
              "\n",
              "          const docLinkHtml = 'Like what you see? Visit the ' +\n",
              "            '<a target=\"_blank\" href=https://colab.research.google.com/notebooks/data_table.ipynb>data table notebook</a>'\n",
              "            + ' to learn more about interactive tables.';\n",
              "          element.innerHTML = '';\n",
              "          dataTable['output_type'] = 'display_data';\n",
              "          await google.colab.output.renderOutput(dataTable, element);\n",
              "          const docLink = document.createElement('div');\n",
              "          docLink.innerHTML = docLinkHtml;\n",
              "          element.appendChild(docLink);\n",
              "        }\n",
              "      </script>\n",
              "    </div>\n",
              "  </div>\n",
              "  "
            ]
          },
          "metadata": {},
          "execution_count": 123
        }
      ]
    },
    {
      "cell_type": "code",
      "source": [
        "customer_address.info()"
      ],
      "metadata": {
        "colab": {
          "base_uri": "https://localhost:8080/"
        },
        "id": "oadqrDvqxH35",
        "outputId": "0aaaebf3-5c72-4dc8-89bc-6da3f5335618"
      },
      "execution_count": null,
      "outputs": [
        {
          "output_type": "stream",
          "name": "stdout",
          "text": [
            "<class 'pandas.core.frame.DataFrame'>\n",
            "RangeIndex: 3999 entries, 0 to 3998\n",
            "Data columns (total 6 columns):\n",
            " #   Column              Non-Null Count  Dtype \n",
            "---  ------              --------------  ----- \n",
            " 0   customer_id         3999 non-null   int64 \n",
            " 1   address             3999 non-null   object\n",
            " 2   postcode            3999 non-null   int64 \n",
            " 3   state               3999 non-null   object\n",
            " 4   country             3999 non-null   object\n",
            " 5   property_valuation  3999 non-null   int64 \n",
            "dtypes: int64(3), object(3)\n",
            "memory usage: 187.6+ KB\n"
          ]
        }
      ]
    },
    {
      "cell_type": "markdown",
      "source": [
        "### 2 . Accuracy:\n",
        "* In this section will look at the data type of the variable and try to correct it for proper analysis"
      ],
      "metadata": {
        "id": "Tj0glcQ3e4Sw"
      }
    },
    {
      "cell_type": "markdown",
      "source": [
        "### 2.1. Transactions"
      ],
      "metadata": {
        "id": "0Y_s5YMlY5wg"
      }
    },
    {
      "cell_type": "code",
      "source": [
        "transactions.info()"
      ],
      "metadata": {
        "colab": {
          "base_uri": "https://localhost:8080/"
        },
        "id": "ij0Fv-Hq5S51",
        "outputId": "3313ca51-9a5a-4723-85be-5ac5ed200f25"
      },
      "execution_count": null,
      "outputs": [
        {
          "output_type": "stream",
          "name": "stdout",
          "text": [
            "<class 'pandas.core.frame.DataFrame'>\n",
            "RangeIndex: 20000 entries, 0 to 19999\n",
            "Data columns (total 13 columns):\n",
            " #   Column                   Non-Null Count  Dtype         \n",
            "---  ------                   --------------  -----         \n",
            " 0   transaction_id           20000 non-null  int64         \n",
            " 1   product_id               20000 non-null  int64         \n",
            " 2   customer_id              20000 non-null  int64         \n",
            " 3   transaction_date         20000 non-null  datetime64[ns]\n",
            " 4   online_order             19640 non-null  float64       \n",
            " 5   order_status             20000 non-null  object        \n",
            " 6   brand                    19803 non-null  object        \n",
            " 7   product_line             19803 non-null  object        \n",
            " 8   product_class            19803 non-null  object        \n",
            " 9   product_size             19803 non-null  object        \n",
            " 10  list_price               20000 non-null  float64       \n",
            " 11  standard_cost            19803 non-null  float64       \n",
            " 12  product_first_sold_date  19803 non-null  float64       \n",
            "dtypes: datetime64[ns](1), float64(4), int64(3), object(5)\n",
            "memory usage: 2.0+ MB\n"
          ]
        }
      ]
    },
    {
      "cell_type": "markdown",
      "source": [
        "This dataset have 13 columns out of which 6 columns have impproper data type"
      ],
      "metadata": {
        "id": "qcT7uBhx5YSl"
      }
    },
    {
      "cell_type": "code",
      "source": [
        "# Lets first correct the variables from object to intger:\n",
        "transactions = transactions.astype({\"transaction_id\":\"int\",\"product_id\":\"int\",\n",
        "                                    \"customer_id\":\"int\"})"
      ],
      "metadata": {
        "id": "NZGDyq0GM-gJ"
      },
      "execution_count": null,
      "outputs": []
    },
    {
      "cell_type": "code",
      "source": [
        "# Lets convert the cost and price values to float data type:\n",
        "transactions = transactions.astype({\"list_price\":\"float\",\"standard_cost\":\"float\"})"
      ],
      "metadata": {
        "id": "ri4cZYxwmSAE"
      },
      "execution_count": null,
      "outputs": []
    },
    {
      "cell_type": "code",
      "source": [
        "# We also need to convert date variables from object to date time format.\n",
        "transactions['transaction_date'] = pd.to_datetime(transactions['transaction_date'])"
      ],
      "metadata": {
        "id": "KRBoEAlsmYPQ"
      },
      "execution_count": null,
      "outputs": []
    },
    {
      "cell_type": "code",
      "source": [
        "transactions.tail()"
      ],
      "metadata": {
        "colab": {
          "base_uri": "https://localhost:8080/",
          "height": 340
        },
        "id": "Zip7EPDKoKHU",
        "outputId": "82ced564-36c7-4538-b4e9-463bdda59d8a"
      },
      "execution_count": null,
      "outputs": [
        {
          "output_type": "execute_result",
          "data": {
            "text/plain": [
              "       transaction_id  product_id  customer_id transaction_date  online_order  \\\n",
              "19995           19996          51         1018       2017-06-24           1.0   \n",
              "19996           19997          41          127       2017-11-09           1.0   \n",
              "19997           19998          87         2284       2017-04-14           1.0   \n",
              "19998           19999           6         2764       2017-07-03           0.0   \n",
              "19999           20000          11         1144       2017-09-22           1.0   \n",
              "\n",
              "      order_status          brand product_line product_class product_size  \\\n",
              "19995     Approved     OHM Cycles     Standard          high       medium   \n",
              "19996     Approved          Solex         Road        medium       medium   \n",
              "19997     Approved     OHM Cycles     Standard        medium       medium   \n",
              "19998     Approved     OHM Cycles     Standard          high       medium   \n",
              "19999     Approved  Trek Bicycles     Standard        medium        small   \n",
              "\n",
              "       list_price  standard_cost  product_first_sold_date  \n",
              "19995     2005.66        1203.40                  37823.0  \n",
              "19996      416.98         312.74                  35560.0  \n",
              "19997     1636.90          44.71                  40410.0  \n",
              "19998      227.88         136.73                  38216.0  \n",
              "19999     1775.81        1580.47                  36334.0  "
            ],
            "text/html": [
              "\n",
              "  <div id=\"df-a2146080-b5f9-4475-978e-a65e8de7861f\">\n",
              "    <div class=\"colab-df-container\">\n",
              "      <div>\n",
              "<style scoped>\n",
              "    .dataframe tbody tr th:only-of-type {\n",
              "        vertical-align: middle;\n",
              "    }\n",
              "\n",
              "    .dataframe tbody tr th {\n",
              "        vertical-align: top;\n",
              "    }\n",
              "\n",
              "    .dataframe thead th {\n",
              "        text-align: right;\n",
              "    }\n",
              "</style>\n",
              "<table border=\"1\" class=\"dataframe\">\n",
              "  <thead>\n",
              "    <tr style=\"text-align: right;\">\n",
              "      <th></th>\n",
              "      <th>transaction_id</th>\n",
              "      <th>product_id</th>\n",
              "      <th>customer_id</th>\n",
              "      <th>transaction_date</th>\n",
              "      <th>online_order</th>\n",
              "      <th>order_status</th>\n",
              "      <th>brand</th>\n",
              "      <th>product_line</th>\n",
              "      <th>product_class</th>\n",
              "      <th>product_size</th>\n",
              "      <th>list_price</th>\n",
              "      <th>standard_cost</th>\n",
              "      <th>product_first_sold_date</th>\n",
              "    </tr>\n",
              "  </thead>\n",
              "  <tbody>\n",
              "    <tr>\n",
              "      <th>19995</th>\n",
              "      <td>19996</td>\n",
              "      <td>51</td>\n",
              "      <td>1018</td>\n",
              "      <td>2017-06-24</td>\n",
              "      <td>1.0</td>\n",
              "      <td>Approved</td>\n",
              "      <td>OHM Cycles</td>\n",
              "      <td>Standard</td>\n",
              "      <td>high</td>\n",
              "      <td>medium</td>\n",
              "      <td>2005.66</td>\n",
              "      <td>1203.40</td>\n",
              "      <td>37823.0</td>\n",
              "    </tr>\n",
              "    <tr>\n",
              "      <th>19996</th>\n",
              "      <td>19997</td>\n",
              "      <td>41</td>\n",
              "      <td>127</td>\n",
              "      <td>2017-11-09</td>\n",
              "      <td>1.0</td>\n",
              "      <td>Approved</td>\n",
              "      <td>Solex</td>\n",
              "      <td>Road</td>\n",
              "      <td>medium</td>\n",
              "      <td>medium</td>\n",
              "      <td>416.98</td>\n",
              "      <td>312.74</td>\n",
              "      <td>35560.0</td>\n",
              "    </tr>\n",
              "    <tr>\n",
              "      <th>19997</th>\n",
              "      <td>19998</td>\n",
              "      <td>87</td>\n",
              "      <td>2284</td>\n",
              "      <td>2017-04-14</td>\n",
              "      <td>1.0</td>\n",
              "      <td>Approved</td>\n",
              "      <td>OHM Cycles</td>\n",
              "      <td>Standard</td>\n",
              "      <td>medium</td>\n",
              "      <td>medium</td>\n",
              "      <td>1636.90</td>\n",
              "      <td>44.71</td>\n",
              "      <td>40410.0</td>\n",
              "    </tr>\n",
              "    <tr>\n",
              "      <th>19998</th>\n",
              "      <td>19999</td>\n",
              "      <td>6</td>\n",
              "      <td>2764</td>\n",
              "      <td>2017-07-03</td>\n",
              "      <td>0.0</td>\n",
              "      <td>Approved</td>\n",
              "      <td>OHM Cycles</td>\n",
              "      <td>Standard</td>\n",
              "      <td>high</td>\n",
              "      <td>medium</td>\n",
              "      <td>227.88</td>\n",
              "      <td>136.73</td>\n",
              "      <td>38216.0</td>\n",
              "    </tr>\n",
              "    <tr>\n",
              "      <th>19999</th>\n",
              "      <td>20000</td>\n",
              "      <td>11</td>\n",
              "      <td>1144</td>\n",
              "      <td>2017-09-22</td>\n",
              "      <td>1.0</td>\n",
              "      <td>Approved</td>\n",
              "      <td>Trek Bicycles</td>\n",
              "      <td>Standard</td>\n",
              "      <td>medium</td>\n",
              "      <td>small</td>\n",
              "      <td>1775.81</td>\n",
              "      <td>1580.47</td>\n",
              "      <td>36334.0</td>\n",
              "    </tr>\n",
              "  </tbody>\n",
              "</table>\n",
              "</div>\n",
              "      <button class=\"colab-df-convert\" onclick=\"convertToInteractive('df-a2146080-b5f9-4475-978e-a65e8de7861f')\"\n",
              "              title=\"Convert this dataframe to an interactive table.\"\n",
              "              style=\"display:none;\">\n",
              "        \n",
              "  <svg xmlns=\"http://www.w3.org/2000/svg\" height=\"24px\"viewBox=\"0 0 24 24\"\n",
              "       width=\"24px\">\n",
              "    <path d=\"M0 0h24v24H0V0z\" fill=\"none\"/>\n",
              "    <path d=\"M18.56 5.44l.94 2.06.94-2.06 2.06-.94-2.06-.94-.94-2.06-.94 2.06-2.06.94zm-11 1L8.5 8.5l.94-2.06 2.06-.94-2.06-.94L8.5 2.5l-.94 2.06-2.06.94zm10 10l.94 2.06.94-2.06 2.06-.94-2.06-.94-.94-2.06-.94 2.06-2.06.94z\"/><path d=\"M17.41 7.96l-1.37-1.37c-.4-.4-.92-.59-1.43-.59-.52 0-1.04.2-1.43.59L10.3 9.45l-7.72 7.72c-.78.78-.78 2.05 0 2.83L4 21.41c.39.39.9.59 1.41.59.51 0 1.02-.2 1.41-.59l7.78-7.78 2.81-2.81c.8-.78.8-2.07 0-2.86zM5.41 20L4 18.59l7.72-7.72 1.47 1.35L5.41 20z\"/>\n",
              "  </svg>\n",
              "      </button>\n",
              "      \n",
              "  <style>\n",
              "    .colab-df-container {\n",
              "      display:flex;\n",
              "      flex-wrap:wrap;\n",
              "      gap: 12px;\n",
              "    }\n",
              "\n",
              "    .colab-df-convert {\n",
              "      background-color: #E8F0FE;\n",
              "      border: none;\n",
              "      border-radius: 50%;\n",
              "      cursor: pointer;\n",
              "      display: none;\n",
              "      fill: #1967D2;\n",
              "      height: 32px;\n",
              "      padding: 0 0 0 0;\n",
              "      width: 32px;\n",
              "    }\n",
              "\n",
              "    .colab-df-convert:hover {\n",
              "      background-color: #E2EBFA;\n",
              "      box-shadow: 0px 1px 2px rgba(60, 64, 67, 0.3), 0px 1px 3px 1px rgba(60, 64, 67, 0.15);\n",
              "      fill: #174EA6;\n",
              "    }\n",
              "\n",
              "    [theme=dark] .colab-df-convert {\n",
              "      background-color: #3B4455;\n",
              "      fill: #D2E3FC;\n",
              "    }\n",
              "\n",
              "    [theme=dark] .colab-df-convert:hover {\n",
              "      background-color: #434B5C;\n",
              "      box-shadow: 0px 1px 3px 1px rgba(0, 0, 0, 0.15);\n",
              "      filter: drop-shadow(0px 1px 2px rgba(0, 0, 0, 0.3));\n",
              "      fill: #FFFFFF;\n",
              "    }\n",
              "  </style>\n",
              "\n",
              "      <script>\n",
              "        const buttonEl =\n",
              "          document.querySelector('#df-a2146080-b5f9-4475-978e-a65e8de7861f button.colab-df-convert');\n",
              "        buttonEl.style.display =\n",
              "          google.colab.kernel.accessAllowed ? 'block' : 'none';\n",
              "\n",
              "        async function convertToInteractive(key) {\n",
              "          const element = document.querySelector('#df-a2146080-b5f9-4475-978e-a65e8de7861f');\n",
              "          const dataTable =\n",
              "            await google.colab.kernel.invokeFunction('convertToInteractive',\n",
              "                                                     [key], {});\n",
              "          if (!dataTable) return;\n",
              "\n",
              "          const docLinkHtml = 'Like what you see? Visit the ' +\n",
              "            '<a target=\"_blank\" href=https://colab.research.google.com/notebooks/data_table.ipynb>data table notebook</a>'\n",
              "            + ' to learn more about interactive tables.';\n",
              "          element.innerHTML = '';\n",
              "          dataTable['output_type'] = 'display_data';\n",
              "          await google.colab.output.renderOutput(dataTable, element);\n",
              "          const docLink = document.createElement('div');\n",
              "          docLink.innerHTML = docLinkHtml;\n",
              "          element.appendChild(docLink);\n",
              "        }\n",
              "      </script>\n",
              "    </div>\n",
              "  </div>\n",
              "  "
            ]
          },
          "metadata": {},
          "execution_count": 129
        }
      ]
    },
    {
      "cell_type": "markdown",
      "source": [
        "Product first sold date does not seems to be a date like value and will needed to be verfied from the source of the dataset (i.e. Sprockect Central)"
      ],
      "metadata": {
        "id": "aCQBTzSsAY4t"
      }
    },
    {
      "cell_type": "markdown",
      "source": [
        "### 2.2.Customer Demographic\n",
        "\n",
        "---\n",
        "\n"
      ],
      "metadata": {
        "id": "Q5YThMBuFhx0"
      }
    },
    {
      "cell_type": "code",
      "source": [
        "customer_demographic.info()"
      ],
      "metadata": {
        "colab": {
          "base_uri": "https://localhost:8080/"
        },
        "id": "RGGxT6n1F08w",
        "outputId": "04ea99b4-ac12-4ec2-e9e6-c71eff8ec5dc"
      },
      "execution_count": null,
      "outputs": [
        {
          "output_type": "stream",
          "name": "stdout",
          "text": [
            "<class 'pandas.core.frame.DataFrame'>\n",
            "RangeIndex: 4000 entries, 0 to 3999\n",
            "Data columns (total 13 columns):\n",
            " #   Column                               Non-Null Count  Dtype         \n",
            "---  ------                               --------------  -----         \n",
            " 0   customer_id                          4000 non-null   int64         \n",
            " 1   first_name                           4000 non-null   object        \n",
            " 2   last_name                            3875 non-null   object        \n",
            " 3   gender                               4000 non-null   object        \n",
            " 4   past_3_years_bike_related_purchases  4000 non-null   int64         \n",
            " 5   DOB                                  3913 non-null   datetime64[ns]\n",
            " 6   job_title                            3494 non-null   object        \n",
            " 7   job_industry_category                3344 non-null   object        \n",
            " 8   wealth_segment                       4000 non-null   object        \n",
            " 9   deceased_indicator                   4000 non-null   object        \n",
            " 10  default                              3698 non-null   object        \n",
            " 11  owns_car                             4000 non-null   object        \n",
            " 12  tenure                               3913 non-null   float64       \n",
            "dtypes: datetime64[ns](1), float64(1), int64(2), object(9)\n",
            "memory usage: 406.4+ KB\n"
          ]
        }
      ]
    },
    {
      "cell_type": "markdown",
      "source": [
        "* This Dataset have all fields with correct data types, except 'default field' about which will be discussed in later stage.\n",
        "* By it's name default we are unable to understand what kind of info it holds."
      ],
      "metadata": {
        "id": "xORKOenYGO9k"
      }
    },
    {
      "cell_type": "markdown",
      "source": [
        "### 2.3. Customer Address\n",
        "---"
      ],
      "metadata": {
        "id": "epwfGVV1HJgH"
      }
    },
    {
      "cell_type": "code",
      "source": [
        "customer_address.info()"
      ],
      "metadata": {
        "colab": {
          "base_uri": "https://localhost:8080/"
        },
        "id": "GHYc8DNMF01v",
        "outputId": "6de1e19e-9042-4a76-e084-e864037381c3"
      },
      "execution_count": null,
      "outputs": [
        {
          "output_type": "stream",
          "name": "stdout",
          "text": [
            "<class 'pandas.core.frame.DataFrame'>\n",
            "RangeIndex: 3999 entries, 0 to 3998\n",
            "Data columns (total 6 columns):\n",
            " #   Column              Non-Null Count  Dtype \n",
            "---  ------              --------------  ----- \n",
            " 0   customer_id         3999 non-null   int64 \n",
            " 1   address             3999 non-null   object\n",
            " 2   postcode            3999 non-null   int64 \n",
            " 3   state               3999 non-null   object\n",
            " 4   country             3999 non-null   object\n",
            " 5   property_valuation  3999 non-null   int64 \n",
            "dtypes: int64(3), object(3)\n",
            "memory usage: 187.6+ KB\n"
          ]
        }
      ]
    },
    {
      "cell_type": "markdown",
      "source": [
        "* This dataset have all fields with correct data types."
      ],
      "metadata": {
        "id": "VLrDoAV-HV2J"
      }
    },
    {
      "cell_type": "markdown",
      "source": [
        "### 3.Completeness \n",
        "*   This stage will involve looking at missing values\n",
        "\n"
      ],
      "metadata": {
        "id": "BxvQG3U5BBPj"
      }
    },
    {
      "cell_type": "markdown",
      "source": [
        "### 3.1. Transaction dataset\n",
        "\n",
        "---"
      ],
      "metadata": {
        "id": "nR7oR2Bf7gkz"
      }
    },
    {
      "cell_type": "code",
      "source": [
        "transactions.isnull().sum()"
      ],
      "metadata": {
        "id": "eF2SbKRBpKBY",
        "colab": {
          "base_uri": "https://localhost:8080/"
        },
        "outputId": "2ce61c28-8ac8-4e32-9ff2-ceafdd7c4ed3"
      },
      "execution_count": null,
      "outputs": [
        {
          "output_type": "execute_result",
          "data": {
            "text/plain": [
              "transaction_id               0\n",
              "product_id                   0\n",
              "customer_id                  0\n",
              "transaction_date             0\n",
              "online_order               360\n",
              "order_status                 0\n",
              "brand                      197\n",
              "product_line               197\n",
              "product_class              197\n",
              "product_size               197\n",
              "list_price                   0\n",
              "standard_cost              197\n",
              "product_first_sold_date    197\n",
              "dtype: int64"
            ]
          },
          "metadata": {},
          "execution_count": 133
        }
      ]
    },
    {
      "cell_type": "markdown",
      "source": [
        "There are 7 out of 13 fields having missing values.\n"
      ],
      "metadata": {
        "id": "9i-NJbhiBk_u"
      }
    },
    {
      "cell_type": "markdown",
      "source": [
        "### 3.2. Customer deomographic\n",
        "\n",
        "---"
      ],
      "metadata": {
        "id": "5P1D-7M98Q2B"
      }
    },
    {
      "cell_type": "code",
      "source": [
        "customer_demographic.isnull().sum()"
      ],
      "metadata": {
        "colab": {
          "base_uri": "https://localhost:8080/"
        },
        "id": "yo2Q9cpdJoyJ",
        "outputId": "7a314dd7-a0c4-4fbe-b2d5-7e725f5a7aa1"
      },
      "execution_count": null,
      "outputs": [
        {
          "output_type": "execute_result",
          "data": {
            "text/plain": [
              "customer_id                              0\n",
              "first_name                               0\n",
              "last_name                              125\n",
              "gender                                   0\n",
              "past_3_years_bike_related_purchases      0\n",
              "DOB                                     87\n",
              "job_title                              506\n",
              "job_industry_category                  656\n",
              "wealth_segment                           0\n",
              "deceased_indicator                       0\n",
              "default                                302\n",
              "owns_car                                 0\n",
              "tenure                                  87\n",
              "dtype: int64"
            ]
          },
          "metadata": {},
          "execution_count": 135
        }
      ]
    },
    {
      "cell_type": "markdown",
      "source": [
        "This dataset have 4 out of 13 columns with missing values.\n",
        "\n"
      ],
      "metadata": {
        "id": "C9mwJPstJpSJ"
      }
    },
    {
      "cell_type": "markdown",
      "source": [
        "### 3.3. Customer Address\n",
        "\n",
        "---"
      ],
      "metadata": {
        "id": "VMgewTunKZ2E"
      }
    },
    {
      "cell_type": "code",
      "source": [
        "customer_address.isnull().sum()"
      ],
      "metadata": {
        "colab": {
          "base_uri": "https://localhost:8080/"
        },
        "id": "lsTrWGroKqeV",
        "outputId": "62c3c080-96cc-4cc9-d1dc-192e6667fa48"
      },
      "execution_count": null,
      "outputs": [
        {
          "output_type": "execute_result",
          "data": {
            "text/plain": [
              "customer_id           0\n",
              "address               0\n",
              "postcode              0\n",
              "state                 0\n",
              "country               0\n",
              "property_valuation    0\n",
              "dtype: int64"
            ]
          },
          "metadata": {},
          "execution_count": 136
        }
      ]
    },
    {
      "cell_type": "markdown",
      "source": [
        "This dataset have 0 missing values"
      ],
      "metadata": {
        "id": "X8U9oTn0KrP0"
      }
    },
    {
      "cell_type": "markdown",
      "source": [
        "### 4.Consistency\n",
        "\n",
        "\n",
        "*   This phase involves looking at errors or contradictory values.\n",
        "\n"
      ],
      "metadata": {
        "id": "HLkSd_gNDLjs"
      }
    },
    {
      "cell_type": "markdown",
      "source": [
        "### 4.1. Transaction\n",
        "\n",
        "---"
      ],
      "metadata": {
        "id": "N9--X54H8UmT"
      }
    },
    {
      "cell_type": "code",
      "source": [
        "# Looking at the bottom 5 rows :\n",
        "transactions.tail()"
      ],
      "metadata": {
        "colab": {
          "base_uri": "https://localhost:8080/",
          "height": 340
        },
        "id": "16UWTkliBjKl",
        "outputId": "e7d4ee65-604b-4cf3-f49f-9b0b722d23aa"
      },
      "execution_count": null,
      "outputs": [
        {
          "output_type": "execute_result",
          "data": {
            "text/plain": [
              "       transaction_id  product_id  customer_id transaction_date  online_order  \\\n",
              "19995           19996          51         1018       2017-06-24           1.0   \n",
              "19996           19997          41          127       2017-11-09           1.0   \n",
              "19997           19998          87         2284       2017-04-14           1.0   \n",
              "19998           19999           6         2764       2017-07-03           0.0   \n",
              "19999           20000          11         1144       2017-09-22           1.0   \n",
              "\n",
              "      order_status          brand product_line product_class product_size  \\\n",
              "19995     Approved     OHM Cycles     Standard          high       medium   \n",
              "19996     Approved          Solex         Road        medium       medium   \n",
              "19997     Approved     OHM Cycles     Standard        medium       medium   \n",
              "19998     Approved     OHM Cycles     Standard          high       medium   \n",
              "19999     Approved  Trek Bicycles     Standard        medium        small   \n",
              "\n",
              "       list_price  standard_cost  product_first_sold_date  \n",
              "19995     2005.66        1203.40                  37823.0  \n",
              "19996      416.98         312.74                  35560.0  \n",
              "19997     1636.90          44.71                  40410.0  \n",
              "19998      227.88         136.73                  38216.0  \n",
              "19999     1775.81        1580.47                  36334.0  "
            ],
            "text/html": [
              "\n",
              "  <div id=\"df-784e3136-2def-4e72-9888-b8ca1698c411\">\n",
              "    <div class=\"colab-df-container\">\n",
              "      <div>\n",
              "<style scoped>\n",
              "    .dataframe tbody tr th:only-of-type {\n",
              "        vertical-align: middle;\n",
              "    }\n",
              "\n",
              "    .dataframe tbody tr th {\n",
              "        vertical-align: top;\n",
              "    }\n",
              "\n",
              "    .dataframe thead th {\n",
              "        text-align: right;\n",
              "    }\n",
              "</style>\n",
              "<table border=\"1\" class=\"dataframe\">\n",
              "  <thead>\n",
              "    <tr style=\"text-align: right;\">\n",
              "      <th></th>\n",
              "      <th>transaction_id</th>\n",
              "      <th>product_id</th>\n",
              "      <th>customer_id</th>\n",
              "      <th>transaction_date</th>\n",
              "      <th>online_order</th>\n",
              "      <th>order_status</th>\n",
              "      <th>brand</th>\n",
              "      <th>product_line</th>\n",
              "      <th>product_class</th>\n",
              "      <th>product_size</th>\n",
              "      <th>list_price</th>\n",
              "      <th>standard_cost</th>\n",
              "      <th>product_first_sold_date</th>\n",
              "    </tr>\n",
              "  </thead>\n",
              "  <tbody>\n",
              "    <tr>\n",
              "      <th>19995</th>\n",
              "      <td>19996</td>\n",
              "      <td>51</td>\n",
              "      <td>1018</td>\n",
              "      <td>2017-06-24</td>\n",
              "      <td>1.0</td>\n",
              "      <td>Approved</td>\n",
              "      <td>OHM Cycles</td>\n",
              "      <td>Standard</td>\n",
              "      <td>high</td>\n",
              "      <td>medium</td>\n",
              "      <td>2005.66</td>\n",
              "      <td>1203.40</td>\n",
              "      <td>37823.0</td>\n",
              "    </tr>\n",
              "    <tr>\n",
              "      <th>19996</th>\n",
              "      <td>19997</td>\n",
              "      <td>41</td>\n",
              "      <td>127</td>\n",
              "      <td>2017-11-09</td>\n",
              "      <td>1.0</td>\n",
              "      <td>Approved</td>\n",
              "      <td>Solex</td>\n",
              "      <td>Road</td>\n",
              "      <td>medium</td>\n",
              "      <td>medium</td>\n",
              "      <td>416.98</td>\n",
              "      <td>312.74</td>\n",
              "      <td>35560.0</td>\n",
              "    </tr>\n",
              "    <tr>\n",
              "      <th>19997</th>\n",
              "      <td>19998</td>\n",
              "      <td>87</td>\n",
              "      <td>2284</td>\n",
              "      <td>2017-04-14</td>\n",
              "      <td>1.0</td>\n",
              "      <td>Approved</td>\n",
              "      <td>OHM Cycles</td>\n",
              "      <td>Standard</td>\n",
              "      <td>medium</td>\n",
              "      <td>medium</td>\n",
              "      <td>1636.90</td>\n",
              "      <td>44.71</td>\n",
              "      <td>40410.0</td>\n",
              "    </tr>\n",
              "    <tr>\n",
              "      <th>19998</th>\n",
              "      <td>19999</td>\n",
              "      <td>6</td>\n",
              "      <td>2764</td>\n",
              "      <td>2017-07-03</td>\n",
              "      <td>0.0</td>\n",
              "      <td>Approved</td>\n",
              "      <td>OHM Cycles</td>\n",
              "      <td>Standard</td>\n",
              "      <td>high</td>\n",
              "      <td>medium</td>\n",
              "      <td>227.88</td>\n",
              "      <td>136.73</td>\n",
              "      <td>38216.0</td>\n",
              "    </tr>\n",
              "    <tr>\n",
              "      <th>19999</th>\n",
              "      <td>20000</td>\n",
              "      <td>11</td>\n",
              "      <td>1144</td>\n",
              "      <td>2017-09-22</td>\n",
              "      <td>1.0</td>\n",
              "      <td>Approved</td>\n",
              "      <td>Trek Bicycles</td>\n",
              "      <td>Standard</td>\n",
              "      <td>medium</td>\n",
              "      <td>small</td>\n",
              "      <td>1775.81</td>\n",
              "      <td>1580.47</td>\n",
              "      <td>36334.0</td>\n",
              "    </tr>\n",
              "  </tbody>\n",
              "</table>\n",
              "</div>\n",
              "      <button class=\"colab-df-convert\" onclick=\"convertToInteractive('df-784e3136-2def-4e72-9888-b8ca1698c411')\"\n",
              "              title=\"Convert this dataframe to an interactive table.\"\n",
              "              style=\"display:none;\">\n",
              "        \n",
              "  <svg xmlns=\"http://www.w3.org/2000/svg\" height=\"24px\"viewBox=\"0 0 24 24\"\n",
              "       width=\"24px\">\n",
              "    <path d=\"M0 0h24v24H0V0z\" fill=\"none\"/>\n",
              "    <path d=\"M18.56 5.44l.94 2.06.94-2.06 2.06-.94-2.06-.94-.94-2.06-.94 2.06-2.06.94zm-11 1L8.5 8.5l.94-2.06 2.06-.94-2.06-.94L8.5 2.5l-.94 2.06-2.06.94zm10 10l.94 2.06.94-2.06 2.06-.94-2.06-.94-.94-2.06-.94 2.06-2.06.94z\"/><path d=\"M17.41 7.96l-1.37-1.37c-.4-.4-.92-.59-1.43-.59-.52 0-1.04.2-1.43.59L10.3 9.45l-7.72 7.72c-.78.78-.78 2.05 0 2.83L4 21.41c.39.39.9.59 1.41.59.51 0 1.02-.2 1.41-.59l7.78-7.78 2.81-2.81c.8-.78.8-2.07 0-2.86zM5.41 20L4 18.59l7.72-7.72 1.47 1.35L5.41 20z\"/>\n",
              "  </svg>\n",
              "      </button>\n",
              "      \n",
              "  <style>\n",
              "    .colab-df-container {\n",
              "      display:flex;\n",
              "      flex-wrap:wrap;\n",
              "      gap: 12px;\n",
              "    }\n",
              "\n",
              "    .colab-df-convert {\n",
              "      background-color: #E8F0FE;\n",
              "      border: none;\n",
              "      border-radius: 50%;\n",
              "      cursor: pointer;\n",
              "      display: none;\n",
              "      fill: #1967D2;\n",
              "      height: 32px;\n",
              "      padding: 0 0 0 0;\n",
              "      width: 32px;\n",
              "    }\n",
              "\n",
              "    .colab-df-convert:hover {\n",
              "      background-color: #E2EBFA;\n",
              "      box-shadow: 0px 1px 2px rgba(60, 64, 67, 0.3), 0px 1px 3px 1px rgba(60, 64, 67, 0.15);\n",
              "      fill: #174EA6;\n",
              "    }\n",
              "\n",
              "    [theme=dark] .colab-df-convert {\n",
              "      background-color: #3B4455;\n",
              "      fill: #D2E3FC;\n",
              "    }\n",
              "\n",
              "    [theme=dark] .colab-df-convert:hover {\n",
              "      background-color: #434B5C;\n",
              "      box-shadow: 0px 1px 3px 1px rgba(0, 0, 0, 0.15);\n",
              "      filter: drop-shadow(0px 1px 2px rgba(0, 0, 0, 0.3));\n",
              "      fill: #FFFFFF;\n",
              "    }\n",
              "  </style>\n",
              "\n",
              "      <script>\n",
              "        const buttonEl =\n",
              "          document.querySelector('#df-784e3136-2def-4e72-9888-b8ca1698c411 button.colab-df-convert');\n",
              "        buttonEl.style.display =\n",
              "          google.colab.kernel.accessAllowed ? 'block' : 'none';\n",
              "\n",
              "        async function convertToInteractive(key) {\n",
              "          const element = document.querySelector('#df-784e3136-2def-4e72-9888-b8ca1698c411');\n",
              "          const dataTable =\n",
              "            await google.colab.kernel.invokeFunction('convertToInteractive',\n",
              "                                                     [key], {});\n",
              "          if (!dataTable) return;\n",
              "\n",
              "          const docLinkHtml = 'Like what you see? Visit the ' +\n",
              "            '<a target=\"_blank\" href=https://colab.research.google.com/notebooks/data_table.ipynb>data table notebook</a>'\n",
              "            + ' to learn more about interactive tables.';\n",
              "          element.innerHTML = '';\n",
              "          dataTable['output_type'] = 'display_data';\n",
              "          await google.colab.output.renderOutput(dataTable, element);\n",
              "          const docLink = document.createElement('div');\n",
              "          docLink.innerHTML = docLinkHtml;\n",
              "          element.appendChild(docLink);\n",
              "        }\n",
              "      </script>\n",
              "    </div>\n",
              "  </div>\n",
              "  "
            ]
          },
          "metadata": {},
          "execution_count": 137
        }
      ]
    },
    {
      "cell_type": "code",
      "source": [
        "# Now lets look at the types of value in each fields:\n",
        "# column 1\n",
        "transactions['transaction_id'].unique()"
      ],
      "metadata": {
        "colab": {
          "base_uri": "https://localhost:8080/"
        },
        "id": "FFDh4h_0El4b",
        "outputId": "be0c0534-163e-40cc-9e42-5486d3402086"
      },
      "execution_count": null,
      "outputs": [
        {
          "output_type": "execute_result",
          "data": {
            "text/plain": [
              "array([    1,     2,     3, ..., 19998, 19999, 20000])"
            ]
          },
          "metadata": {},
          "execution_count": 138
        }
      ]
    },
    {
      "cell_type": "code",
      "source": [
        "# column 2\n",
        "transactions['product_id'].unique()"
      ],
      "metadata": {
        "colab": {
          "base_uri": "https://localhost:8080/"
        },
        "id": "JF6XlB_BKuCo",
        "outputId": "26230b5b-52e8-4a1c-ae7a-077a670f7c40"
      },
      "execution_count": null,
      "outputs": [
        {
          "output_type": "execute_result",
          "data": {
            "text/plain": [
              "array([  2,   3,  37,  88,  78,  25,  22,  15,  67,  12,   5,  61,  35,\n",
              "        16,  79,  33,  54,  27,  82,  89,  64,  19,  72,  91,   1,  99,\n",
              "         0,  92,  14,  44,  76,  46,  55,  66,  81,  86,  32,  77,  96,\n",
              "         6,  47,  94,  93,  60,  28,   4,  38,  56,  58,  50,  80,  87,\n",
              "        84,  21,  31,  62,  17,  73,  45,  49,  95,  18,  70,  26,  39,\n",
              "        36,  98,  75,  42,  20,  24,  53,  65,  29,  11,  10,   7,  41,\n",
              "         9,  69,  90,  97, 100,  74,  71,  34,  57,  23,  51,  59,  63,\n",
              "        40,   8,  13,  30,  48,  68,  83,  43,  52,  85])"
            ]
          },
          "metadata": {},
          "execution_count": 139
        }
      ]
    },
    {
      "cell_type": "code",
      "source": [
        "# column 3\n",
        "transactions['customer_id'].unique()"
      ],
      "metadata": {
        "colab": {
          "base_uri": "https://localhost:8080/"
        },
        "id": "lqJT9zcbK56u",
        "outputId": "d2d71f98-5f4e-4f8c-c974-752f4f305d06"
      },
      "execution_count": null,
      "outputs": [
        {
          "output_type": "execute_result",
          "data": {
            "text/plain": [
              "array([2950, 3120,  402, ...,  130, 2789, 3446])"
            ]
          },
          "metadata": {},
          "execution_count": 140
        }
      ]
    },
    {
      "cell_type": "code",
      "source": [
        "# Column 4 --- transaction_date\n",
        "transactions['transaction_date'].unique()"
      ],
      "metadata": {
        "colab": {
          "base_uri": "https://localhost:8080/"
        },
        "id": "HfGWAHRbnvn3",
        "outputId": "b3a64aa9-142c-4cc3-b513-de20d537a48e"
      },
      "execution_count": null,
      "outputs": [
        {
          "output_type": "execute_result",
          "data": {
            "text/plain": [
              "array(['2017-02-25T00:00:00.000000000', '2017-05-21T00:00:00.000000000',\n",
              "       '2017-10-16T00:00:00.000000000', '2017-08-31T00:00:00.000000000',\n",
              "       '2017-10-01T00:00:00.000000000', '2017-03-08T00:00:00.000000000',\n",
              "       '2017-04-21T00:00:00.000000000', '2017-07-15T00:00:00.000000000',\n",
              "       '2017-08-10T00:00:00.000000000', '2017-08-30T00:00:00.000000000',\n",
              "       '2017-01-17T00:00:00.000000000', '2017-01-05T00:00:00.000000000',\n",
              "       '2017-02-26T00:00:00.000000000', '2017-09-10T00:00:00.000000000',\n",
              "       '2017-06-11T00:00:00.000000000', '2017-10-10T00:00:00.000000000',\n",
              "       '2017-04-03T00:00:00.000000000', '2017-06-02T00:00:00.000000000',\n",
              "       '2017-04-06T00:00:00.000000000', '2017-01-28T00:00:00.000000000',\n",
              "       '2017-10-09T00:00:00.000000000', '2017-06-29T00:00:00.000000000',\n",
              "       '2017-04-08T00:00:00.000000000', '2017-10-18T00:00:00.000000000',\n",
              "       '2017-01-10T00:00:00.000000000', '2017-04-11T00:00:00.000000000',\n",
              "       '2017-12-23T00:00:00.000000000', '2017-10-13T00:00:00.000000000',\n",
              "       '2017-03-15T00:00:00.000000000', '2017-09-05T00:00:00.000000000',\n",
              "       '2017-02-18T00:00:00.000000000', '2017-03-20T00:00:00.000000000',\n",
              "       '2017-02-28T00:00:00.000000000', '2017-08-20T00:00:00.000000000',\n",
              "       '2017-07-07T00:00:00.000000000', '2017-01-09T00:00:00.000000000',\n",
              "       '2017-12-06T00:00:00.000000000', '2017-09-12T00:00:00.000000000',\n",
              "       '2017-11-28T00:00:00.000000000', '2017-05-08T00:00:00.000000000',\n",
              "       '2017-05-14T00:00:00.000000000', '2017-03-17T00:00:00.000000000',\n",
              "       '2017-12-22T00:00:00.000000000', '2017-06-07T00:00:00.000000000',\n",
              "       '2017-06-20T00:00:00.000000000', '2017-05-07T00:00:00.000000000',\n",
              "       '2017-06-10T00:00:00.000000000', '2017-06-17T00:00:00.000000000',\n",
              "       '2017-05-10T00:00:00.000000000', '2017-03-24T00:00:00.000000000',\n",
              "       '2017-11-27T00:00:00.000000000', '2017-12-21T00:00:00.000000000',\n",
              "       '2017-02-09T00:00:00.000000000', '2017-09-18T00:00:00.000000000',\n",
              "       '2017-11-14T00:00:00.000000000', '2017-02-15T00:00:00.000000000',\n",
              "       '2017-12-18T00:00:00.000000000', '2017-02-24T00:00:00.000000000',\n",
              "       '2017-12-17T00:00:00.000000000', '2017-07-08T00:00:00.000000000',\n",
              "       '2017-05-16T00:00:00.000000000', '2017-02-23T00:00:00.000000000',\n",
              "       '2017-07-03T00:00:00.000000000', '2017-09-30T00:00:00.000000000',\n",
              "       '2017-10-21T00:00:00.000000000', '2017-05-06T00:00:00.000000000',\n",
              "       '2017-01-03T00:00:00.000000000', '2017-05-09T00:00:00.000000000',\n",
              "       '2017-07-23T00:00:00.000000000', '2017-01-21T00:00:00.000000000',\n",
              "       '2017-03-10T00:00:00.000000000', '2017-11-07T00:00:00.000000000',\n",
              "       '2017-12-16T00:00:00.000000000', '2017-10-07T00:00:00.000000000',\n",
              "       '2017-04-27T00:00:00.000000000', '2017-04-01T00:00:00.000000000',\n",
              "       '2017-11-02T00:00:00.000000000', '2017-02-13T00:00:00.000000000',\n",
              "       '2017-07-19T00:00:00.000000000', '2017-05-23T00:00:00.000000000',\n",
              "       '2017-08-06T00:00:00.000000000', '2017-04-04T00:00:00.000000000',\n",
              "       '2017-08-15T00:00:00.000000000', '2017-04-15T00:00:00.000000000',\n",
              "       '2017-07-25T00:00:00.000000000', '2017-02-21T00:00:00.000000000',\n",
              "       '2017-05-31T00:00:00.000000000', '2017-06-23T00:00:00.000000000',\n",
              "       '2017-03-26T00:00:00.000000000', '2017-07-31T00:00:00.000000000',\n",
              "       '2017-07-27T00:00:00.000000000', '2017-04-14T00:00:00.000000000',\n",
              "       '2017-11-12T00:00:00.000000000', '2017-10-26T00:00:00.000000000',\n",
              "       '2017-10-11T00:00:00.000000000', '2017-03-27T00:00:00.000000000',\n",
              "       '2017-11-04T00:00:00.000000000', '2017-10-24T00:00:00.000000000',\n",
              "       '2017-05-01T00:00:00.000000000', '2017-11-21T00:00:00.000000000',\n",
              "       '2017-03-21T00:00:00.000000000', '2017-02-20T00:00:00.000000000',\n",
              "       '2017-06-16T00:00:00.000000000', '2017-12-04T00:00:00.000000000',\n",
              "       '2017-12-01T00:00:00.000000000', '2017-03-05T00:00:00.000000000',\n",
              "       '2017-03-16T00:00:00.000000000', '2017-06-05T00:00:00.000000000',\n",
              "       '2017-09-04T00:00:00.000000000', '2017-01-18T00:00:00.000000000',\n",
              "       '2017-09-28T00:00:00.000000000', '2017-09-02T00:00:00.000000000',\n",
              "       '2017-10-17T00:00:00.000000000', '2017-04-25T00:00:00.000000000',\n",
              "       '2017-09-23T00:00:00.000000000', '2017-08-02T00:00:00.000000000',\n",
              "       '2017-03-25T00:00:00.000000000', '2017-01-01T00:00:00.000000000',\n",
              "       '2017-12-25T00:00:00.000000000', '2017-01-26T00:00:00.000000000',\n",
              "       '2017-12-20T00:00:00.000000000', '2017-01-13T00:00:00.000000000',\n",
              "       '2017-11-11T00:00:00.000000000', '2017-08-19T00:00:00.000000000',\n",
              "       '2017-08-22T00:00:00.000000000', '2017-09-15T00:00:00.000000000',\n",
              "       '2017-03-01T00:00:00.000000000', '2017-08-16T00:00:00.000000000',\n",
              "       '2017-08-27T00:00:00.000000000', '2017-07-10T00:00:00.000000000',\n",
              "       '2017-12-11T00:00:00.000000000', '2017-05-20T00:00:00.000000000',\n",
              "       '2017-07-30T00:00:00.000000000', '2017-10-25T00:00:00.000000000',\n",
              "       '2017-04-26T00:00:00.000000000', '2017-02-02T00:00:00.000000000',\n",
              "       '2017-05-02T00:00:00.000000000', '2017-10-22T00:00:00.000000000',\n",
              "       '2017-11-16T00:00:00.000000000', '2017-03-30T00:00:00.000000000',\n",
              "       '2017-04-13T00:00:00.000000000', '2017-01-31T00:00:00.000000000',\n",
              "       '2017-03-18T00:00:00.000000000', '2017-01-07T00:00:00.000000000',\n",
              "       '2017-07-05T00:00:00.000000000', '2017-11-19T00:00:00.000000000',\n",
              "       '2017-11-08T00:00:00.000000000', '2017-07-24T00:00:00.000000000',\n",
              "       '2017-01-15T00:00:00.000000000', '2017-01-12T00:00:00.000000000',\n",
              "       '2017-06-30T00:00:00.000000000', '2017-06-22T00:00:00.000000000',\n",
              "       '2017-12-27T00:00:00.000000000', '2017-06-08T00:00:00.000000000',\n",
              "       '2017-07-29T00:00:00.000000000', '2017-05-27T00:00:00.000000000',\n",
              "       '2017-05-05T00:00:00.000000000', '2017-09-09T00:00:00.000000000',\n",
              "       '2017-09-22T00:00:00.000000000', '2017-04-12T00:00:00.000000000',\n",
              "       '2017-12-14T00:00:00.000000000', '2017-03-22T00:00:00.000000000',\n",
              "       '2017-11-29T00:00:00.000000000', '2017-06-09T00:00:00.000000000',\n",
              "       '2017-11-13T00:00:00.000000000', '2017-04-09T00:00:00.000000000',\n",
              "       '2017-11-30T00:00:00.000000000', '2017-03-13T00:00:00.000000000',\n",
              "       '2017-08-12T00:00:00.000000000', '2017-08-04T00:00:00.000000000',\n",
              "       '2017-09-01T00:00:00.000000000', '2017-07-02T00:00:00.000000000',\n",
              "       '2017-03-11T00:00:00.000000000', '2017-10-08T00:00:00.000000000',\n",
              "       '2017-11-23T00:00:00.000000000', '2017-01-22T00:00:00.000000000',\n",
              "       '2017-01-29T00:00:00.000000000', '2017-07-21T00:00:00.000000000',\n",
              "       '2017-02-10T00:00:00.000000000', '2017-11-25T00:00:00.000000000',\n",
              "       '2017-12-03T00:00:00.000000000', '2017-12-30T00:00:00.000000000',\n",
              "       '2017-07-26T00:00:00.000000000', '2017-06-15T00:00:00.000000000',\n",
              "       '2017-07-06T00:00:00.000000000', '2017-12-28T00:00:00.000000000',\n",
              "       '2017-01-30T00:00:00.000000000', '2017-06-26T00:00:00.000000000',\n",
              "       '2017-08-13T00:00:00.000000000', '2017-01-25T00:00:00.000000000',\n",
              "       '2017-07-11T00:00:00.000000000', '2017-04-30T00:00:00.000000000',\n",
              "       '2017-05-19T00:00:00.000000000', '2017-05-26T00:00:00.000000000',\n",
              "       '2017-02-03T00:00:00.000000000', '2017-04-28T00:00:00.000000000',\n",
              "       '2017-03-23T00:00:00.000000000', '2017-06-03T00:00:00.000000000',\n",
              "       '2017-05-04T00:00:00.000000000', '2017-03-29T00:00:00.000000000',\n",
              "       '2017-10-03T00:00:00.000000000', '2017-08-07T00:00:00.000000000',\n",
              "       '2017-02-07T00:00:00.000000000', '2017-11-20T00:00:00.000000000',\n",
              "       '2017-04-05T00:00:00.000000000', '2017-10-28T00:00:00.000000000',\n",
              "       '2017-08-25T00:00:00.000000000', '2017-01-20T00:00:00.000000000',\n",
              "       '2017-03-14T00:00:00.000000000', '2017-05-24T00:00:00.000000000',\n",
              "       '2017-11-18T00:00:00.000000000', '2017-04-07T00:00:00.000000000',\n",
              "       '2017-01-04T00:00:00.000000000', '2017-12-13T00:00:00.000000000',\n",
              "       '2017-04-20T00:00:00.000000000', '2017-03-07T00:00:00.000000000',\n",
              "       '2017-08-01T00:00:00.000000000', '2017-06-19T00:00:00.000000000',\n",
              "       '2017-01-23T00:00:00.000000000', '2017-04-19T00:00:00.000000000',\n",
              "       '2017-08-11T00:00:00.000000000', '2017-11-15T00:00:00.000000000',\n",
              "       '2017-11-01T00:00:00.000000000', '2017-10-05T00:00:00.000000000',\n",
              "       '2017-10-30T00:00:00.000000000', '2017-01-02T00:00:00.000000000',\n",
              "       '2017-07-09T00:00:00.000000000', '2017-10-20T00:00:00.000000000',\n",
              "       '2017-11-10T00:00:00.000000000', '2017-08-14T00:00:00.000000000',\n",
              "       '2017-09-13T00:00:00.000000000', '2017-05-03T00:00:00.000000000',\n",
              "       '2017-01-24T00:00:00.000000000', '2017-08-03T00:00:00.000000000',\n",
              "       '2017-08-28T00:00:00.000000000', '2017-06-24T00:00:00.000000000',\n",
              "       '2017-10-27T00:00:00.000000000', '2017-03-03T00:00:00.000000000',\n",
              "       '2017-12-02T00:00:00.000000000', '2017-10-15T00:00:00.000000000',\n",
              "       '2017-10-12T00:00:00.000000000', '2017-03-19T00:00:00.000000000',\n",
              "       '2017-06-27T00:00:00.000000000', '2017-02-27T00:00:00.000000000',\n",
              "       '2017-03-12T00:00:00.000000000', '2017-06-14T00:00:00.000000000',\n",
              "       '2017-02-17T00:00:00.000000000', '2017-09-14T00:00:00.000000000',\n",
              "       '2017-04-17T00:00:00.000000000', '2017-05-11T00:00:00.000000000',\n",
              "       '2017-11-03T00:00:00.000000000', '2017-10-02T00:00:00.000000000',\n",
              "       '2017-12-10T00:00:00.000000000', '2017-05-25T00:00:00.000000000',\n",
              "       '2017-08-26T00:00:00.000000000', '2017-09-06T00:00:00.000000000',\n",
              "       '2017-04-24T00:00:00.000000000', '2017-12-15T00:00:00.000000000',\n",
              "       '2017-02-12T00:00:00.000000000', '2017-07-22T00:00:00.000000000',\n",
              "       '2017-09-26T00:00:00.000000000', '2017-12-05T00:00:00.000000000',\n",
              "       '2017-03-31T00:00:00.000000000', '2017-11-22T00:00:00.000000000',\n",
              "       '2017-04-29T00:00:00.000000000', '2017-07-14T00:00:00.000000000',\n",
              "       '2017-09-08T00:00:00.000000000', '2017-04-22T00:00:00.000000000',\n",
              "       '2017-01-11T00:00:00.000000000', '2017-08-09T00:00:00.000000000',\n",
              "       '2017-05-29T00:00:00.000000000', '2017-06-13T00:00:00.000000000',\n",
              "       '2017-07-28T00:00:00.000000000', '2017-04-23T00:00:00.000000000',\n",
              "       '2017-07-04T00:00:00.000000000', '2017-10-19T00:00:00.000000000',\n",
              "       '2017-09-21T00:00:00.000000000', '2017-04-02T00:00:00.000000000',\n",
              "       '2017-08-18T00:00:00.000000000', '2017-08-21T00:00:00.000000000',\n",
              "       '2017-03-06T00:00:00.000000000', '2017-01-16T00:00:00.000000000',\n",
              "       '2017-02-22T00:00:00.000000000', '2017-03-09T00:00:00.000000000',\n",
              "       '2017-01-27T00:00:00.000000000', '2017-12-19T00:00:00.000000000',\n",
              "       '2017-04-16T00:00:00.000000000', '2017-10-04T00:00:00.000000000',\n",
              "       '2017-02-16T00:00:00.000000000', '2017-08-17T00:00:00.000000000',\n",
              "       '2017-02-01T00:00:00.000000000', '2017-12-08T00:00:00.000000000',\n",
              "       '2017-08-23T00:00:00.000000000', '2017-05-12T00:00:00.000000000',\n",
              "       '2017-03-04T00:00:00.000000000', '2017-05-28T00:00:00.000000000',\n",
              "       '2017-07-20T00:00:00.000000000', '2017-07-13T00:00:00.000000000',\n",
              "       '2017-10-14T00:00:00.000000000', '2017-06-12T00:00:00.000000000',\n",
              "       '2017-02-14T00:00:00.000000000', '2017-02-11T00:00:00.000000000',\n",
              "       '2017-10-23T00:00:00.000000000', '2017-06-28T00:00:00.000000000',\n",
              "       '2017-06-04T00:00:00.000000000', '2017-04-18T00:00:00.000000000',\n",
              "       '2017-09-16T00:00:00.000000000', '2017-05-15T00:00:00.000000000',\n",
              "       '2017-05-22T00:00:00.000000000', '2017-06-06T00:00:00.000000000',\n",
              "       '2017-12-09T00:00:00.000000000', '2017-07-18T00:00:00.000000000',\n",
              "       '2017-02-06T00:00:00.000000000', '2017-11-09T00:00:00.000000000',\n",
              "       '2017-06-21T00:00:00.000000000', '2017-07-17T00:00:00.000000000',\n",
              "       '2017-10-29T00:00:00.000000000', '2017-05-13T00:00:00.000000000',\n",
              "       '2017-10-06T00:00:00.000000000', '2017-02-04T00:00:00.000000000',\n",
              "       '2017-11-05T00:00:00.000000000', '2017-02-08T00:00:00.000000000',\n",
              "       '2017-11-06T00:00:00.000000000', '2017-09-20T00:00:00.000000000',\n",
              "       '2017-04-10T00:00:00.000000000', '2017-11-17T00:00:00.000000000',\n",
              "       '2017-12-07T00:00:00.000000000', '2017-12-12T00:00:00.000000000',\n",
              "       '2017-01-19T00:00:00.000000000', '2017-05-17T00:00:00.000000000',\n",
              "       '2017-02-19T00:00:00.000000000', '2017-09-19T00:00:00.000000000',\n",
              "       '2017-09-29T00:00:00.000000000', '2017-05-18T00:00:00.000000000',\n",
              "       '2017-07-01T00:00:00.000000000', '2017-12-29T00:00:00.000000000',\n",
              "       '2017-11-24T00:00:00.000000000', '2017-01-08T00:00:00.000000000',\n",
              "       '2017-08-24T00:00:00.000000000', '2017-07-12T00:00:00.000000000',\n",
              "       '2017-08-08T00:00:00.000000000', '2017-02-05T00:00:00.000000000',\n",
              "       '2017-07-16T00:00:00.000000000', '2017-09-27T00:00:00.000000000',\n",
              "       '2017-01-14T00:00:00.000000000', '2017-03-28T00:00:00.000000000',\n",
              "       '2017-08-29T00:00:00.000000000', '2017-09-24T00:00:00.000000000',\n",
              "       '2017-10-31T00:00:00.000000000', '2017-12-24T00:00:00.000000000',\n",
              "       '2017-09-03T00:00:00.000000000', '2017-09-17T00:00:00.000000000',\n",
              "       '2017-08-05T00:00:00.000000000', '2017-06-18T00:00:00.000000000',\n",
              "       '2017-09-07T00:00:00.000000000', '2017-09-25T00:00:00.000000000',\n",
              "       '2017-06-01T00:00:00.000000000', '2017-11-26T00:00:00.000000000',\n",
              "       '2017-09-11T00:00:00.000000000', '2017-01-06T00:00:00.000000000',\n",
              "       '2017-12-26T00:00:00.000000000', '2017-03-02T00:00:00.000000000',\n",
              "       '2017-05-30T00:00:00.000000000', '2017-06-25T00:00:00.000000000'],\n",
              "      dtype='datetime64[ns]')"
            ]
          },
          "metadata": {},
          "execution_count": 141
        }
      ]
    },
    {
      "cell_type": "code",
      "source": [
        "# column 5 --- online_order\n",
        "# Lets verify values for categorical variables\n",
        "transactions['online_order'].unique()"
      ],
      "metadata": {
        "colab": {
          "base_uri": "https://localhost:8080/"
        },
        "id": "pV_CZttVF3dz",
        "outputId": "c24b6b02-7498-4135-a196-de84a6a69ef4"
      },
      "execution_count": null,
      "outputs": [
        {
          "output_type": "execute_result",
          "data": {
            "text/plain": [
              "array([ 0.,  1., nan])"
            ]
          },
          "metadata": {},
          "execution_count": 144
        }
      ]
    },
    {
      "cell_type": "code",
      "source": [
        "# column 6 --- order status\n",
        "transactions['order_status'].unique()"
      ],
      "metadata": {
        "colab": {
          "base_uri": "https://localhost:8080/"
        },
        "id": "oghiPvgdJUD5",
        "outputId": "dacb240d-f91c-4cd8-f867-d9aa1f09f7bf"
      },
      "execution_count": null,
      "outputs": [
        {
          "output_type": "execute_result",
          "data": {
            "text/plain": [
              "array(['Approved', 'Cancelled'], dtype=object)"
            ]
          },
          "metadata": {},
          "execution_count": 145
        }
      ]
    },
    {
      "cell_type": "code",
      "source": [
        "# column 7 ---brand\n",
        "transactions['brand'].unique()"
      ],
      "metadata": {
        "colab": {
          "base_uri": "https://localhost:8080/"
        },
        "id": "D9K_TxqjJvnd",
        "outputId": "73922705-6c7d-4187-94f5-ee3005dd7fbf"
      },
      "execution_count": null,
      "outputs": [
        {
          "output_type": "execute_result",
          "data": {
            "text/plain": [
              "array(['Solex', 'Trek Bicycles', 'OHM Cycles', 'Norco Bicycles',\n",
              "       'Giant Bicycles', 'WeareA2B', nan], dtype=object)"
            ]
          },
          "metadata": {},
          "execution_count": 146
        }
      ]
    },
    {
      "cell_type": "code",
      "source": [
        "# column 8 ---product_line\n",
        "transactions['product_line'].unique()"
      ],
      "metadata": {
        "colab": {
          "base_uri": "https://localhost:8080/"
        },
        "id": "Zp56XPwnJ0-1",
        "outputId": "28dbb0ac-241a-45e6-b2f6-28588f8b7c0c"
      },
      "execution_count": null,
      "outputs": [
        {
          "output_type": "execute_result",
          "data": {
            "text/plain": [
              "array(['Standard', 'Road', 'Mountain', 'Touring', nan], dtype=object)"
            ]
          },
          "metadata": {},
          "execution_count": 147
        }
      ]
    },
    {
      "cell_type": "code",
      "source": [
        "# column 9 ---product_class\n",
        "transactions['product_class'].unique()"
      ],
      "metadata": {
        "id": "Z4yzbv6CKEI_",
        "colab": {
          "base_uri": "https://localhost:8080/"
        },
        "outputId": "131b61e2-114d-4806-9032-b47700209380"
      },
      "execution_count": null,
      "outputs": [
        {
          "output_type": "execute_result",
          "data": {
            "text/plain": [
              "array(['medium', 'low', 'high', nan], dtype=object)"
            ]
          },
          "metadata": {},
          "execution_count": 148
        }
      ]
    },
    {
      "cell_type": "code",
      "source": [
        "# column 10 ---product_size\n",
        "transactions['product_size'].unique()"
      ],
      "metadata": {
        "colab": {
          "base_uri": "https://localhost:8080/"
        },
        "id": "e0EZYbJWqDnG",
        "outputId": "54757299-7904-404e-d059-7bb791d4f283"
      },
      "execution_count": null,
      "outputs": [
        {
          "output_type": "execute_result",
          "data": {
            "text/plain": [
              "array(['medium', 'large', 'small', nan], dtype=object)"
            ]
          },
          "metadata": {},
          "execution_count": 149
        }
      ]
    },
    {
      "cell_type": "code",
      "source": [
        "# column 11\n",
        "transactions['list_price'].unique()"
      ],
      "metadata": {
        "colab": {
          "base_uri": "https://localhost:8080/"
        },
        "id": "UX2T0a1ULbZU",
        "outputId": "b1fb75d0-fdad-489c-f41a-b5f29c9fa040"
      },
      "execution_count": null,
      "outputs": [
        {
          "output_type": "execute_result",
          "data": {
            "text/plain": [
              "array([  71.49, 2091.47, 1793.43, 1198.46, 1765.3 , 1538.99,   60.34,\n",
              "       1292.84, 1071.23, 1231.15,  574.64,   71.16, 1057.51, 1661.92,\n",
              "       1555.58, 1311.44,  499.53, 1362.99, 1469.44,  360.4 ,  642.31,\n",
              "       1403.5 , 1720.7 ,  544.05, 1415.01, 1842.92, 1769.64, 2083.94,\n",
              "       1289.85, 1894.19, 1163.89, 1151.96,  235.63,  642.7 , 1240.31,\n",
              "       1635.3 ,  227.88,  363.01,  100.35, 1458.17, 1977.36,   12.01,\n",
              "       1216.14, 1129.13,  183.86,  912.52,  175.89, 1073.07, 1179.  ,\n",
              "        958.74,  792.9 ,  290.62,  752.64,  478.16, 1024.66, 1945.43,\n",
              "        441.49,  533.51,  569.56, 1148.64,  495.72, 1992.93, 1812.75,\n",
              "        945.04,  358.39, 1873.97, 1810.  , 1775.81, 1777.8 ,  795.34,\n",
              "        575.27, 1172.78, 1065.03, 1807.45, 1942.61, 1274.93, 1890.39,\n",
              "        980.37,  416.98, 1386.84,  742.54,  230.91,  688.63,  748.17,\n",
              "       1466.68, 1656.86,  202.62, 1036.59, 1228.07,  774.53,  586.45,\n",
              "       1762.96, 2005.66, 1483.2 ,  590.26, 1703.52, 1577.53, 1636.9 ,\n",
              "       1280.28, 1061.56,  850.89,  710.59,  543.39, 1227.34, 1972.01,\n",
              "        311.54,  205.84,  605.54,  756.31,  850.  ,  571.27,  294.35,\n",
              "        149.3 ,  447.25, 1348.41, 1021.43, 1163.77, 1294.66,  638.29,\n",
              "       1202.34,  326.86,  814.86, 1102.68, 1880.4 , 1541.62,  639.38,\n",
              "        402.14,  710.55, 1142.89,  813.6 , 1833.17, 1285.47, 1678.71,\n",
              "        437.51,  366.22, 1199.26, 1888.45,  237.44,  317.3 , 1527.25,\n",
              "       1563.94, 1146.42, 1192.33, 1672.07, 1099.68, 1281.6 , 1220.66,\n",
              "       1061.92, 1502.93,  398.08,  101.55, 1957.87, 1095.66, 1776.08,\n",
              "        752.36,  172.09, 1740.16, 1734.3 ,  240.72, 1958.34,  330.36,\n",
              "       1709.26,   60.72, 1193.44, 2037.77, 1349.47,   56.21,  126.36,\n",
              "       1300.96, 1697.27,   26.15,  875.99, 1862.82, 2028.26,  678.25,\n",
              "        890.28, 1084.18, 1107.08, 1790.31,  724.37, 1095.65, 1223.24,\n",
              "        541.44,  470.07, 2052.92, 1817.13, 1473.09, 1480.76, 2012.84,\n",
              "       1711.35,  753.76,  840.02, 1922.94, 1759.3 ,  330.91, 1029.36,\n",
              "       1487.8 , 1624.69, 1719.95,  899.52,  554.38,  960.51, 1978.64,\n",
              "         36.78,   74.89, 1091.51,  695.23, 1148.41,  750.25, 1997.68,\n",
              "       1392.76, 1294.37,  311.57,  899.92,  162.87, 1678.51, 1703.18,\n",
              "        675.28,  487.8 , 1292.13, 1578.52,  922.15,  122.74,  435.66,\n",
              "       1409.68, 1315.16, 1233.12,  758.73,  405.94, 1026.7 ,  687.9 ,\n",
              "        494.96, 1181.89,  465.71,  880.3 , 1989.3 , 1413.98,  483.12,\n",
              "        753.01,  883.91, 1216.4 ,   32.44,   16.08, 1184.  ,  587.02,\n",
              "       1919.23, 1660.68, 1224.41, 1535.84,  150.51, 2062.95, 1689.63,\n",
              "       1934.41,  889.05, 1617.32, 1788.93, 2064.08, 2020.14,  489.58,\n",
              "       2076.81, 2061.38,  877.44, 1374.2 ,  731.41, 1034.17,  156.56,\n",
              "        643.95,  517.53,  226.94, 1196.65,  634.57, 1571.83, 1999.54,\n",
              "       1562.88, 1150.59,  356.05, 1780.22, 1438.9 ,  966.91,  918.43,\n",
              "       1541.1 , 1476.88, 1023.39,  310.57,  356.39, 1695.42,  877.6 ,\n",
              "       1401.63, 2086.07, 1761.75, 1615.62,  744.54, 1098.18,  868.56,\n",
              "       1497.43,  867.92])"
            ]
          },
          "metadata": {},
          "execution_count": 150
        }
      ]
    },
    {
      "cell_type": "code",
      "source": [
        "# column 12\n",
        "transactions['standard_cost'].unique()\t"
      ],
      "metadata": {
        "colab": {
          "base_uri": "https://localhost:8080/"
        },
        "id": "z2KwxudBLbN2",
        "outputId": "8737b6c0-30a3-4f48-e250-4fee4b9f358e"
      },
      "execution_count": null,
      "outputs": [
        {
          "output_type": "execute_result",
          "data": {
            "text/plain": [
              "array([  53.62     ,  388.92     ,  248.82     ,  381.1      ,\n",
              "        709.48     ,  829.65     ,   45.26     ,   13.44     ,\n",
              "        380.74     ,  161.6      ,  459.71     ,   56.93     ,\n",
              "        154.4      , 1479.11     ,  818.01     , 1167.18     ,\n",
              "        388.72     ,   57.74     ,  596.55     ,  270.3      ,\n",
              "        513.85     ,  954.82     , 1531.42     ,  376.84     ,\n",
              "       1259.36     , 1105.75     ,  108.76     ,  675.03     ,\n",
              "         74.51     ,  598.76     ,  589.27     ,  649.49     ,\n",
              "        125.07     ,  211.37     ,  795.1      ,  993.66     ,\n",
              "        136.73     ,  290.41     ,   75.26     ,  874.9      ,\n",
              "       1759.85     ,    7.21     , 1082.36     ,  677.48     ,\n",
              "        137.9      ,  141.4      ,  131.92     ,  933.84     ,\n",
              "        707.4      ,  748.9      ,  594.68     ,  215.14     ,\n",
              "        205.36     ,  298.72     ,  614.8      ,  333.18     ,\n",
              "         84.99     ,  400.13     ,  528.43     ,  689.18     ,\n",
              "        297.43     ,  762.63     ,  582.48     ,  507.58     ,\n",
              "        215.03     ,  863.95     , 1610.9      , 1580.47     ,\n",
              "        820.78     ,  101.58     ,  431.45     , 1043.77     ,\n",
              "        230.09     ,  778.69     ,          nan,  764.96     ,\n",
              "        260.14     ,  234.43     ,  312.74     , 1234.29     ,\n",
              "        667.4      ,  173.18     ,  612.88     ,  448.9      ,\n",
              "        363.25     ,  151.96     ,  206.35     ,  400.91     ,\n",
              "        464.72     ,  521.94     ,  950.52     , 1203.4      ,\n",
              "         99.59     ,  525.33     , 1516.13     ,  826.51     ,\n",
              "         44.71     ,  829.51     ,  733.58     ,  407.54     ,\n",
              "        770.89     ,  312.7350159,  270.2999878,  667.4000244])"
            ]
          },
          "metadata": {},
          "execution_count": 151
        }
      ]
    },
    {
      "cell_type": "code",
      "source": [
        "# column 13\n",
        "transactions['product_first_sold_date'].unique()"
      ],
      "metadata": {
        "colab": {
          "base_uri": "https://localhost:8080/"
        },
        "id": "0W3Gtx4sMg6d",
        "outputId": "1f1f6b05-8fda-4ba4-ed4a-b970f5ccd10e"
      },
      "execution_count": null,
      "outputs": [
        {
          "output_type": "execute_result",
          "data": {
            "text/plain": [
              "array([41245., 41701., 36361., 36145., 42226., 39031., 34165., 39915.,\n",
              "       33455., 38216., 40784., 42172., 34527., 34586., 38193., 37873.,\n",
              "       38206., 33888., 37337., 36334., 42145., 42404., 34079., 41047.,\n",
              "       42560., 42710., 41922., 37539., 42688., 38991., 38647., 37874.,\n",
              "       34996., 33549., 38693., 37668., 41533., 41009., 40553., 39427.,\n",
              "       38482., 35470., 41434., 36367., 38750., 41848., 34244., 42696.,\n",
              "       38258., 41167., 40672., 35707., 42295., 33552., 35667., 33879.,\n",
              "       40670., 37626., 38339., 40303., 34143., 35160., 36668., 36498.,\n",
              "       34071., 40649., 37823., 36146., 42105., 34115., 35052., 33364.,\n",
              "       42218., 41345., 33429., 38859.,    nan, 36833., 37499., 41064.,\n",
              "       33259., 35560., 37838., 37698., 35378., 38573., 38002., 39526.,\n",
              "       39880., 40487., 40336., 40618., 34170., 40410., 42458., 39298.,\n",
              "       35455., 37220., 37659., 40779., 34556.])"
            ]
          },
          "metadata": {},
          "execution_count": 152
        }
      ]
    },
    {
      "cell_type": "markdown",
      "source": [
        "But it is date type column."
      ],
      "metadata": {
        "id": "AH5plIt7Mo7r"
      }
    },
    {
      "cell_type": "markdown",
      "source": [
        "From the above analysis all the data fields have proper values.\n",
        "\n",
        "\n"
      ],
      "metadata": {
        "id": "0JZ16Xsmq55c"
      }
    },
    {
      "cell_type": "markdown",
      "source": [
        "###4.2. Customer demographic\n",
        "\n",
        "---"
      ],
      "metadata": {
        "id": "miKUg7PfM4nj"
      }
    },
    {
      "cell_type": "code",
      "source": [
        "customer_demographic.info()"
      ],
      "metadata": {
        "colab": {
          "base_uri": "https://localhost:8080/"
        },
        "id": "_kNKCUecM5iA",
        "outputId": "0ee6f844-2cd9-4061-e3ac-e87f0d6f4641"
      },
      "execution_count": null,
      "outputs": [
        {
          "output_type": "stream",
          "name": "stdout",
          "text": [
            "<class 'pandas.core.frame.DataFrame'>\n",
            "RangeIndex: 4000 entries, 0 to 3999\n",
            "Data columns (total 13 columns):\n",
            " #   Column                               Non-Null Count  Dtype         \n",
            "---  ------                               --------------  -----         \n",
            " 0   customer_id                          4000 non-null   int64         \n",
            " 1   first_name                           4000 non-null   object        \n",
            " 2   last_name                            3875 non-null   object        \n",
            " 3   gender                               4000 non-null   object        \n",
            " 4   past_3_years_bike_related_purchases  4000 non-null   int64         \n",
            " 5   DOB                                  3913 non-null   datetime64[ns]\n",
            " 6   job_title                            3494 non-null   object        \n",
            " 7   job_industry_category                3344 non-null   object        \n",
            " 8   wealth_segment                       4000 non-null   object        \n",
            " 9   deceased_indicator                   4000 non-null   object        \n",
            " 10  default                              3698 non-null   object        \n",
            " 11  owns_car                             4000 non-null   object        \n",
            " 12  tenure                               3913 non-null   float64       \n",
            "dtypes: datetime64[ns](1), float64(1), int64(2), object(9)\n",
            "memory usage: 406.4+ KB\n"
          ]
        }
      ]
    },
    {
      "cell_type": "code",
      "source": [
        "# Now lets look at the values of the 13 variables\n",
        "# column1\n",
        "customer_demographic['first_name'].unique()"
      ],
      "metadata": {
        "colab": {
          "base_uri": "https://localhost:8080/"
        },
        "id": "O4RFtmauM6Jc",
        "outputId": "fdbd09c2-a8d0-4547-e3c1-ffbf9fd3c45d"
      },
      "execution_count": null,
      "outputs": [
        {
          "output_type": "execute_result",
          "data": {
            "text/plain": [
              "array(['Laraine', 'Eli', 'Arlin', ..., 'Stephie', 'Rusty', 'Sarene'],\n",
              "      dtype=object)"
            ]
          },
          "metadata": {},
          "execution_count": 179
        }
      ]
    },
    {
      "cell_type": "code",
      "source": [
        "# column2\n",
        "customer_demographic['last_name'].unique()"
      ],
      "metadata": {
        "colab": {
          "base_uri": "https://localhost:8080/"
        },
        "id": "1ENZq_2qM6F5",
        "outputId": "ec2ec0c2-900b-4a9e-d388-9d59843fda03"
      },
      "execution_count": null,
      "outputs": [
        {
          "output_type": "execute_result",
          "data": {
            "text/plain": [
              "array(['Medendorp', 'Bockman', 'Dearle', ..., 'Halgarth', 'Woolley',\n",
              "       'Oldland'], dtype=object)"
            ]
          },
          "metadata": {},
          "execution_count": 180
        }
      ]
    },
    {
      "cell_type": "code",
      "source": [
        "# column3\n",
        "customer_demographic['gender'].unique()"
      ],
      "metadata": {
        "colab": {
          "base_uri": "https://localhost:8080/"
        },
        "id": "otvmTV3uM6C-",
        "outputId": "37bb8077-80e7-4934-9fc4-3e50ea4eb73b"
      },
      "execution_count": null,
      "outputs": [
        {
          "output_type": "execute_result",
          "data": {
            "text/plain": [
              "array(['F', 'Male', 'Female', 'U', 'Femal', 'M'], dtype=object)"
            ]
          },
          "metadata": {},
          "execution_count": 181
        }
      ]
    },
    {
      "cell_type": "markdown",
      "source": [
        "The gender column has an error of spelling mistake which can be easily corrected"
      ],
      "metadata": {
        "id": "TObztYezOOFh"
      }
    },
    {
      "cell_type": "code",
      "source": [
        "# Corrections:\n",
        "customer_demographic[customer_demographic['gender'] == 'M'] = 'Male'\n",
        "customer_demographic[customer_demographic['gender'] == 'Femal'] = 'Female'\n",
        "customer_demographic[customer_demographic['gender'] == 'F'] = 'Female'"
      ],
      "metadata": {
        "id": "aFQh7LgiM6Ah"
      },
      "execution_count": null,
      "outputs": []
    },
    {
      "cell_type": "code",
      "source": [
        "# Lets chack again our corrections\n",
        "customer_demographic['gender'].unique()"
      ],
      "metadata": {
        "colab": {
          "base_uri": "https://localhost:8080/"
        },
        "id": "AU6FvOT4PDe3",
        "outputId": "bb7b3aab-484f-41b6-e3ed-81af446a66f4"
      },
      "execution_count": null,
      "outputs": [
        {
          "output_type": "execute_result",
          "data": {
            "text/plain": [
              "array(['Female', 'Male', 'U'], dtype=object)"
            ]
          },
          "metadata": {},
          "execution_count": 183
        }
      ]
    },
    {
      "cell_type": "code",
      "source": [
        "# column 4\n",
        "customer_demographic['past_3_years_bike_related_purchases'].unique()"
      ],
      "metadata": {
        "colab": {
          "base_uri": "https://localhost:8080/"
        },
        "id": "PXd3i3mNS8gO",
        "outputId": "e324697b-b3b3-453f-94d2-b73e79a75844"
      },
      "execution_count": null,
      "outputs": [
        {
          "output_type": "execute_result",
          "data": {
            "text/plain": [
              "array(['Female', 81, 61, 33, 56, 35, 6, 31, 97, 49, 99, 58, 38, 85, 91,\n",
              "       57, 79, 76, 72, 74, 43, 55, 12, 37, 5, 62, 18, 3, 17, 44, 59, 40,\n",
              "       46, 64, 24, 63, 98, 51, 68, 22, 48, 'Male', 26, 60, 47, 73, 21, 67,\n",
              "       16, 78, 30, 93, 94, 28, 20, 11, 1, 75, 41, 69, 19, 80, 83, 25, 54,\n",
              "       4, 23, 65, 88, 10, 77, 9, 82, 87, 27, 53, 32, 34, 71, 36, 90, 95,\n",
              "       8, 39, 2, 7, 42, 13, 45, 50, 14, 89, 84, 96, 70, 66, 0, 15, 86, 92,\n",
              "       29, 52], dtype=object)"
            ]
          },
          "metadata": {},
          "execution_count": 184
        }
      ]
    },
    {
      "cell_type": "code",
      "source": [
        "# Now lets look at the complete rows and column with this error\n",
        "customer_demographic[customer_demographic['past_3_years_bike_related_purchases'] == 'Female']"
      ],
      "metadata": {
        "colab": {
          "base_uri": "https://localhost:8080/",
          "height": 176
        },
        "id": "QDbGciZFPK5X",
        "outputId": "8a7d0684-84ef-4ba5-e3a1-6013eb5bd3bd"
      },
      "execution_count": null,
      "outputs": [
        {
          "output_type": "execute_result",
          "data": {
            "text/plain": [
              "   customer_id first_name last_name  gender  \\\n",
              "0       Female     Female    Female  Female   \n",
              "53      Female     Female    Female  Female   \n",
              "\n",
              "   past_3_years_bike_related_purchases     DOB job_title  \\\n",
              "0                               Female  Female    Female   \n",
              "53                              Female  Female    Female   \n",
              "\n",
              "   job_industry_category wealth_segment deceased_indicator default owns_car  \\\n",
              "0                 Female         Female             Female  Female   Female   \n",
              "53                Female         Female             Female  Female   Female   \n",
              "\n",
              "    tenure  \n",
              "0   Female  \n",
              "53  Female  "
            ],
            "text/html": [
              "\n",
              "  <div id=\"df-119c5f54-53df-4716-9d37-cad1cd4d0e5e\">\n",
              "    <div class=\"colab-df-container\">\n",
              "      <div>\n",
              "<style scoped>\n",
              "    .dataframe tbody tr th:only-of-type {\n",
              "        vertical-align: middle;\n",
              "    }\n",
              "\n",
              "    .dataframe tbody tr th {\n",
              "        vertical-align: top;\n",
              "    }\n",
              "\n",
              "    .dataframe thead th {\n",
              "        text-align: right;\n",
              "    }\n",
              "</style>\n",
              "<table border=\"1\" class=\"dataframe\">\n",
              "  <thead>\n",
              "    <tr style=\"text-align: right;\">\n",
              "      <th></th>\n",
              "      <th>customer_id</th>\n",
              "      <th>first_name</th>\n",
              "      <th>last_name</th>\n",
              "      <th>gender</th>\n",
              "      <th>past_3_years_bike_related_purchases</th>\n",
              "      <th>DOB</th>\n",
              "      <th>job_title</th>\n",
              "      <th>job_industry_category</th>\n",
              "      <th>wealth_segment</th>\n",
              "      <th>deceased_indicator</th>\n",
              "      <th>default</th>\n",
              "      <th>owns_car</th>\n",
              "      <th>tenure</th>\n",
              "    </tr>\n",
              "  </thead>\n",
              "  <tbody>\n",
              "    <tr>\n",
              "      <th>0</th>\n",
              "      <td>Female</td>\n",
              "      <td>Female</td>\n",
              "      <td>Female</td>\n",
              "      <td>Female</td>\n",
              "      <td>Female</td>\n",
              "      <td>Female</td>\n",
              "      <td>Female</td>\n",
              "      <td>Female</td>\n",
              "      <td>Female</td>\n",
              "      <td>Female</td>\n",
              "      <td>Female</td>\n",
              "      <td>Female</td>\n",
              "      <td>Female</td>\n",
              "    </tr>\n",
              "    <tr>\n",
              "      <th>53</th>\n",
              "      <td>Female</td>\n",
              "      <td>Female</td>\n",
              "      <td>Female</td>\n",
              "      <td>Female</td>\n",
              "      <td>Female</td>\n",
              "      <td>Female</td>\n",
              "      <td>Female</td>\n",
              "      <td>Female</td>\n",
              "      <td>Female</td>\n",
              "      <td>Female</td>\n",
              "      <td>Female</td>\n",
              "      <td>Female</td>\n",
              "      <td>Female</td>\n",
              "    </tr>\n",
              "  </tbody>\n",
              "</table>\n",
              "</div>\n",
              "      <button class=\"colab-df-convert\" onclick=\"convertToInteractive('df-119c5f54-53df-4716-9d37-cad1cd4d0e5e')\"\n",
              "              title=\"Convert this dataframe to an interactive table.\"\n",
              "              style=\"display:none;\">\n",
              "        \n",
              "  <svg xmlns=\"http://www.w3.org/2000/svg\" height=\"24px\"viewBox=\"0 0 24 24\"\n",
              "       width=\"24px\">\n",
              "    <path d=\"M0 0h24v24H0V0z\" fill=\"none\"/>\n",
              "    <path d=\"M18.56 5.44l.94 2.06.94-2.06 2.06-.94-2.06-.94-.94-2.06-.94 2.06-2.06.94zm-11 1L8.5 8.5l.94-2.06 2.06-.94-2.06-.94L8.5 2.5l-.94 2.06-2.06.94zm10 10l.94 2.06.94-2.06 2.06-.94-2.06-.94-.94-2.06-.94 2.06-2.06.94z\"/><path d=\"M17.41 7.96l-1.37-1.37c-.4-.4-.92-.59-1.43-.59-.52 0-1.04.2-1.43.59L10.3 9.45l-7.72 7.72c-.78.78-.78 2.05 0 2.83L4 21.41c.39.39.9.59 1.41.59.51 0 1.02-.2 1.41-.59l7.78-7.78 2.81-2.81c.8-.78.8-2.07 0-2.86zM5.41 20L4 18.59l7.72-7.72 1.47 1.35L5.41 20z\"/>\n",
              "  </svg>\n",
              "      </button>\n",
              "      \n",
              "  <style>\n",
              "    .colab-df-container {\n",
              "      display:flex;\n",
              "      flex-wrap:wrap;\n",
              "      gap: 12px;\n",
              "    }\n",
              "\n",
              "    .colab-df-convert {\n",
              "      background-color: #E8F0FE;\n",
              "      border: none;\n",
              "      border-radius: 50%;\n",
              "      cursor: pointer;\n",
              "      display: none;\n",
              "      fill: #1967D2;\n",
              "      height: 32px;\n",
              "      padding: 0 0 0 0;\n",
              "      width: 32px;\n",
              "    }\n",
              "\n",
              "    .colab-df-convert:hover {\n",
              "      background-color: #E2EBFA;\n",
              "      box-shadow: 0px 1px 2px rgba(60, 64, 67, 0.3), 0px 1px 3px 1px rgba(60, 64, 67, 0.15);\n",
              "      fill: #174EA6;\n",
              "    }\n",
              "\n",
              "    [theme=dark] .colab-df-convert {\n",
              "      background-color: #3B4455;\n",
              "      fill: #D2E3FC;\n",
              "    }\n",
              "\n",
              "    [theme=dark] .colab-df-convert:hover {\n",
              "      background-color: #434B5C;\n",
              "      box-shadow: 0px 1px 3px 1px rgba(0, 0, 0, 0.15);\n",
              "      filter: drop-shadow(0px 1px 2px rgba(0, 0, 0, 0.3));\n",
              "      fill: #FFFFFF;\n",
              "    }\n",
              "  </style>\n",
              "\n",
              "      <script>\n",
              "        const buttonEl =\n",
              "          document.querySelector('#df-119c5f54-53df-4716-9d37-cad1cd4d0e5e button.colab-df-convert');\n",
              "        buttonEl.style.display =\n",
              "          google.colab.kernel.accessAllowed ? 'block' : 'none';\n",
              "\n",
              "        async function convertToInteractive(key) {\n",
              "          const element = document.querySelector('#df-119c5f54-53df-4716-9d37-cad1cd4d0e5e');\n",
              "          const dataTable =\n",
              "            await google.colab.kernel.invokeFunction('convertToInteractive',\n",
              "                                                     [key], {});\n",
              "          if (!dataTable) return;\n",
              "\n",
              "          const docLinkHtml = 'Like what you see? Visit the ' +\n",
              "            '<a target=\"_blank\" href=https://colab.research.google.com/notebooks/data_table.ipynb>data table notebook</a>'\n",
              "            + ' to learn more about interactive tables.';\n",
              "          element.innerHTML = '';\n",
              "          dataTable['output_type'] = 'display_data';\n",
              "          await google.colab.output.renderOutput(dataTable, element);\n",
              "          const docLink = document.createElement('div');\n",
              "          docLink.innerHTML = docLinkHtml;\n",
              "          element.appendChild(docLink);\n",
              "        }\n",
              "      </script>\n",
              "    </div>\n",
              "  </div>\n",
              "  "
            ]
          },
          "metadata": {},
          "execution_count": 185
        }
      ]
    },
    {
      "cell_type": "markdown",
      "source": [
        "This might be a typing error which can be deleted."
      ],
      "metadata": {
        "id": "_wDoS73eT1bO"
      }
    },
    {
      "cell_type": "code",
      "source": [
        "# Lets try to mitigate this issue:\n",
        "customer_demographic.drop(customer_demographic.loc[customer_demographic['past_3_years_bike_related_purchases']=='Female'].index, inplace=True)"
      ],
      "metadata": {
        "id": "cVR8pxLdV26y"
      },
      "execution_count": null,
      "outputs": []
    },
    {
      "cell_type": "code",
      "source": [
        "# Lets check again:\n",
        "customer_demographic[customer_demographic['past_3_years_bike_related_purchases'] == 'Female']"
      ],
      "metadata": {
        "colab": {
          "base_uri": "https://localhost:8080/",
          "height": 113
        },
        "id": "TuyodsYBWIwQ",
        "outputId": "d97c85a7-adb0-4042-a09e-8b3db0b6ada0"
      },
      "execution_count": null,
      "outputs": [
        {
          "output_type": "execute_result",
          "data": {
            "text/plain": [
              "Empty DataFrame\n",
              "Columns: [customer_id, first_name, last_name, gender, past_3_years_bike_related_purchases, DOB, job_title, job_industry_category, wealth_segment, deceased_indicator, default, owns_car, tenure]\n",
              "Index: []"
            ],
            "text/html": [
              "\n",
              "  <div id=\"df-59f054cf-710d-4512-ab55-2eb0c52fb02c\">\n",
              "    <div class=\"colab-df-container\">\n",
              "      <div>\n",
              "<style scoped>\n",
              "    .dataframe tbody tr th:only-of-type {\n",
              "        vertical-align: middle;\n",
              "    }\n",
              "\n",
              "    .dataframe tbody tr th {\n",
              "        vertical-align: top;\n",
              "    }\n",
              "\n",
              "    .dataframe thead th {\n",
              "        text-align: right;\n",
              "    }\n",
              "</style>\n",
              "<table border=\"1\" class=\"dataframe\">\n",
              "  <thead>\n",
              "    <tr style=\"text-align: right;\">\n",
              "      <th></th>\n",
              "      <th>customer_id</th>\n",
              "      <th>first_name</th>\n",
              "      <th>last_name</th>\n",
              "      <th>gender</th>\n",
              "      <th>past_3_years_bike_related_purchases</th>\n",
              "      <th>DOB</th>\n",
              "      <th>job_title</th>\n",
              "      <th>job_industry_category</th>\n",
              "      <th>wealth_segment</th>\n",
              "      <th>deceased_indicator</th>\n",
              "      <th>default</th>\n",
              "      <th>owns_car</th>\n",
              "      <th>tenure</th>\n",
              "    </tr>\n",
              "  </thead>\n",
              "  <tbody>\n",
              "  </tbody>\n",
              "</table>\n",
              "</div>\n",
              "      <button class=\"colab-df-convert\" onclick=\"convertToInteractive('df-59f054cf-710d-4512-ab55-2eb0c52fb02c')\"\n",
              "              title=\"Convert this dataframe to an interactive table.\"\n",
              "              style=\"display:none;\">\n",
              "        \n",
              "  <svg xmlns=\"http://www.w3.org/2000/svg\" height=\"24px\"viewBox=\"0 0 24 24\"\n",
              "       width=\"24px\">\n",
              "    <path d=\"M0 0h24v24H0V0z\" fill=\"none\"/>\n",
              "    <path d=\"M18.56 5.44l.94 2.06.94-2.06 2.06-.94-2.06-.94-.94-2.06-.94 2.06-2.06.94zm-11 1L8.5 8.5l.94-2.06 2.06-.94-2.06-.94L8.5 2.5l-.94 2.06-2.06.94zm10 10l.94 2.06.94-2.06 2.06-.94-2.06-.94-.94-2.06-.94 2.06-2.06.94z\"/><path d=\"M17.41 7.96l-1.37-1.37c-.4-.4-.92-.59-1.43-.59-.52 0-1.04.2-1.43.59L10.3 9.45l-7.72 7.72c-.78.78-.78 2.05 0 2.83L4 21.41c.39.39.9.59 1.41.59.51 0 1.02-.2 1.41-.59l7.78-7.78 2.81-2.81c.8-.78.8-2.07 0-2.86zM5.41 20L4 18.59l7.72-7.72 1.47 1.35L5.41 20z\"/>\n",
              "  </svg>\n",
              "      </button>\n",
              "      \n",
              "  <style>\n",
              "    .colab-df-container {\n",
              "      display:flex;\n",
              "      flex-wrap:wrap;\n",
              "      gap: 12px;\n",
              "    }\n",
              "\n",
              "    .colab-df-convert {\n",
              "      background-color: #E8F0FE;\n",
              "      border: none;\n",
              "      border-radius: 50%;\n",
              "      cursor: pointer;\n",
              "      display: none;\n",
              "      fill: #1967D2;\n",
              "      height: 32px;\n",
              "      padding: 0 0 0 0;\n",
              "      width: 32px;\n",
              "    }\n",
              "\n",
              "    .colab-df-convert:hover {\n",
              "      background-color: #E2EBFA;\n",
              "      box-shadow: 0px 1px 2px rgba(60, 64, 67, 0.3), 0px 1px 3px 1px rgba(60, 64, 67, 0.15);\n",
              "      fill: #174EA6;\n",
              "    }\n",
              "\n",
              "    [theme=dark] .colab-df-convert {\n",
              "      background-color: #3B4455;\n",
              "      fill: #D2E3FC;\n",
              "    }\n",
              "\n",
              "    [theme=dark] .colab-df-convert:hover {\n",
              "      background-color: #434B5C;\n",
              "      box-shadow: 0px 1px 3px 1px rgba(0, 0, 0, 0.15);\n",
              "      filter: drop-shadow(0px 1px 2px rgba(0, 0, 0, 0.3));\n",
              "      fill: #FFFFFF;\n",
              "    }\n",
              "  </style>\n",
              "\n",
              "      <script>\n",
              "        const buttonEl =\n",
              "          document.querySelector('#df-59f054cf-710d-4512-ab55-2eb0c52fb02c button.colab-df-convert');\n",
              "        buttonEl.style.display =\n",
              "          google.colab.kernel.accessAllowed ? 'block' : 'none';\n",
              "\n",
              "        async function convertToInteractive(key) {\n",
              "          const element = document.querySelector('#df-59f054cf-710d-4512-ab55-2eb0c52fb02c');\n",
              "          const dataTable =\n",
              "            await google.colab.kernel.invokeFunction('convertToInteractive',\n",
              "                                                     [key], {});\n",
              "          if (!dataTable) return;\n",
              "\n",
              "          const docLinkHtml = 'Like what you see? Visit the ' +\n",
              "            '<a target=\"_blank\" href=https://colab.research.google.com/notebooks/data_table.ipynb>data table notebook</a>'\n",
              "            + ' to learn more about interactive tables.';\n",
              "          element.innerHTML = '';\n",
              "          dataTable['output_type'] = 'display_data';\n",
              "          await google.colab.output.renderOutput(dataTable, element);\n",
              "          const docLink = document.createElement('div');\n",
              "          docLink.innerHTML = docLinkHtml;\n",
              "          element.appendChild(docLink);\n",
              "        }\n",
              "      </script>\n",
              "    </div>\n",
              "  </div>\n",
              "  "
            ]
          },
          "metadata": {},
          "execution_count": 187
        }
      ]
    },
    {
      "cell_type": "code",
      "source": [
        "# column 5\n",
        "customer_demographic['DOB'].unique()"
      ],
      "metadata": {
        "colab": {
          "base_uri": "https://localhost:8080/"
        },
        "id": "Y7iEtvmCPK2a",
        "outputId": "10a863b9-2b2c-4452-b50f-8eb3048efbb0"
      },
      "execution_count": null,
      "outputs": [
        {
          "output_type": "execute_result",
          "data": {
            "text/plain": [
              "array([Timestamp('1980-12-16 00:00:00'), Timestamp('1954-01-20 00:00:00'),\n",
              "       Timestamp('1961-10-03 00:00:00'), ...,\n",
              "       Timestamp('1975-12-12 00:00:00'), Timestamp('2001-07-13 00:00:00'),\n",
              "       Timestamp('1991-11-05 00:00:00')], dtype=object)"
            ]
          },
          "metadata": {},
          "execution_count": 188
        }
      ]
    },
    {
      "cell_type": "code",
      "source": [
        "# column 6\n",
        "customer_demographic['job_title'].unique()"
      ],
      "metadata": {
        "colab": {
          "base_uri": "https://localhost:8080/"
        },
        "id": "9eQOrJNtPK0e",
        "outputId": "df0a4223-a3b5-4fdc-b838-52aec0b523a2"
      },
      "execution_count": null,
      "outputs": [
        {
          "output_type": "execute_result",
          "data": {
            "text/plain": [
              "array(['Administrative Officer', 'Recruiting Manager', nan,\n",
              "       'Senior Editor', 'Media Manager I',\n",
              "       'Business Systems Development Analyst', 'Senior Quality Engineer',\n",
              "       'Nuclear Power Engineer', 'Developer I', 'Account Executive',\n",
              "       'Junior Executive', 'Media Manager IV', 'Sales Associate',\n",
              "       'Professor', 'Geological Engineer', 'Project Manager',\n",
              "       'Safety Technician I', 'Research Assistant I',\n",
              "       'Accounting Assistant III', 'Editor', 'Research Nurse',\n",
              "       'Safety Technician III', 'Staff Accountant III', 'Legal Assistant',\n",
              "       'Product Engineer', 'Information Systems Manager',\n",
              "       'VP Quality Control', 'Social Worker', 'Senior Cost Accountant',\n",
              "       'Assistant Media Planner', 'Payment Adjustment Coordinator',\n",
              "       'Food Chemist', 'Accountant III', 'Director of Sales',\n",
              "       'Senior Financial Analyst', 'Registered Nurse',\n",
              "       'Biostatistician II', 'Computer Systems Analyst II',\n",
              "       'Software Test Engineer II', 'Paralegal', 'VP Sales', 'Male',\n",
              "       'Office Assistant III', 'Physical Therapy Assistant',\n",
              "       'Help Desk Operator', 'Web Developer II', 'Research Associate',\n",
              "       'Teacher', 'VP Product Management', 'Statistician II',\n",
              "       'Automation Specialist IV', 'Data Coordiator',\n",
              "       'Software Test Engineer III', 'Internal Auditor',\n",
              "       'Analyst Programmer', 'Occupational Therapist',\n",
              "       'Speech Pathologist', 'Quality Control Specialist',\n",
              "       'Civil Engineer', 'Software Engineer III',\n",
              "       'Community Outreach Specialist', 'Safety Technician IV',\n",
              "       'VP Accounting', 'General Manager', 'Nurse Practicioner',\n",
              "       'Automation Specialist II', 'Marketing Assistant',\n",
              "       'Marketing Manager', 'Staff Scientist', 'Assistant Professor',\n",
              "       'Budget/Accounting Analyst IV', 'Associate Professor',\n",
              "       'Graphic Designer', 'Administrative Assistant II',\n",
              "       'Compensation Analyst', 'Systems Administrator III',\n",
              "       'Financial Advisor', 'Chemical Engineer', 'Web Designer I',\n",
              "       'Senior Developer', 'Office Assistant II', 'Recruiter', 'Operator',\n",
              "       'Programmer Analyst III', 'Quality Engineer', 'Environmental Tech',\n",
              "       'Analog Circuit Design manager', 'Cost Accountant', 'Librarian',\n",
              "       'Structural Analysis Engineer', 'Pharmacist', 'Assistant Manager',\n",
              "       'Accountant I', 'Web Designer III', 'Geologist III',\n",
              "       'Software Test Engineer I', 'Structural Engineer',\n",
              "       'Safety Technician II', 'Web Developer III',\n",
              "       'Programmer Analyst II', 'Design Engineer', 'Statistician I',\n",
              "       'VP Marketing', 'Desktop Support Technician', 'Actuary',\n",
              "       'Database Administrator III', 'Electrical Engineer',\n",
              "       'Tax Accountant', 'Clinical Specialist',\n",
              "       'Database Administrator IV', 'Systems Administrator II',\n",
              "       'Chief Design Engineer', 'Account Coordinator', 'Programmer III',\n",
              "       'Administrative Assistant III', 'Nurse', 'Technical Writer',\n",
              "       'Staff Accountant II', 'Dental Hygienist', 'Sales Representative',\n",
              "       'Budget/Accounting Analyst III', 'Computer Systems Analyst IV',\n",
              "       'Executive Secretary', 'Geologist I', 'Financial Analyst',\n",
              "       'Accounting Assistant II', 'Senior Sales Associate',\n",
              "       'Database Administrator II', 'Engineer I',\n",
              "       'Budget/Accounting Analyst I', 'Developer IV',\n",
              "       'Database Administrator I', 'Environmental Specialist',\n",
              "       'Computer Systems Analyst I', 'Account Representative IV',\n",
              "       'Statistician IV', 'Human Resources Manager',\n",
              "       'GIS Technical Architect', 'Programmer IV',\n",
              "       'Accounting Assistant IV', 'Software Engineer IV', 'Programmer II',\n",
              "       'Engineer III', 'Software Consultant', 'Biostatistician IV',\n",
              "       'Help Desk Technician', 'Automation Specialist I', 'Developer III',\n",
              "       'Human Resources Assistant I', 'Geologist IV', 'Media Manager II',\n",
              "       'Statistician III', 'Engineer II', 'Health Coach II',\n",
              "       'Developer II', 'Systems Administrator I', 'Web Developer I',\n",
              "       'Software Engineer II', 'Accounting Assistant I',\n",
              "       'Research Assistant II', 'Programmer Analyst IV', 'Health Coach I',\n",
              "       'Accountant II', 'Automation Specialist III',\n",
              "       'Administrative Assistant I', 'Health Coach IV',\n",
              "       'Media Manager III', 'Account Representative III',\n",
              "       'Web Designer IV', 'Budget/Accounting Analyst II',\n",
              "       'Web Developer IV', 'Programmer I', 'Biostatistician III',\n",
              "       'Software Test Engineer IV', 'Research Assistant IV',\n",
              "       'Account Representative I', 'Accountant IV', 'Biostatistician I',\n",
              "       'Human Resources Assistant IV', 'Administrative Assistant IV',\n",
              "       'Office Assistant I', 'Human Resources Assistant II',\n",
              "       'Mechanical Systems Engineer', 'Engineer IV', 'Health Coach III',\n",
              "       'Office Assistant IV', 'Software Engineer I',\n",
              "       'Human Resources Assistant III', 'Staff Accountant I',\n",
              "       'Computer Systems Analyst III', 'Geologist II', 'Web Designer II',\n",
              "       'Staff Accountant IV', 'Account Representative II',\n",
              "       'Programmer Analyst I', 'Systems Administrator IV',\n",
              "       'Research Assistant III'], dtype=object)"
            ]
          },
          "metadata": {},
          "execution_count": 189
        }
      ]
    },
    {
      "cell_type": "code",
      "source": [
        "# column 7\n",
        "customer_demographic['job_industry_category'].unique()"
      ],
      "metadata": {
        "colab": {
          "base_uri": "https://localhost:8080/"
        },
        "id": "jd7DxB7KUofP",
        "outputId": "5eace4d3-43ee-4b2c-8b57-c6ee333e0061"
      },
      "execution_count": null,
      "outputs": [
        {
          "output_type": "execute_result",
          "data": {
            "text/plain": [
              "array(['Financial Services', 'Property', 'IT', nan, 'Retail',\n",
              "       'Argiculture', 'Manufacturing', 'Health', 'Telecommunications',\n",
              "       'Entertainment', 'Male'], dtype=object)"
            ]
          },
          "metadata": {},
          "execution_count": 190
        }
      ]
    },
    {
      "cell_type": "code",
      "source": [
        "# Lets check how many column has this issue:\n",
        "customer_demographic[customer_demographic['job_industry_category'] == 'Male']"
      ],
      "metadata": {
        "colab": {
          "base_uri": "https://localhost:8080/",
          "height": 145
        },
        "id": "jLXo7ZQ7W1Zm",
        "outputId": "27c561cf-07c1-475b-aae4-2d95b7296035"
      },
      "execution_count": null,
      "outputs": [
        {
          "output_type": "execute_result",
          "data": {
            "text/plain": [
              "   customer_id first_name last_name gender  \\\n",
              "56        Male       Male      Male   Male   \n",
              "\n",
              "   past_3_years_bike_related_purchases   DOB job_title job_industry_category  \\\n",
              "56                                Male  Male      Male                  Male   \n",
              "\n",
              "   wealth_segment deceased_indicator default owns_car tenure  \n",
              "56           Male               Male    Male     Male   Male  "
            ],
            "text/html": [
              "\n",
              "  <div id=\"df-a19295af-a0e8-4e83-b639-3b5472b2ca64\">\n",
              "    <div class=\"colab-df-container\">\n",
              "      <div>\n",
              "<style scoped>\n",
              "    .dataframe tbody tr th:only-of-type {\n",
              "        vertical-align: middle;\n",
              "    }\n",
              "\n",
              "    .dataframe tbody tr th {\n",
              "        vertical-align: top;\n",
              "    }\n",
              "\n",
              "    .dataframe thead th {\n",
              "        text-align: right;\n",
              "    }\n",
              "</style>\n",
              "<table border=\"1\" class=\"dataframe\">\n",
              "  <thead>\n",
              "    <tr style=\"text-align: right;\">\n",
              "      <th></th>\n",
              "      <th>customer_id</th>\n",
              "      <th>first_name</th>\n",
              "      <th>last_name</th>\n",
              "      <th>gender</th>\n",
              "      <th>past_3_years_bike_related_purchases</th>\n",
              "      <th>DOB</th>\n",
              "      <th>job_title</th>\n",
              "      <th>job_industry_category</th>\n",
              "      <th>wealth_segment</th>\n",
              "      <th>deceased_indicator</th>\n",
              "      <th>default</th>\n",
              "      <th>owns_car</th>\n",
              "      <th>tenure</th>\n",
              "    </tr>\n",
              "  </thead>\n",
              "  <tbody>\n",
              "    <tr>\n",
              "      <th>56</th>\n",
              "      <td>Male</td>\n",
              "      <td>Male</td>\n",
              "      <td>Male</td>\n",
              "      <td>Male</td>\n",
              "      <td>Male</td>\n",
              "      <td>Male</td>\n",
              "      <td>Male</td>\n",
              "      <td>Male</td>\n",
              "      <td>Male</td>\n",
              "      <td>Male</td>\n",
              "      <td>Male</td>\n",
              "      <td>Male</td>\n",
              "      <td>Male</td>\n",
              "    </tr>\n",
              "  </tbody>\n",
              "</table>\n",
              "</div>\n",
              "      <button class=\"colab-df-convert\" onclick=\"convertToInteractive('df-a19295af-a0e8-4e83-b639-3b5472b2ca64')\"\n",
              "              title=\"Convert this dataframe to an interactive table.\"\n",
              "              style=\"display:none;\">\n",
              "        \n",
              "  <svg xmlns=\"http://www.w3.org/2000/svg\" height=\"24px\"viewBox=\"0 0 24 24\"\n",
              "       width=\"24px\">\n",
              "    <path d=\"M0 0h24v24H0V0z\" fill=\"none\"/>\n",
              "    <path d=\"M18.56 5.44l.94 2.06.94-2.06 2.06-.94-2.06-.94-.94-2.06-.94 2.06-2.06.94zm-11 1L8.5 8.5l.94-2.06 2.06-.94-2.06-.94L8.5 2.5l-.94 2.06-2.06.94zm10 10l.94 2.06.94-2.06 2.06-.94-2.06-.94-.94-2.06-.94 2.06-2.06.94z\"/><path d=\"M17.41 7.96l-1.37-1.37c-.4-.4-.92-.59-1.43-.59-.52 0-1.04.2-1.43.59L10.3 9.45l-7.72 7.72c-.78.78-.78 2.05 0 2.83L4 21.41c.39.39.9.59 1.41.59.51 0 1.02-.2 1.41-.59l7.78-7.78 2.81-2.81c.8-.78.8-2.07 0-2.86zM5.41 20L4 18.59l7.72-7.72 1.47 1.35L5.41 20z\"/>\n",
              "  </svg>\n",
              "      </button>\n",
              "      \n",
              "  <style>\n",
              "    .colab-df-container {\n",
              "      display:flex;\n",
              "      flex-wrap:wrap;\n",
              "      gap: 12px;\n",
              "    }\n",
              "\n",
              "    .colab-df-convert {\n",
              "      background-color: #E8F0FE;\n",
              "      border: none;\n",
              "      border-radius: 50%;\n",
              "      cursor: pointer;\n",
              "      display: none;\n",
              "      fill: #1967D2;\n",
              "      height: 32px;\n",
              "      padding: 0 0 0 0;\n",
              "      width: 32px;\n",
              "    }\n",
              "\n",
              "    .colab-df-convert:hover {\n",
              "      background-color: #E2EBFA;\n",
              "      box-shadow: 0px 1px 2px rgba(60, 64, 67, 0.3), 0px 1px 3px 1px rgba(60, 64, 67, 0.15);\n",
              "      fill: #174EA6;\n",
              "    }\n",
              "\n",
              "    [theme=dark] .colab-df-convert {\n",
              "      background-color: #3B4455;\n",
              "      fill: #D2E3FC;\n",
              "    }\n",
              "\n",
              "    [theme=dark] .colab-df-convert:hover {\n",
              "      background-color: #434B5C;\n",
              "      box-shadow: 0px 1px 3px 1px rgba(0, 0, 0, 0.15);\n",
              "      filter: drop-shadow(0px 1px 2px rgba(0, 0, 0, 0.3));\n",
              "      fill: #FFFFFF;\n",
              "    }\n",
              "  </style>\n",
              "\n",
              "      <script>\n",
              "        const buttonEl =\n",
              "          document.querySelector('#df-a19295af-a0e8-4e83-b639-3b5472b2ca64 button.colab-df-convert');\n",
              "        buttonEl.style.display =\n",
              "          google.colab.kernel.accessAllowed ? 'block' : 'none';\n",
              "\n",
              "        async function convertToInteractive(key) {\n",
              "          const element = document.querySelector('#df-a19295af-a0e8-4e83-b639-3b5472b2ca64');\n",
              "          const dataTable =\n",
              "            await google.colab.kernel.invokeFunction('convertToInteractive',\n",
              "                                                     [key], {});\n",
              "          if (!dataTable) return;\n",
              "\n",
              "          const docLinkHtml = 'Like what you see? Visit the ' +\n",
              "            '<a target=\"_blank\" href=https://colab.research.google.com/notebooks/data_table.ipynb>data table notebook</a>'\n",
              "            + ' to learn more about interactive tables.';\n",
              "          element.innerHTML = '';\n",
              "          dataTable['output_type'] = 'display_data';\n",
              "          await google.colab.output.renderOutput(dataTable, element);\n",
              "          const docLink = document.createElement('div');\n",
              "          docLink.innerHTML = docLinkHtml;\n",
              "          element.appendChild(docLink);\n",
              "        }\n",
              "      </script>\n",
              "    </div>\n",
              "  </div>\n",
              "  "
            ]
          },
          "metadata": {},
          "execution_count": 191
        }
      ]
    },
    {
      "cell_type": "markdown",
      "source": [
        "Here the string Male is not fit for job category field"
      ],
      "metadata": {
        "id": "rS6AK46TRqtX"
      }
    },
    {
      "cell_type": "code",
      "source": [
        "# Lets delete this\n",
        "customer_demographic.drop(customer_demographic.loc[customer_demographic['job_industry_category']=='Male'].index, inplace=True)"
      ],
      "metadata": {
        "id": "FlG2RY68XOrT"
      },
      "execution_count": null,
      "outputs": []
    },
    {
      "cell_type": "code",
      "source": [
        "# Lets look for it again:\n",
        "customer_demographic[customer_demographic['job_industry_category'] == 'Male']"
      ],
      "metadata": {
        "colab": {
          "base_uri": "https://localhost:8080/",
          "height": 113
        },
        "id": "cAQgpU9kXpBj",
        "outputId": "0b02ecf2-5ca6-4192-896d-4206cf05f887"
      },
      "execution_count": null,
      "outputs": [
        {
          "output_type": "execute_result",
          "data": {
            "text/plain": [
              "Empty DataFrame\n",
              "Columns: [customer_id, first_name, last_name, gender, past_3_years_bike_related_purchases, DOB, job_title, job_industry_category, wealth_segment, deceased_indicator, default, owns_car, tenure]\n",
              "Index: []"
            ],
            "text/html": [
              "\n",
              "  <div id=\"df-3937aac5-8427-4f0b-961c-d9c0ce9ffa24\">\n",
              "    <div class=\"colab-df-container\">\n",
              "      <div>\n",
              "<style scoped>\n",
              "    .dataframe tbody tr th:only-of-type {\n",
              "        vertical-align: middle;\n",
              "    }\n",
              "\n",
              "    .dataframe tbody tr th {\n",
              "        vertical-align: top;\n",
              "    }\n",
              "\n",
              "    .dataframe thead th {\n",
              "        text-align: right;\n",
              "    }\n",
              "</style>\n",
              "<table border=\"1\" class=\"dataframe\">\n",
              "  <thead>\n",
              "    <tr style=\"text-align: right;\">\n",
              "      <th></th>\n",
              "      <th>customer_id</th>\n",
              "      <th>first_name</th>\n",
              "      <th>last_name</th>\n",
              "      <th>gender</th>\n",
              "      <th>past_3_years_bike_related_purchases</th>\n",
              "      <th>DOB</th>\n",
              "      <th>job_title</th>\n",
              "      <th>job_industry_category</th>\n",
              "      <th>wealth_segment</th>\n",
              "      <th>deceased_indicator</th>\n",
              "      <th>default</th>\n",
              "      <th>owns_car</th>\n",
              "      <th>tenure</th>\n",
              "    </tr>\n",
              "  </thead>\n",
              "  <tbody>\n",
              "  </tbody>\n",
              "</table>\n",
              "</div>\n",
              "      <button class=\"colab-df-convert\" onclick=\"convertToInteractive('df-3937aac5-8427-4f0b-961c-d9c0ce9ffa24')\"\n",
              "              title=\"Convert this dataframe to an interactive table.\"\n",
              "              style=\"display:none;\">\n",
              "        \n",
              "  <svg xmlns=\"http://www.w3.org/2000/svg\" height=\"24px\"viewBox=\"0 0 24 24\"\n",
              "       width=\"24px\">\n",
              "    <path d=\"M0 0h24v24H0V0z\" fill=\"none\"/>\n",
              "    <path d=\"M18.56 5.44l.94 2.06.94-2.06 2.06-.94-2.06-.94-.94-2.06-.94 2.06-2.06.94zm-11 1L8.5 8.5l.94-2.06 2.06-.94-2.06-.94L8.5 2.5l-.94 2.06-2.06.94zm10 10l.94 2.06.94-2.06 2.06-.94-2.06-.94-.94-2.06-.94 2.06-2.06.94z\"/><path d=\"M17.41 7.96l-1.37-1.37c-.4-.4-.92-.59-1.43-.59-.52 0-1.04.2-1.43.59L10.3 9.45l-7.72 7.72c-.78.78-.78 2.05 0 2.83L4 21.41c.39.39.9.59 1.41.59.51 0 1.02-.2 1.41-.59l7.78-7.78 2.81-2.81c.8-.78.8-2.07 0-2.86zM5.41 20L4 18.59l7.72-7.72 1.47 1.35L5.41 20z\"/>\n",
              "  </svg>\n",
              "      </button>\n",
              "      \n",
              "  <style>\n",
              "    .colab-df-container {\n",
              "      display:flex;\n",
              "      flex-wrap:wrap;\n",
              "      gap: 12px;\n",
              "    }\n",
              "\n",
              "    .colab-df-convert {\n",
              "      background-color: #E8F0FE;\n",
              "      border: none;\n",
              "      border-radius: 50%;\n",
              "      cursor: pointer;\n",
              "      display: none;\n",
              "      fill: #1967D2;\n",
              "      height: 32px;\n",
              "      padding: 0 0 0 0;\n",
              "      width: 32px;\n",
              "    }\n",
              "\n",
              "    .colab-df-convert:hover {\n",
              "      background-color: #E2EBFA;\n",
              "      box-shadow: 0px 1px 2px rgba(60, 64, 67, 0.3), 0px 1px 3px 1px rgba(60, 64, 67, 0.15);\n",
              "      fill: #174EA6;\n",
              "    }\n",
              "\n",
              "    [theme=dark] .colab-df-convert {\n",
              "      background-color: #3B4455;\n",
              "      fill: #D2E3FC;\n",
              "    }\n",
              "\n",
              "    [theme=dark] .colab-df-convert:hover {\n",
              "      background-color: #434B5C;\n",
              "      box-shadow: 0px 1px 3px 1px rgba(0, 0, 0, 0.15);\n",
              "      filter: drop-shadow(0px 1px 2px rgba(0, 0, 0, 0.3));\n",
              "      fill: #FFFFFF;\n",
              "    }\n",
              "  </style>\n",
              "\n",
              "      <script>\n",
              "        const buttonEl =\n",
              "          document.querySelector('#df-3937aac5-8427-4f0b-961c-d9c0ce9ffa24 button.colab-df-convert');\n",
              "        buttonEl.style.display =\n",
              "          google.colab.kernel.accessAllowed ? 'block' : 'none';\n",
              "\n",
              "        async function convertToInteractive(key) {\n",
              "          const element = document.querySelector('#df-3937aac5-8427-4f0b-961c-d9c0ce9ffa24');\n",
              "          const dataTable =\n",
              "            await google.colab.kernel.invokeFunction('convertToInteractive',\n",
              "                                                     [key], {});\n",
              "          if (!dataTable) return;\n",
              "\n",
              "          const docLinkHtml = 'Like what you see? Visit the ' +\n",
              "            '<a target=\"_blank\" href=https://colab.research.google.com/notebooks/data_table.ipynb>data table notebook</a>'\n",
              "            + ' to learn more about interactive tables.';\n",
              "          element.innerHTML = '';\n",
              "          dataTable['output_type'] = 'display_data';\n",
              "          await google.colab.output.renderOutput(dataTable, element);\n",
              "          const docLink = document.createElement('div');\n",
              "          docLink.innerHTML = docLinkHtml;\n",
              "          element.appendChild(docLink);\n",
              "        }\n",
              "      </script>\n",
              "    </div>\n",
              "  </div>\n",
              "  "
            ]
          },
          "metadata": {},
          "execution_count": 193
        }
      ]
    },
    {
      "cell_type": "code",
      "source": [
        "# column 8\n",
        "customer_demographic['wealth_segment'].unique()\n"
      ],
      "metadata": {
        "colab": {
          "base_uri": "https://localhost:8080/"
        },
        "id": "5OOs2gzMUobL",
        "outputId": "e688e3a1-d8c5-455b-820f-4b7c92b1ebac"
      },
      "execution_count": null,
      "outputs": [
        {
          "output_type": "execute_result",
          "data": {
            "text/plain": [
              "array(['Mass Customer', 'Affluent Customer', 'High Net Worth'],\n",
              "      dtype=object)"
            ]
          },
          "metadata": {},
          "execution_count": 194
        }
      ]
    },
    {
      "cell_type": "code",
      "source": [
        "# column 9\n",
        "customer_demographic['deceased_indicator'].unique()"
      ],
      "metadata": {
        "colab": {
          "base_uri": "https://localhost:8080/"
        },
        "id": "8auDHv03UoX9",
        "outputId": "f000ad2c-763a-4f8e-b72d-04b23ed108e8"
      },
      "execution_count": null,
      "outputs": [
        {
          "output_type": "execute_result",
          "data": {
            "text/plain": [
              "array(['N', 'Y'], dtype=object)"
            ]
          },
          "metadata": {},
          "execution_count": 195
        }
      ]
    },
    {
      "cell_type": "code",
      "source": [
        "# column 10\n",
        "customer_demographic['default'].unique()\t"
      ],
      "metadata": {
        "colab": {
          "base_uri": "https://localhost:8080/"
        },
        "id": "1L8qHvTAUoUO",
        "outputId": "a33fa1ac-15cf-42ee-a940-7550541d8ca5"
      },
      "execution_count": null,
      "outputs": [
        {
          "output_type": "execute_result",
          "data": {
            "text/plain": [
              "array([\"<script>alert('hi')</script>\",\n",
              "       datetime.datetime(2018, 2, 1, 0, 0),\n",
              "       '() { _; } >_[$($())] { touch /tmp/blns.shellshock2.fail; }',\n",
              "       'NIL', 'ðµ ð ð ð', 'â°â´âµâââ', '(â¯Â°â¡Â°ï¼â¯ï¸µ â»ââ»)', '0/0',\n",
              "       'ð©ð½', 'ÅâÂ´Â®â\\xa0Â¥Â¨ËÃ¸Ïââ', 'nil', -100, 'â°â´âµ', 'ð', 1e+96,\n",
              "       'ï¾ï½¥â¿ã¾â²(ï½¡ââ¿âï½¡)â±â¿ï½¥ï¾', 'Î©âÃ§ââ«ËÂµâ¤â¥Ã·',\n",
              "       'ÅâÂ´â°ËÃÂ¨ËÃâââ', 'ï¼ï¼ï¼',\n",
              "       '../../../../../../../../../../../etc/hosts',\n",
              "       '×Ö¸×Ö°×ªÖ¸×testØ§ÙØµÙØ\\xadØ§Øª Ø§ÙØªÙØ\\xadÙÙ', '<>?:\"{}|_+',\n",
              "       '\\'\\'\\'\\'\"', \",./;'[]\\\\-=\",\n",
              "       '() { 0; }; touch /tmp/blns.shellshock1.fail;',\n",
              "       'ì¬íê³¼íì ì´íì°êµ¬ì', 'testâ\\xa0testâ«',\n",
              "       '0ï¸â£ 1ï¸â£ 2ï¸â£ 3ï¸â£ 4ï¸â£ 5ï¸â£ 6ï¸â£ 7ï¸â£ 8ï¸â£ 9ï¸â£ ð',\n",
              "       nan, '!@#$%^&*()', \"'\",\n",
              "       'Ì¦HÍÌ¬Ì¤ÌÌ¤eÍ ÍÌÌ¥ÌÌ»ÍÌwÌhÌÌ¯ÍoÌÍÌÍÌ±Ì® ÒÌºÌÌÌÍWÌ·Ì¼Ì\\xadaÌºÌªÍiÌ¨ÍÍÌ\\xadÍÌ¯ÌtÌ¶Ì¼Ì®sÌÌÍÍ Ì\\xa0Ì«Ì\\xa0BÌ»ÍÍÍÍÌ³eÌµhÌµÌ¬ÍÌ«ÍiÌÌ¹ÍÌ³Ì³Ì®ÍÌ«nÍdÌ´ÌªÌÌ ÍÌ°ÍÌ©ÍÍÍÌ²TÍ¢ÍÌ¼ÍÌªhÍÍÌ®Ì»eÌ¬ÌÍÌ Ì¤Ì¹ÌWÍÍÍÌÌÍÍaÍÍÍÌ¹Ì¼',\n",
              "       '../../../../../../../../../../../etc/passwd%00', 'åè£½æ¼¢èª',\n",
              "       '`ââ¬â¹âºï¬ï¬â¡Â°Â·ââÂ±', 'ãã¼ãã£ã¼ã¸è¡ããªãã', 1,\n",
              "       'ZÌ®ÌÍÌ\\xa0ÍÍAÌ¥ÌÌÍÌ»ÌLÌ£ÍÍÌ¯Ì¹ÌÍGÌ»OÌ\\xadÌÌ®', 'ã',\n",
              "       '1;DROP TABLE users', -1, 'á', '(ï¾à²¥çà²¥ï¼ï¾ï»¿ â»ââ»', '00ËÆ$-',\n",
              "       '1/0', 'ï½ï½¨(Â´âï½â©', \"<svg><script>0<1>alert('XSS')</script>\",\n",
              "       'âââ', 'ã»(ï¿£âï¿£)ã»:*:', ',ãã»:*:ã»ãâ( â» Ï â» )ãã»:*:ã»ãâ',\n",
              "       'â¢', 'ç°ä¸\\xadããã«ããã¦ä¸ãã', '__ï¾(,_,*)', 'Ù¡Ù¢Ù£',\n",
              "       'Ø«Ù ÙÙØ³ Ø³ÙØ·Øª ÙØ¨Ø§ÙØªØ\\xadØ¯ÙØ¯Ø, Ø¬Ø²ÙØ±ØªÙ Ø¨Ø§Ø³ØªØ®Ø¯Ø§Ù Ø£Ù Ø¯ÙÙ. Ø¥Ø° ÙÙØ§Ø Ø§ÙØ³ØªØ§Ø± ÙØªÙØµÙØ¨ ÙØ§Ù. Ø£ÙÙÙ Ø§ÙØ·Ø§ÙÙØ§Ø Ø¨Ø±ÙØ·Ø§ÙÙØ§-ÙØ±ÙØ³Ø§ ÙØ¯ Ø£Ø®Ø°. Ø³ÙÙÙØ§ÙØ Ø¥ØªÙØ§ÙÙØ© Ø¨ÙÙ ÙØ§, ÙØ°ÙØ± Ø',\n",
              "       'ð¾ ð ð ð ð ð ð ð§', \"<img src=x onerror=alert('hi') />\",\n",
              "       'ã½à¼¼àºÙÍàºà¼½ï¾ ã½à¼¼àºÙÍàºà¼½ï¾', 'âð¿ ðªð¿ ðð¿ ðð¿ ðð¿ ðð¿',\n",
              "       100,\n",
              "       'TÌÌ\\xadÌºÌºoÍ Ì·iÌ²Ì¬ÍÌªÍnÌÌÍvÍÌÌÌÌ¦oÌ¶ÌÌ°Ì\\xa0keÍÍÌ®ÌºÌªÌ¹Ì±Ì¤ ÌtÍÌÍÌ³Ì£Ì»ÌªhÌ¼ÍÌ²Ì¦Ì³ÌÌ²eÍÌ£Ì°Ì¦Ì¬Í Ì¢Ì¼Ì»Ì±ÌhÍÍÍÍÌÌ£Ì²iÌ¦Ì²Ì£Ì°Ì¤vÌ»ÍeÌºÌ\\xadÌ³ÌªÌ°-mÌ¢iÍnÌÌºÌÌ²Ì¯Ì°dÌµÌ¼ÌÍÌ©Ì¼ÌÌ³ ÌÌ¥Ì±Ì³Ì\\xadrÌÌÌeÍpÍ\\xa0rÌ¼ÌÌ»Ì\\xadÌeÍÌºÌ\\xa0Ì£sÌ',\n",
              "       'ÃÃÃÃËÃÃï£¿ÃÃÃâ', '(ï½¡â â âï½¡)', 'é¨è½æ\\xa0¼',\n",
              "       \"ËÉnbá´lÉ ÉuÆÉÉ¯ ÇÉ¹olop ÊÇ ÇÉ¹oqÉl Ên Êunpá´pá´Éuá´ É¹odÉ¯ÇÊ poÉ¯sná´Ç op pÇs 'Êá´lÇ Æuá´Ésá´dá´pÉ É¹nÊÇÊÉÇsuoÉ 'ÊÇÉ¯É Êá´s É¹olop É¯nsdá´ É¯ÇÉ¹oË¥\",\n",
              "       'á\\xa0',\n",
              "       '×Ö¼Ö°×¨Öµ××©×Ö´××ª, ×Ö¼Ö¸×¨Ö¸× ×Ö±×Ö¹×Ö´××, ×Öµ×ª ×Ö·×©Ö¼×Ö¸×Ö·×Ö´×, ×Ö°×Öµ×ª ×Ö¸×Ö¸×¨Ö¶×¥',\n",
              "       'Â¡â¢Â£Â¢âÂ§Â¶â¢ÂªÂºââ\\xa0',\n",
              "       '/dev/null; touch /tmp/blns.fail ; echo', \"1'; DROP TABLE users--\",\n",
              "       'ð¾ ð ð ð ð ð ð ð',\n",
              "       'Ì¡ÍÍÌIÍÌÌÌ¦nÍÍÍvÌ®Ì«okÌ²Ì«ÌÍiÌÍÌ\\xadÌ¹Ì\\xa0ÌnÌ¡Ì»Ì®Ì£ÌºgÌ²ÍÍÌ\\xadÍÌ¬Í Ì°tÍÌ¦hÌÌ²eÌ¢Ì¤ ÍÌ¬Ì²ÍfÌ´ÌÍÌ£eÍÍeÌ£Ì¥Ì©lÍÍÍiÍ\\xa0ÍÍÌ¦nÍÍÌÍÌ³Ì®gÍ Ì¨oÍ¡ÍÌªfÌÌ£Ì¬ ÌÌÍÌÍÌ®cÒÍÌ«ÍÍÍÍÍhÌµÌ¤Ì£ÍÍaÍÌÌ¼ÍÍoÌ¼Ì£Ì¥sÍ¢Ì±ÍÌºÌÌ¦Ì».ÌÌ',\n",
              "       'â', 'Â¸ËÃâÄ±ËÃÂ¯ËÂ¿', '\"\\'', 'ì¸ëë°í\\xa0ë¥´', -0.5,\n",
              "       'ÌÌºÍÌ¹Ì¯ÍTÌ±Ì¤ÍÌ¥ÍÍhÍÌ²eÍÍÌ¼ÌÌÌ¼Ì£Í ÍÌÌ±Ì\\xa0ÍÍÍNÍ\\xa0ÍeÌÌ±zÌÌÌÌºÍpÌ¤ÌºÌ¹ÍÌ¯ÍeÍÌ\\xa0Ì»Ì\\xa0rÌ¨Ì¤ÍÌºÌÍÌÌdÍÌ\\xa0ÌÌ\\xadÌ¬ÌiÌ¦ÍÌ©ÍÍÌ¤aÌ\\xa0ÌÌ¬ÍÌnÍÍ Ì»ÌÌ°ÍÍhÌµÍiÌ³ÌvÌ¢ÍeÍÌ\\xadÍ-ÒÌ\\xadÌ©Ì¼ÍmÌ¤Ì\\xadÌ«iÍÍÌÌ¦nÌÍdÌ£Ì ÍÌ¯Ì²ÍoÌ¨ÌÌ¯Ì°Ì²',\n",
              "       0, 'â©testâ©', 'â£', 'Ã¥ÃâÆÂ©ËâËÂ¬â¦Ã¦',\n",
              "       'ç¤¾æç§å\\xad¸é¢èªå\\xad¸ç\\xa0ç©¶æ', 'âªâªtestâª', 'ï»¿',\n",
              "       'â¤ï¸ ð ð ð ð ð ð ð ð ð ð ð ð ð ð', 'â«testâ«', 'â¦testâ§',\n",
              "       '\\'\"\\'\\'\\'\\'\"', 'â¡', 'ð\\xa0ð\\xa0±ð\\xa0¹ð\\xa0±ð\\xa0±¸ð\\xa0²ð\\xa0³'],\n",
              "      dtype=object)"
            ]
          },
          "metadata": {},
          "execution_count": 196
        }
      ]
    },
    {
      "cell_type": "markdown",
      "source": [
        "* The default field may have an error related to character encoding. We also don't know what kind of information it had.\n",
        "* This issue can be solved while we are uploading our dataset.\n",
        "* Still need some understanding about the information from the datasource."
      ],
      "metadata": {
        "id": "s2SBwCnBXF23"
      }
    },
    {
      "cell_type": "code",
      "source": [
        "# column 11\n",
        "customer_demographic['owns_car'].unique()"
      ],
      "metadata": {
        "colab": {
          "base_uri": "https://localhost:8080/"
        },
        "id": "HYvzBNDoUoR0",
        "outputId": "b5e6a0ce-218b-49c8-d014-015789f1ce34"
      },
      "execution_count": null,
      "outputs": [
        {
          "output_type": "execute_result",
          "data": {
            "text/plain": [
              "array(['Yes', 'No'], dtype=object)"
            ]
          },
          "metadata": {},
          "execution_count": 197
        }
      ]
    },
    {
      "cell_type": "code",
      "source": [
        "# column 12\n",
        "customer_demographic['tenure'].unique()"
      ],
      "metadata": {
        "colab": {
          "base_uri": "https://localhost:8080/"
        },
        "id": "YixukcOiZI6y",
        "outputId": "e0d8f007-600e-43b9-8876-484c25c0c3c7"
      },
      "execution_count": null,
      "outputs": [
        {
          "output_type": "execute_result",
          "data": {
            "text/plain": [
              "array([16.0, 15.0, 7.0, 8.0, 13.0, 11.0, 20.0, 9.0, 6.0, 1.0, 18.0, 21.0,\n",
              "       12.0, 19.0, 14.0, 4.0, 22.0, 5.0, 17.0, 2.0, 3.0, 10.0, nan],\n",
              "      dtype=object)"
            ]
          },
          "metadata": {},
          "execution_count": 198
        }
      ]
    },
    {
      "cell_type": "code",
      "source": [
        "# column 13 \n",
        "customer_demographic['customer_id'].unique()"
      ],
      "metadata": {
        "colab": {
          "base_uri": "https://localhost:8080/"
        },
        "id": "4D4fZLfiSxvX",
        "outputId": "73959b07-56d2-4477-a160-d57cd8764923"
      },
      "execution_count": null,
      "outputs": [
        {
          "output_type": "execute_result",
          "data": {
            "text/plain": [
              "array([2, 3, 4, ..., 3998, 3999, 4000], dtype=object)"
            ]
          },
          "metadata": {},
          "execution_count": 199
        }
      ]
    },
    {
      "cell_type": "markdown",
      "source": [
        "### 4.3. Customer Address\n",
        "\n",
        "---"
      ],
      "metadata": {
        "id": "iF0sE7RVa_Mf"
      }
    },
    {
      "cell_type": "code",
      "source": [
        "# Lets check again for number of columns this dataset has:\n",
        "customer_address.info()"
      ],
      "metadata": {
        "colab": {
          "base_uri": "https://localhost:8080/"
        },
        "id": "tWV9q0nXbG0G",
        "outputId": "06178383-4bea-4077-e824-32188e0d6d6e"
      },
      "execution_count": null,
      "outputs": [
        {
          "output_type": "stream",
          "name": "stdout",
          "text": [
            "<class 'pandas.core.frame.DataFrame'>\n",
            "RangeIndex: 3999 entries, 0 to 3998\n",
            "Data columns (total 6 columns):\n",
            " #   Column              Non-Null Count  Dtype \n",
            "---  ------              --------------  ----- \n",
            " 0   customer_id         3999 non-null   int64 \n",
            " 1   address             3999 non-null   object\n",
            " 2   postcode            3999 non-null   int64 \n",
            " 3   state               3999 non-null   object\n",
            " 4   country             3999 non-null   object\n",
            " 5   property_valuation  3999 non-null   int64 \n",
            "dtypes: int64(3), object(3)\n",
            "memory usage: 187.6+ KB\n"
          ]
        }
      ]
    },
    {
      "cell_type": "code",
      "source": [
        "# column 1:\n",
        "customer_address['customer_id'].unique()"
      ],
      "metadata": {
        "colab": {
          "base_uri": "https://localhost:8080/"
        },
        "id": "_LZTNrwNbGxT",
        "outputId": "1ceeecba-2aa1-4060-a563-87cd6b95fe78"
      },
      "execution_count": null,
      "outputs": [
        {
          "output_type": "execute_result",
          "data": {
            "text/plain": [
              "array([   1,    2,    4, ..., 4001, 4002, 4003])"
            ]
          },
          "metadata": {},
          "execution_count": 201
        }
      ]
    },
    {
      "cell_type": "code",
      "source": [
        "# column 2\n",
        "customer_address['address'].unique()"
      ],
      "metadata": {
        "colab": {
          "base_uri": "https://localhost:8080/"
        },
        "id": "ucwLMfyVck5U",
        "outputId": "b16688d2-2f09-4df3-b34b-35a4cf1169f7"
      },
      "execution_count": null,
      "outputs": [
        {
          "output_type": "execute_result",
          "data": {
            "text/plain": [
              "array(['060 Morning Avenue', '6 Meadow Vale Court', '0 Holy Cross Court',\n",
              "       ..., '87 Crescent Oaks Alley', '8194 Lien Street',\n",
              "       '320 Acker Drive'], dtype=object)"
            ]
          },
          "metadata": {},
          "execution_count": 202
        }
      ]
    },
    {
      "cell_type": "code",
      "source": [
        "# column 3\n",
        "customer_address['postcode'].unique()"
      ],
      "metadata": {
        "colab": {
          "base_uri": "https://localhost:8080/"
        },
        "id": "mYxAlUFYckw-",
        "outputId": "19f859de-1a8a-4fa9-f686-789fd50a2677"
      },
      "execution_count": null,
      "outputs": [
        {
          "output_type": "execute_result",
          "data": {
            "text/plain": [
              "array([2016, 2153, 4211, 2448, 3216, 2210, 2650, 2023, 3044, 4557, 3799,\n",
              "       2760, 2428, 3331, 3058, 2135, 2233, 2444, 4413, 4740, 3218, 4868,\n",
              "       4116, 2519, 2756, 2170, 4005, 4127, 2535, 4726, 4805, 2212, 2207,\n",
              "       3350, 3931, 4018, 4670, 2480, 3212, 2322, 3198, 2047, 4503, 2145,\n",
              "       4350, 2142, 2029, 2127, 4280, 2166, 2046, 2026, 2765, 2749, 2745,\n",
              "       3752, 2217, 2230, 3046, 3183, 2070, 2213, 4208, 2774, 4133, 4213,\n",
              "       4170, 2073, 3561, 2330, 3977, 2204, 2086, 2226, 2075, 2038, 2069,\n",
              "       2100, 3133, 3070, 2777, 2125, 2766, 2209, 2160, 2065, 2150, 2168,\n",
              "       4171, 2155, 2517, 2096, 2750, 2093, 3204, 4300, 3844, 4226, 3192,\n",
              "       2485, 2097, 4817, 2516, 3074, 4508, 4405, 2452, 2205, 4132, 4744,\n",
              "       2158, 3201, 4178, 2112, 2033, 4401, 3186, 4017, 2315, 2285, 2219,\n",
              "       4509, 2759, 2747, 2227, 2025, 3191, 3025, 2263, 2154, 2119, 3016,\n",
              "       4113, 2032, 4352, 3020, 2116, 3057, 2099, 3749, 2148, 3145, 2021,\n",
              "       2333, 2783, 2280, 4120, 3638, 2074, 2880, 2430, 4560, 2088, 2220,\n",
              "       3031, 2250, 2261, 3196, 4680, 3143, 2063, 3021, 2138, 4811, 2085,\n",
              "       3084, 3170, 2066, 4078, 2222, 3152, 2159, 4655, 4220, 4012, 2015,\n",
              "       2776, 3011, 2761, 2502, 2110, 2566, 2506, 2508, 2036, 2018, 3666,\n",
              "       4514, 2525, 4152, 2200, 3023, 3500, 2283, 2102, 2040, 2304, 2340,\n",
              "       3580, 3355, 2287, 2324, 2323, 2320, 2346, 2031, 2064, 2176, 3195,\n",
              "       2010, 2768, 2752, 3802, 3071, 4735, 3081, 3205, 2165, 3125, 4214,\n",
              "       2030, 2767, 2798, 2117, 4551, 3064, 3810, 4151, 2830, 3030, 4812,\n",
              "       2141, 3029, 2173, 3199, 4506, 2035, 3340, 3182, 2450, 2216, 3796,\n",
              "       3197, 2232, 2365, 4701, 4210, 2223, 4122, 2515, 3437, 3338, 2203,\n",
              "       3356, 3223, 3032, 3105, 3101, 2763, 2089, 2126, 2147, 2251, 3127,\n",
              "       3087, 3131, 3134, 2193, 4055, 2530, 4217, 4020, 2179, 3130, 4570,\n",
              "       3215, 3165, 3936, 2265, 3034, 2062, 2162, 3033, 2144, 3805, 2642,\n",
              "       3228, 3444, 2076, 4124, 4305, 2579, 2835, 3337, 2536, 2770, 2646,\n",
              "       4558, 2211, 2570, 4552, 3082, 2360, 4223, 4370, 3150, 2549, 3040,\n",
              "       4209, 4173, 2068, 3806, 2259, 2260, 4074, 4215, 3008, 2748, 2567,\n",
              "       3015, 4221, 3121, 4870, 2118, 2050, 2120, 3812, 3111, 3012, 2197,\n",
              "       3162, 2037, 3141, 3178, 3564, 3550, 3775, 3004, 3185, 2447, 3910,\n",
              "       3621, 4702, 2133, 3075, 3911, 2487, 4123, 2151, 3156, 3126, 2027,\n",
              "       3124, 2564, 2049, 3690, 3282, 2576, 3108, 4165, 2218, 2190, 2337,\n",
              "       2307, 2121, 2716, 3168, 3076, 2478, 2560, 2087, 4505, 2630, 2225,\n",
              "       3013, 3136, 2111, 2106, 3930, 2291, 2305, 2300, 4179, 2539, 3207,\n",
              "       4340, 3137, 3068, 4580, 2041, 4504, 2306, 4075, 3975, 4114, 4341,\n",
              "       4022, 4820, 3028, 4035, 2326, 3429, 4218, 2380, 3171, 2565, 3850,\n",
              "       3807, 4800, 2577, 2199, 2134, 4053, 2800, 2048, 2194, 2557, 2548,\n",
              "       2262, 2463, 2481, 2072, 3155, 3095, 4207, 4110, 2017, 2769, 4562,\n",
              "       2571, 3480, 3551, 2753, 3093, 4615, 3174, 2192, 2290, 3073, 4810,\n",
              "       4121, 2229, 4118, 2594, 3750, 4019, 2540, 2293, 2143, 3630, 2164,\n",
              "       4869, 2137, 2354, 4814, 2282, 2292, 2171, 2077, 4873, 4006, 2754,\n",
              "       2152, 2067, 2122, 3976, 2000, 3175, 2156, 2228, 3187, 2680, 2527,\n",
              "       2163, 2336, 4415, 3139, 3147, 3623, 4356, 2034, 2196, 2177, 2234,\n",
              "       2537, 4720, 3765, 2486, 4511, 2795, 3188, 3730, 3060, 4131, 2518,\n",
              "       3158, 2477, 2195, 2575, 3400, 3037, 4507, 2113, 2443, 3177, 2641,\n",
              "       4212, 3241, 3428, 4227, 4034, 2558, 2460, 3173, 2289, 4500, 4825,\n",
              "       4161, 3757, 2871, 2146, 4380, 3024, 3934, 3109, 2136, 2484, 3225,\n",
              "       4068, 2214, 3809, 2454, 4556, 4573, 2131, 3184, 2619, 3138, 3441,\n",
              "       2101, 4510, 2647, 2731, 3284, 2573, 2206, 4815, 2526, 4502, 2710,\n",
              "       2090, 3038, 3142, 3442, 4064, 2529, 3039, 2061, 3644, 2104, 2044,\n",
              "       3043, 2873, 2541, 2321, 2079, 3072, 2007, 2620, 2231, 2580, 2020,\n",
              "       2852, 3677, 4818, 4519, 4806, 4610, 4512, 4306, 4304, 4301, 4205,\n",
              "       4051, 4130, 4115, 4164, 4128, 3940, 3939, 3840, 3804, 2582, 3747,\n",
              "       3620, 3151, 3380, 3280, 3224, 3222, 3226, 3190, 3169, 3163, 3161,\n",
              "       3791, 4119, 3140, 3818, 3106, 3099, 3754, 3756, 3061, 3048, 3036,\n",
              "       3107, 3022, 3049, 2870, 2762, 2794, 2773, 2640, 2439, 2528, 2440,\n",
              "       2325, 2161, 2848, 4878, 2775, 2224, 3219, 2441, 4877, 3264, 2681,\n",
              "       3018, 2043, 2107, 4567, 4011, 2221, 2028, 3941, 3146, 3585, 4105,\n",
              "       2094, 2284, 3808, 3149, 3114, 3352, 3129, 4154, 2114, 4721, 2011,\n",
              "       4157, 4799, 2095, 3103, 4224, 4344, 2009, 3144, 3181, 2665, 2474,\n",
              "       3166, 2820, 4059, 4160, 3189, 4030, 2042, 4032, 4103, 2868, 2358,\n",
              "       2449, 2299, 4014, 3056, 2281, 4007, 2318, 3821, 4109, 4216, 2470,\n",
              "       2563, 2264, 2445, 4060, 3214, 4077, 2327, 4104, 3172, 2505, 2115,\n",
              "       2469, 2705, 3088, 3966, 3912, 2446, 2810, 4061, 3083, 3915, 4153,\n",
              "       2267, 3458, 4421, 3505, 3006, 4037, 3918, 2335, 3079, 2400, 3148,\n",
              "       2092, 2714, 3555, 2008, 3631, 4228, 4101, 2022, 4568, 3115, 4343,\n",
              "       3116, 2208, 4125, 4070, 3194, 2533, 2758, 4159, 4879, 2500, 2298,\n",
              "       2178, 3240, 2671, 4455, 4650, 3160, 3250, 3342, 3523, 2350, 2785,\n",
              "       3995, 3351, 3000, 2462, 3041, 3260, 2534, 4565, 3618, 2780, 2167,\n",
              "       3279, 4106, 4700, 2799, 4564, 4860, 3922, 2256, 4031, 2779, 4660,\n",
              "       4073, 3067, 2843, 3027, 3066, 2572, 2128, 4054, 4069, 2343, 3377,\n",
              "       3065, 2295, 4270, 2316, 3179, 3933, 4883, 2081, 2471, 3053, 4285,\n",
              "       2546, 4275, 3132, 3042, 3085, 2071, 2821, 4390, 3793, 3128, 2869,\n",
              "       3616, 4750, 3059, 3153, 2130, 3213, 3862, 3610, 4102, 2060, 3786,\n",
              "       2019, 2191, 2713, 3094, 3122, 2850, 4272, 3051, 3634, 3803, 4515,\n",
              "       2700, 3123, 2294, 3978, 3305, 2198, 2778, 4730, 4155, 4000, 4225,\n",
              "       3556, 4575, 4715, 2429, 4555, 2132, 2045, 2024, 4076, 3321, 3193,\n",
              "       2390, 2806, 2257, 4172, 3078, 3104, 3860, 2658, 3052, 4163, 2590,\n",
              "       2550, 2877, 4311, 3089])"
            ]
          },
          "metadata": {},
          "execution_count": 203
        }
      ]
    },
    {
      "cell_type": "code",
      "source": [
        "# column 4\n",
        "customer_address['state'].unique()"
      ],
      "metadata": {
        "colab": {
          "base_uri": "https://localhost:8080/"
        },
        "id": "-SXHmZfpckoY",
        "outputId": "8fb96dd8-7c1c-444f-dee5-f2d3dc81f564"
      },
      "execution_count": null,
      "outputs": [
        {
          "output_type": "execute_result",
          "data": {
            "text/plain": [
              "array(['New South Wales', 'QLD', 'VIC', 'NSW', 'Victoria'], dtype=object)"
            ]
          },
          "metadata": {},
          "execution_count": 204
        }
      ]
    },
    {
      "cell_type": "code",
      "source": [
        "# column 5\n",
        "customer_address['country'].unique()"
      ],
      "metadata": {
        "colab": {
          "base_uri": "https://localhost:8080/"
        },
        "id": "2AeXV4gsckgR",
        "outputId": "29471572-e47b-4427-bdc2-9d362b954289"
      },
      "execution_count": null,
      "outputs": [
        {
          "output_type": "execute_result",
          "data": {
            "text/plain": [
              "array(['Australia'], dtype=object)"
            ]
          },
          "metadata": {},
          "execution_count": 205
        }
      ]
    },
    {
      "cell_type": "code",
      "source": [
        "# column 6\n",
        "customer_address['property_valuation'].unique()"
      ],
      "metadata": {
        "colab": {
          "base_uri": "https://localhost:8080/"
        },
        "id": "4k97PoyZckXy",
        "outputId": "bbbae517-f332-48f2-8eb1-c9266cfbc1ee"
      },
      "execution_count": null,
      "outputs": [
        {
          "output_type": "execute_result",
          "data": {
            "text/plain": [
              "array([10,  9,  4, 12,  8,  6,  7,  3,  5, 11,  1,  2])"
            ]
          },
          "metadata": {},
          "execution_count": 206
        }
      ]
    },
    {
      "cell_type": "markdown",
      "source": [
        "The customer address dataset have all proper values"
      ],
      "metadata": {
        "id": "aE4AtiA1db15"
      }
    },
    {
      "cell_type": "markdown",
      "source": [
        "### 5.Relevancy\n",
        "* It involves looking at information about the data items in another words metadata."
      ],
      "metadata": {
        "id": "tNfnDQiknZKf"
      }
    },
    {
      "cell_type": "markdown",
      "source": [
        "### 6.Validity\n",
        "*   This stage involves looking for fields having allowable values \n",
        "\n",
        "\n"
      ],
      "metadata": {
        "id": "bEjgRLn4ncYC"
      }
    },
    {
      "cell_type": "markdown",
      "source": [
        "* We alerady have looked at the transaction dataset which states that product_first_sold_date have in-valid values\n",
        "* Customer demograohic dataset have a default column which has character encoding issues.\n",
        "* Customer Address have all valid values"
      ],
      "metadata": {
        "id": "Jr8hyOcCqjhO"
      }
    },
    {
      "cell_type": "markdown",
      "source": [
        "### 7.Uniqueness\n",
        "* This phase involves looking at the duplicate values in the dataset."
      ],
      "metadata": {
        "id": "gkmZaweZnfRi"
      }
    },
    {
      "cell_type": "markdown",
      "source": [
        "### 7.1.Transactions dataset\n",
        "\n",
        "\n",
        "---"
      ],
      "metadata": {
        "id": "L9T4CYZ4HqsD"
      }
    },
    {
      "cell_type": "code",
      "source": [
        "# Lets get forward looking at the dupicated values\n",
        "transactions.duplicated().sum()"
      ],
      "metadata": {
        "colab": {
          "base_uri": "https://localhost:8080/"
        },
        "id": "Hitj1yUBnbzh",
        "outputId": "423c1c5c-1da1-4717-faf6-173ab8a9a7fa"
      },
      "execution_count": null,
      "outputs": [
        {
          "output_type": "execute_result",
          "data": {
            "text/plain": [
              "0"
            ]
          },
          "metadata": {},
          "execution_count": 207
        }
      ]
    },
    {
      "cell_type": "markdown",
      "source": [
        "This suggest our dataset Transactions is free from duplicated values.\n",
        "\n"
      ],
      "metadata": {
        "id": "wt1CiGYHvn8o"
      }
    },
    {
      "cell_type": "markdown",
      "source": [
        "### 7.2. Customer demographic dataset\n",
        "---"
      ],
      "metadata": {
        "id": "9QHd10AEH9eI"
      }
    },
    {
      "cell_type": "code",
      "source": [
        "# Lets look for duplicated value at our customr demographic dataset\n",
        "customer_demographic.duplicated().sum()"
      ],
      "metadata": {
        "colab": {
          "base_uri": "https://localhost:8080/"
        },
        "id": "7p3uJhcS7Bcv",
        "outputId": "59e15e1f-e11e-4315-bc43-2f9636abef1b"
      },
      "execution_count": null,
      "outputs": [
        {
          "output_type": "execute_result",
          "data": {
            "text/plain": [
              "0"
            ]
          },
          "metadata": {},
          "execution_count": 209
        }
      ]
    },
    {
      "cell_type": "markdown",
      "source": [
        "Customer demographic dataset have no duplicated values."
      ],
      "metadata": {
        "id": "aZTtvQtxIYKt"
      }
    },
    {
      "cell_type": "markdown",
      "source": [
        "### 7.3. Customer address\n",
        "\n",
        "---\n",
        "\n"
      ],
      "metadata": {
        "id": "KdZWhicLIgQK"
      }
    },
    {
      "cell_type": "code",
      "source": [
        "# Lets have a look at our final dataset for duplicate values\n",
        "customer_address.duplicated().sum()"
      ],
      "metadata": {
        "colab": {
          "base_uri": "https://localhost:8080/"
        },
        "id": "ScyKzzKLIVwc",
        "outputId": "103bd0bd-730c-492c-8425-d5651fc00596"
      },
      "execution_count": null,
      "outputs": [
        {
          "output_type": "execute_result",
          "data": {
            "text/plain": [
              "0"
            ]
          },
          "metadata": {},
          "execution_count": 210
        }
      ]
    },
    {
      "cell_type": "markdown",
      "source": [
        "This dataset as well had no duplicated values."
      ],
      "metadata": {
        "id": "bOvAVwjwI19M"
      }
    },
    {
      "cell_type": "markdown",
      "source": [
        "### 8.Currency\n",
        "* To check is value up to date"
      ],
      "metadata": {
        "id": "OwuMAOiWx6VA"
      }
    },
    {
      "cell_type": "markdown",
      "source": [
        "### 8.1. Transaction"
      ],
      "metadata": {
        "id": "eRG9eXOoy7gM"
      }
    },
    {
      "cell_type": "code",
      "source": [
        "# Lets look at the earliest or first date of transaction\n",
        "transactions['transaction_date'].min()"
      ],
      "metadata": {
        "colab": {
          "base_uri": "https://localhost:8080/"
        },
        "id": "a8ZKfWj3y6_u",
        "outputId": "2ef17a8d-abf3-42d5-e004-e8c3dccfe602"
      },
      "execution_count": null,
      "outputs": [
        {
          "output_type": "execute_result",
          "data": {
            "text/plain": [
              "Timestamp('2017-01-01 00:00:00')"
            ]
          },
          "metadata": {},
          "execution_count": 213
        }
      ]
    },
    {
      "cell_type": "markdown",
      "source": [
        "The first date of transaction is 1st January 2017"
      ],
      "metadata": {
        "id": "ahgBRN0C0b4o"
      }
    },
    {
      "cell_type": "code",
      "source": [
        "# Lets look at the recent or the latest date of \n",
        "transactions['transaction_date'].max()"
      ],
      "metadata": {
        "colab": {
          "base_uri": "https://localhost:8080/"
        },
        "id": "vlhzQJYdx-AT",
        "outputId": "c834e7bd-09a2-49cf-ab82-6def809c2c2b"
      },
      "execution_count": null,
      "outputs": [
        {
          "output_type": "execute_result",
          "data": {
            "text/plain": [
              "Timestamp('2017-12-30 00:00:00')"
            ]
          },
          "metadata": {},
          "execution_count": 214
        }
      ]
    },
    {
      "cell_type": "markdown",
      "source": [
        "The latest date of transaction is 30th December 2017"
      ],
      "metadata": {
        "id": "CgPs7fVC0l-i"
      }
    },
    {
      "cell_type": "code",
      "source": [],
      "metadata": {
        "id": "SzESv0Ga1XYj"
      },
      "execution_count": null,
      "outputs": []
    }
  ]
}